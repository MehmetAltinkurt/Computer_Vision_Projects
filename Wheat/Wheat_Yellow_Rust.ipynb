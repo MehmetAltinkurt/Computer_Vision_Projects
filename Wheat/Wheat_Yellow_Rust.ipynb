{
  "nbformat": 4,
  "nbformat_minor": 0,
  "metadata": {
    "colab": {
      "provenance": [],
      "authorship_tag": "ABX9TyOhvroWjwqr3IBQL5Wyy5w/",
      "include_colab_link": true
    },
    "kernelspec": {
      "name": "python3",
      "display_name": "Python 3"
    },
    "language_info": {
      "name": "python"
    },
    "accelerator": "GPU",
    "gpuClass": "standard"
  },
  "cells": [
    {
      "cell_type": "markdown",
      "metadata": {
        "id": "view-in-github",
        "colab_type": "text"
      },
      "source": [
        "<a href=\"https://colab.research.google.com/github/MehmetAltinkurt/Computer_Vision_Projects/blob/main/Wheat/Wheat_Yellow_Rust.ipynb\" target=\"_parent\"><img src=\"https://colab.research.google.com/assets/colab-badge.svg\" alt=\"Open In Colab\"/></a>"
      ]
    },
    {
      "cell_type": "code",
      "execution_count": 1,
      "metadata": {
        "colab": {
          "base_uri": "https://localhost:8080/"
        },
        "id": "meorTM9qpDt-",
        "outputId": "f7fb4623-792e-4fcf-9a7f-1f77ca138353"
      },
      "outputs": [
        {
          "output_type": "stream",
          "name": "stdout",
          "text": [
            "Looking in indexes: https://pypi.org/simple, https://us-python.pkg.dev/colab-wheels/public/simple/\n",
            "Requirement already satisfied: kaggle in /usr/local/lib/python3.9/dist-packages (1.5.13)\n",
            "Requirement already satisfied: python-dateutil in /usr/local/lib/python3.9/dist-packages (from kaggle) (2.8.2)\n",
            "Requirement already satisfied: requests in /usr/local/lib/python3.9/dist-packages (from kaggle) (2.27.1)\n",
            "Requirement already satisfied: tqdm in /usr/local/lib/python3.9/dist-packages (from kaggle) (4.65.0)\n",
            "Requirement already satisfied: certifi in /usr/local/lib/python3.9/dist-packages (from kaggle) (2022.12.7)\n",
            "Requirement already satisfied: python-slugify in /usr/local/lib/python3.9/dist-packages (from kaggle) (8.0.1)\n",
            "Requirement already satisfied: urllib3 in /usr/local/lib/python3.9/dist-packages (from kaggle) (1.26.15)\n",
            "Requirement already satisfied: six>=1.10 in /usr/local/lib/python3.9/dist-packages (from kaggle) (1.16.0)\n",
            "Requirement already satisfied: text-unidecode>=1.3 in /usr/local/lib/python3.9/dist-packages (from python-slugify->kaggle) (1.3)\n",
            "Requirement already satisfied: charset-normalizer~=2.0.0 in /usr/local/lib/python3.9/dist-packages (from requests->kaggle) (2.0.12)\n",
            "Requirement already satisfied: idna<4,>=2.5 in /usr/local/lib/python3.9/dist-packages (from requests->kaggle) (3.4)\n"
          ]
        }
      ],
      "source": [
        "! pip install kaggle"
      ]
    },
    {
      "cell_type": "code",
      "source": [
        "! mkdir ~/.kaggle"
      ],
      "metadata": {
        "id": "7juYFYSGwuKE"
      },
      "execution_count": 2,
      "outputs": []
    },
    {
      "cell_type": "code",
      "source": [
        "! cp kaggle.json ~/.kaggle/"
      ],
      "metadata": {
        "id": "-jehBOTbwuM_"
      },
      "execution_count": 3,
      "outputs": []
    },
    {
      "cell_type": "code",
      "source": [
        "! chmod 600 ~/.kaggle/kaggle.json"
      ],
      "metadata": {
        "id": "f6pcGqSSwuP3"
      },
      "execution_count": 4,
      "outputs": []
    },
    {
      "cell_type": "code",
      "source": [
        "! kaggle datasets download nafishamoin/new-bangladeshi-crop-disease"
      ],
      "metadata": {
        "colab": {
          "base_uri": "https://localhost:8080/"
        },
        "id": "C5Y8qHEvwuSx",
        "outputId": "c1fab9bb-bb86-4142-8f4e-0a0b96029b6c"
      },
      "execution_count": 5,
      "outputs": [
        {
          "output_type": "stream",
          "name": "stdout",
          "text": [
            "Downloading new-bangladeshi-crop-disease.zip to /content\n",
            "100% 2.34G/2.35G [00:21<00:00, 131MB/s]\n",
            "100% 2.35G/2.35G [00:21<00:00, 118MB/s]\n"
          ]
        }
      ]
    },
    {
      "cell_type": "code",
      "source": [
        "! unzip new-bangladeshi-crop-disease"
      ],
      "metadata": {
        "id": "ZqMlfo29wuVo"
      },
      "execution_count": null,
      "outputs": []
    },
    {
      "cell_type": "code",
      "source": [],
      "metadata": {
        "id": "hfOY1uTx0iZI"
      },
      "execution_count": null,
      "outputs": []
    },
    {
      "cell_type": "code",
      "source": [
        "import os\n",
        "import shutil\n",
        "\n",
        "import numpy as np\n",
        "import seaborn as sns\n",
        "import matplotlib.pyplot as plt\n",
        "\n",
        "import PIL\n",
        "import PIL.Image\n",
        "from matplotlib.image import imread\n",
        "\n",
        "import tensorflow as tf\n",
        "from keras.preprocessing.image import ImageDataGenerator\n",
        "from keras import layers\n",
        "from keras import models\n",
        "from keras import optimizers"
      ],
      "metadata": {
        "id": "wlpEfF_goit6"
      },
      "execution_count": 90,
      "outputs": []
    },
    {
      "cell_type": "code",
      "source": [
        "tf.__version__"
      ],
      "metadata": {
        "colab": {
          "base_uri": "https://localhost:8080/",
          "height": 35
        },
        "id": "YIQbFLPX0RxB",
        "outputId": "7374986b-9214-44ab-cc9a-7c0d811cb16f"
      },
      "execution_count": 8,
      "outputs": [
        {
          "output_type": "execute_result",
          "data": {
            "text/plain": [
              "'2.11.0'"
            ],
            "application/vnd.google.colaboratory.intrinsic+json": {
              "type": "string"
            }
          },
          "metadata": {},
          "execution_count": 8
        }
      ]
    },
    {
      "cell_type": "code",
      "source": [
        "tf.config.list_physical_devices('GPU')"
      ],
      "metadata": {
        "colab": {
          "base_uri": "https://localhost:8080/"
        },
        "id": "upAU61Ko0Q4n",
        "outputId": "260545ad-23b6-458c-fbfd-d7b6c138d8b9"
      },
      "execution_count": 9,
      "outputs": [
        {
          "output_type": "execute_result",
          "data": {
            "text/plain": [
              "[PhysicalDevice(name='/physical_device:GPU:0', device_type='GPU')]"
            ]
          },
          "metadata": {},
          "execution_count": 9
        }
      ]
    },
    {
      "cell_type": "code",
      "source": [
        "!nvidia-smi"
      ],
      "metadata": {
        "colab": {
          "base_uri": "https://localhost:8080/"
        },
        "id": "-Xf3Soi00RzV",
        "outputId": "b184f0bc-9bc7-429f-f8c0-66f8a7520c76"
      },
      "execution_count": 10,
      "outputs": [
        {
          "output_type": "stream",
          "name": "stdout",
          "text": [
            "Thu Mar 23 05:31:55 2023       \n",
            "+-----------------------------------------------------------------------------+\n",
            "| NVIDIA-SMI 525.85.12    Driver Version: 525.85.12    CUDA Version: 12.0     |\n",
            "|-------------------------------+----------------------+----------------------+\n",
            "| GPU  Name        Persistence-M| Bus-Id        Disp.A | Volatile Uncorr. ECC |\n",
            "| Fan  Temp  Perf  Pwr:Usage/Cap|         Memory-Usage | GPU-Util  Compute M. |\n",
            "|                               |                      |               MIG M. |\n",
            "|===============================+======================+======================|\n",
            "|   0  Tesla T4            Off  | 00000000:00:04.0 Off |                    0 |\n",
            "| N/A   59C    P0    29W /  70W |      3MiB / 15360MiB |      0%      Default |\n",
            "|                               |                      |                  N/A |\n",
            "+-------------------------------+----------------------+----------------------+\n",
            "                                                                               \n",
            "+-----------------------------------------------------------------------------+\n",
            "| Processes:                                                                  |\n",
            "|  GPU   GI   CI        PID   Type   Process name                  GPU Memory |\n",
            "|        ID   ID                                                   Usage      |\n",
            "|=============================================================================|\n",
            "|  No running processes found                                                 |\n",
            "+-----------------------------------------------------------------------------+\n"
          ]
        }
      ]
    },
    {
      "cell_type": "code",
      "source": [],
      "metadata": {
        "id": "QxFPp-Qq0p_h"
      },
      "execution_count": 10,
      "outputs": []
    },
    {
      "cell_type": "code",
      "source": [
        "original_dataset_dir=\"/content/BangladeshiCrops/BangladeshiCrops/Crop___Disease/Wheat\""
      ],
      "metadata": {
        "id": "hPsJpJiIwuYK"
      },
      "execution_count": 11,
      "outputs": []
    },
    {
      "cell_type": "code",
      "source": [
        "base_dir=\"/content/tempdir\"\n",
        "os.mkdir(base_dir)"
      ],
      "metadata": {
        "id": "lGhqkZx7sHGN"
      },
      "execution_count": 12,
      "outputs": []
    },
    {
      "cell_type": "code",
      "source": [
        "print('total Healthy images:', len(os.listdir(original_dataset_dir+\"/Wheat___Healthy\")))\n",
        "print('total Yellow Rust images:', len(os.listdir(original_dataset_dir+\"/Wheat___Yellow_Rust\")))"
      ],
      "metadata": {
        "colab": {
          "base_uri": "https://localhost:8080/"
        },
        "id": "oMcCEqXxmpEm",
        "outputId": "a63d2309-2ec4-41ff-8068-12b2cca8371e"
      },
      "execution_count": 14,
      "outputs": [
        {
          "output_type": "stream",
          "name": "stdout",
          "text": [
            "total Healthy images: 1116\n",
            "total Yellow Rust images: 924\n"
          ]
        }
      ]
    },
    {
      "cell_type": "code",
      "source": [
        "PIL.Image.open(original_dataset_dir+\"/Wheat___Yellow_Rust/\"+os.listdir(original_dataset_dir+\"/Wheat___Yellow_Rust/\")[923])"
      ],
      "metadata": {
        "id": "NiJjKRsL10od",
        "colab": {
          "base_uri": "https://localhost:8080/",
          "height": 181
        },
        "outputId": "af2d9223-2e06-402e-efca-9b746ff0da86"
      },
      "execution_count": 15,
      "outputs": [
        {
          "output_type": "execute_result",
          "data": {
            "text/plain": [
              "<PIL.JpegImagePlugin.JpegImageFile image mode=RGB size=132x164 at 0x7F43801BEC10>"
            ],
            "image/png": "[encoded data removed]"
          },
          "metadata": {},
          "execution_count": 15
        }
      ]
    },
    {
      "cell_type": "code",
      "source": [
        "#to see if the images are same sized\n",
        "print(imread(original_dataset_dir+\"/Wheat___Yellow_Rust/\"+os.listdir(original_dataset_dir+\"/Wheat___Yellow_Rust/\")[0]).shape)\n",
        "print(imread(original_dataset_dir+\"/Wheat___Yellow_Rust/\"+os.listdir(original_dataset_dir+\"/Wheat___Yellow_Rust/\")[923]).shape)\n",
        "print(imread(original_dataset_dir+\"/Wheat___Yellow_Rust/\"+os.listdir(original_dataset_dir+\"/Wheat___Yellow_Rust/\")[100]).shape)\n",
        "print(imread(original_dataset_dir+\"/Wheat___Yellow_Rust/\"+os.listdir(original_dataset_dir+\"/Wheat___Yellow_Rust/\")[350]).shape)\n",
        "print(imread(original_dataset_dir+\"/Wheat___Yellow_Rust/\"+os.listdir(original_dataset_dir+\"/Wheat___Yellow_Rust/\")[600]).shape)"
      ],
      "metadata": {
        "colab": {
          "base_uri": "https://localhost:8080/"
        },
        "id": "jSs-sgmuGS5l",
        "outputId": "0009f2a2-ba8c-4b11-da74-b3810206308d"
      },
      "execution_count": 16,
      "outputs": [
        {
          "output_type": "stream",
          "name": "stdout",
          "text": [
            "(276, 96, 3)\n",
            "(164, 132, 3)\n",
            "(150, 380, 3)\n",
            "(210, 138, 3)\n",
            "(186, 366, 3)\n"
          ]
        }
      ]
    },
    {
      "cell_type": "code",
      "source": [
        "healthy_wheat_list = []\n",
        "\n",
        "for root, dirs, files in os.walk(original_dataset_dir+\"/Wheat___Healthy/\"):\n",
        "    for file in files:\n",
        "        #all \n",
        "        if file.endswith(\".jpg\") or file.endswith(\".png\") or file.endswith(\".jpeg\"):\n",
        "            #healthy_wheat_list.append(os.path.join(root, file))\n",
        "            healthy_wheat_list.append(file)\n",
        "\n",
        "rusty_wheat_list = []\n",
        "\n",
        "for root, dirs, files in os.walk(original_dataset_dir+\"/Wheat___Yellow_Rust/\"):\n",
        "    for file in files:\n",
        "        #all \n",
        "        if file.endswith(\".jpg\") or file.endswith(\".png\") or file.endswith(\".jpeg\"):\n",
        "            #rusty_wheat_list.append(os.path.join(root, file))\n",
        "            rusty_wheat_list.append(file)\n",
        "\n",
        "\n"
      ],
      "metadata": {
        "id": "gBaTxYBiorgY"
      },
      "execution_count": 69,
      "outputs": []
    },
    {
      "cell_type": "code",
      "source": [
        "height_list=[]\n",
        "width_list=[]\n",
        "\n",
        "for im in healthy_wheat_list:\n",
        "  height_list.append(imread(original_dataset_dir+\"/Wheat___Healthy/\"+im).shape[0])\n",
        "  width_list.append(imread(original_dataset_dir+\"/Wheat___Healthy/\"+im).shape[1])\n",
        "\n",
        "for im in rusty_wheat_list:\n",
        "  height_list.append(imread(original_dataset_dir+\"/Wheat___Yellow_Rust/\"+im).shape[0])\n",
        "  width_list.append(imread(original_dataset_dir+\"/Wheat___Yellow_Rust/\"+im).shape[1])\n",
        "\n",
        "print(height_list)\n",
        "print(width_list)"
      ],
      "metadata": {
        "colab": {
          "base_uri": "https://localhost:8080/"
        },
        "id": "2aaFR0CeKfcC",
        "outputId": "71e28b3b-b03f-4904-f94b-58883d0b9eba"
      },
      "execution_count": 70,
      "outputs": [
        {
          "output_type": "stream",
          "name": "stdout",
          "text": [
            "[859, 632, 787, 544, 773, 986, 467, 1058, 1587, 1145, 508, 1192, 891, 1344, 687, 1061, 1220, 903, 535, 811, 759, 792, 399, 894, 453, 444, 1351, 672, 848, 1252, 580, 504, 779, 763, 1066, 1022, 490, 1100, 1075, 434, 1441, 312, 1174, 1798, 855, 662, 1304, 636, 472, 569, 1223, 1105, 696, 1099, 1920, 447, 827, 747, 648, 742, 1341, 774, 459, 707, 1108, 591, 521, 455, 522, 640, 898, 380, 302, 777, 505, 1146, 1578, 723, 920, 1274, 1504, 1351, 443, 803, 1452, 383, 835, 766, 568, 1074, 430, 477, 350, 1524, 1087, 821, 579, 753, 636, 408, 328, 892, 482, 470, 870, 448, 2370, 679, 400, 737, 1132, 1425, 427, 1103, 620, 1605, 1130, 890, 527, 504, 1031, 515, 1432, 850, 898, 544, 814, 876, 773, 260, 558, 1826, 917, 706, 574, 751, 904, 680, 888, 239, 1243, 463, 561, 413, 880, 1204, 496, 725, 834, 660, 343, 742, 846, 710, 434, 469, 279, 464, 996, 347, 1256, 685, 284, 1067, 814, 719, 740, 232, 227, 267, 1372, 1206, 1066, 766, 1188, 787, 1515, 2086, 1067, 1678, 843, 614, 1129, 796, 768, 414, 1124, 1408, 855, 212, 586, 304, 734, 716, 821, 351, 747, 1066, 266, 1082, 460, 849, 374, 545, 634, 775, 775, 190, 715, 1411, 435, 489, 703, 571, 362, 545, 983, 620, 1215, 1178, 943, 1132, 1130, 1105, 679, 815, 492, 368, 513, 992, 540, 560, 244, 773, 951, 1046, 847, 829, 841, 735, 1043, 1860, 1352, 1711, 851, 355, 729, 486, 579, 993, 417, 995, 488, 708, 532, 1584, 459, 281, 626, 577, 1124, 983, 722, 565, 722, 1082, 320, 493, 606, 1446, 462, 278, 637, 443, 1354, 795, 1362, 534, 722, 1525, 1011, 645, 666, 628, 637, 325, 686, 788, 413, 250, 835, 483, 359, 1350, 607, 1456, 348, 586, 1485, 453, 454, 490, 430, 580, 334, 581, 949, 342, 716, 1025, 538, 357, 640, 509, 579, 444, 449, 634, 1240, 340, 469, 504, 734, 1404, 799, 310, 1745, 1106, 580, 735, 280, 526, 432, 609, 887, 531, 1000, 1405, 441, 326, 762, 751, 1464, 742, 728, 813, 386, 687, 775, 1076, 1100, 1252, 1278, 383, 498, 999, 947, 984, 557, 928, 785, 236, 616, 610, 1457, 1261, 545, 357, 947, 1495, 1739, 903, 541, 1198, 778, 1095, 985, 904, 1405, 521, 836, 1151, 863, 530, 424, 895, 2058, 945, 782, 605, 389, 999, 507, 666, 731, 508, 714, 790, 1871, 1436, 966, 836, 315, 1478, 1017, 1290, 2359, 395, 1562, 1154, 369, 862, 674, 556, 557, 329, 576, 1014, 854, 534, 729, 956, 829, 2048, 2219, 264, 689, 296, 384, 684, 337, 928, 403, 601, 1423, 460, 840, 937, 965, 696, 973, 270, 932, 758, 706, 962, 1040, 1015, 910, 1478, 1780, 729, 696, 929, 2006, 1194, 827, 532, 941, 880, 390, 499, 1055, 711, 722, 1397, 1097, 723, 1269, 1236, 887, 392, 325, 1323, 1068, 1156, 797, 773, 681, 987, 823, 498, 971, 277, 526, 366, 419, 336, 551, 586, 723, 742, 561, 638, 273, 1147, 391, 958, 387, 864, 723, 593, 1316, 916, 468, 1037, 884, 684, 835, 278, 916, 587, 1342, 240, 282, 389, 670, 1488, 958, 262, 1547, 433, 532, 524, 982, 727, 924, 661, 382, 1005, 612, 1388, 655, 393, 1189, 472, 564, 155, 663, 1158, 765, 891, 731, 330, 1584, 750, 1022, 240, 892, 1339, 984, 1070, 262, 686, 1540, 1304, 1236, 616, 674, 945, 1558, 301, 645, 691, 1869, 594, 859, 1037, 499, 748, 509, 560, 932, 1421, 968, 1092, 218, 1216, 971, 413, 202, 1087, 1164, 577, 277, 465, 1091, 1288, 1077, 1032, 603, 288, 939, 452, 550, 280, 1809, 518, 1357, 1015, 286, 411, 1046, 218, 834, 1069, 315, 420, 928, 531, 1661, 562, 319, 2939, 512, 1203, 807, 454, 537, 971, 500, 390, 1210, 716, 1005, 376, 540, 398, 1551, 1131, 640, 413, 1026, 754, 1296, 478, 555, 171, 906, 566, 842, 557, 483, 202, 493, 646, 1454, 744, 988, 712, 754, 729, 860, 1404, 621, 771, 353, 1298, 1134, 389, 878, 680, 2248, 453, 847, 536, 1361, 742, 340, 1044, 876, 753, 662, 1546, 659, 711, 589, 823, 652, 611, 726, 736, 803, 682, 1015, 391, 1186, 1525, 774, 1277, 1557, 626, 1031, 917, 419, 586, 403, 800, 697, 868, 795, 781, 618, 1021, 526, 1284, 313, 428, 949, 1157, 1046, 531, 359, 718, 586, 537, 1314, 986, 877, 870, 362, 545, 665, 1064, 1193, 727, 672, 845, 312, 728, 770, 580, 407, 878, 285, 542, 856, 660, 1338, 613, 1110, 1227, 880, 272, 693, 341, 535, 351, 1160, 771, 522, 502, 457, 1131, 411, 693, 687, 1057, 651, 899, 316, 990, 880, 2175, 1976, 936, 391, 657, 448, 1022, 1767, 463, 1222, 385, 470, 983, 962, 596, 578, 608, 359, 333, 637, 742, 869, 319, 1304, 545, 975, 411, 637, 576, 273, 1026, 450, 703, 2203, 1003, 1300, 1155, 1599, 696, 1051, 665, 667, 558, 1427, 522, 613, 328, 356, 594, 376, 1324, 1254, 315, 601, 874, 1102, 1393, 1663, 483, 442, 631, 800, 988, 1321, 1184, 361, 806, 801, 290, 1099, 749, 495, 819, 1354, 909, 1485, 538, 576, 1043, 1143, 582, 787, 1101, 709, 722, 573, 859, 818, 335, 923, 2004, 771, 1377, 801, 535, 579, 620, 1421, 865, 992, 806, 632, 856, 350, 629, 390, 383, 991, 725, 465, 1127, 1732, 527, 528, 416, 435, 1004, 1225, 193, 1071, 566, 1594, 1713, 856, 835, 910, 318, 407, 350, 621, 829, 258, 1462, 891, 1217, 662, 562, 1738, 1587, 718, 453, 398, 437, 557, 268, 1246, 853, 629, 977, 1065, 975, 1024, 1835, 763, 1541, 1810, 398, 857, 826, 634, 929, 454, 849, 363, 912, 645, 758, 772, 1008, 573, 1293, 766, 679, 847, 802, 1037, 373, 469, 1470, 1686, 755, 924, 397, 948, 1011, 1316, 1036, 891, 776, 967, 996, 842, 270, 316, 463, 821, 1477, 1232, 758, 1344, 1494, 598, 1150, 1004, 882, 423, 690, 1171, 604, 1016, 657, 1303, 586, 711, 310, 1322, 655, 613, 654, 946, 630, 617, 1022, 1068, 717, 542, 885, 903, 1077, 1268, 806, 251, 526, 392, 515, 861, 441, 718, 761, 1373, 419, 296, 1016, 1325, 350, 1321, 374, 1794, 1270, 1268, 879, 975, 472, 591, 1038, 431, 313, 742, 546, 1195, 639, 972, 713, 1339, 427, 1010, 803, 656, 463, 383, 1821, 732, 1087, 222, 1334, 895, 1089, 775, 1079, 676, 1040, 878, 519, 944, 609, 557, 516, 535, 1108, 1273, 292, 953, 1044, 723, 929, 1325, 793, 1160, 1143, 1658, 446, 889, 498, 1316, 980, 1538, 702, 318, 1126, 243, 464, 292, 229, 1094, 601, 498, 1401, 315, 846, 1022, 1244, 267, 527, 1028, 1321, 673, 546, 1021, 1010, 765, 1150, 587, 914, 393, 875, 483, 622, 1492, 814, 613, 941, 1089, 585, 994, 750, 668, 992, 1121, 645, 333, 664, 615, 828, 276, 78, 80, 88, 396, 150, 200, 104, 98, 246, 94, 118, 130, 132, 118, 136, 148, 104, 92, 84, 100, 108, 166, 252, 134, 144, 128, 90, 442, 80, 122, 164, 92, 106, 154, 148, 190, 170, 158, 100, 314, 100, 104, 300, 120, 160, 99, 52, 78, 88, 134, 58, 230, 106, 74, 92, 140, 310, 178, 110, 206, 128, 234, 184, 1, 254, 212, 290, 256, 208, 166, 22, 272, 228, 128, 250, 246, 274, 96, 102, 148, 102, 168, 346, 18, 194, 218, 130, 100, 196, 378, 174, 150, 256, 252, 286, 100, 140, 172, 180, 150, 158, 258, 170, 160, 84, 154, 282, 82, 190, 372, 206, 196, 98, 192, 123, 136, 208, 292, 210, 416, 148, 104, 232, 148, 180, 130, 84, 202, 196, 290, 114, 144, 202, 104, 138, 312, 174, 152, 106, 188, 98, 124, 90, 142, 168, 112, 96, 122, 312, 170, 186, 322, 220, 167, 114, 130, 132, 178, 316, 248, 162, 202, 348, 164, 58, 56, 90, 164, 18, 105, 144, 68, 98, 122, 128, 276, 100, 168, 66, 326, 108, 216, 98, 120, 276, 212, 434, 98, 168, 88, 70, 276, 156, 188, 186, 240, 172, 330, 402, 328, 90, 148, 146, 352, 398, 182, 112, 436, 278, 120, 134, 80, 140, 118, 293, 96, 66, 80, 300, 82, 252, 180, 96, 132, 98, 158, 92, 218, 201, 410, 166, 110, 140, 172, 242, 166, 198, 200, 190, 162, 288, 174, 192, 146, 192, 82, 79, 116, 138, 126, 174, 124, 160, 84, 104, 118, 184, 84, 224, 56, 152, 132, 52, 164, 140, 144, 144, 116, 310, 162, 148, 96, 58, 170, 324, 118, 158, 126, 370, 240, 128, 102, 208, 172, 236, 150, 220, 112, 86, 62, 110, 84, 54, 110, 84, 92, 174, 94, 78, 132, 240, 210, 110, 56, 136, 170, 110, 182, 86, 130, 112, 228, 120, 170, 74, 120, 160, 180, 160, 180, 222, 74, 224, 154, 68, 180, 238, 108, 130, 34, 104, 90, 216, 62, 114, 86, 160, 288, 220, 228, 282, 82, 90, 62, 274, 152, 240, 192, 282, 210, 178, 168, 134, 66, 142, 274, 198, 90, 122, 240, 72, 232, 420, 232, 26, 156, 172, 180, 94, 132, 352, 232, 86, 96, 250, 162, 142, 86, 212, 242, 294, 160, 96, 222, 138, 204, 216, 270, 154, 18, 156, 94, 138, 186, 234, 212, 178, 114, 46, 144, 52, 244, 96, 51, 352, 91, 242, 38, 116, 232, 94, 102, 58, 252, 262, 112, 286, 144, 198, 90, 72, 150, 138, 166, 70, 112, 196, 166, 152, 152, 184, 222, 114, 170, 78, 278, 134, 147, 77, 154, 106, 202, 82, 242, 132, 206, 90, 108, 138, 210, 76, 176, 138, 94, 182, 278, 134, 54, 108, 166, 138, 264, 116, 256, 288, 64, 204, 210, 156, 64, 140, 46, 214, 154, 114, 72, 256, 140, 162, 36, 184, 92, 112, 304, 144, 212, 176, 126, 66, 182, 164, 160, 286, 224, 170, 158, 224, 126, 106, 214, 102, 122, 132, 74, 160, 70, 102, 290, 122, 114, 118, 158, 142, 72, 206, 184, 160, 168, 278, 96, 350, 172, 86, 154, 118, 146, 136, 138, 249, 82, 220, 104, 108, 142, 140, 94, 28, 328, 82, 322, 302, 90, 222, 176, 286, 238, 374, 208, 96, 164, 140, 60, 72, 298, 144, 148, 46, 350, 164, 238, 130, 252, 148, 166, 160, 110, 104, 90, 176, 102, 74, 146, 130, 80, 154, 62, 226, 316, 92, 178, 266, 178, 78, 124, 306, 192, 158, 123, 140, 135, 348, 276, 188, 112, 134, 322, 50, 150, 202, 186, 242, 174, 134, 54, 186, 70, 156, 126, 184, 242, 84, 256, 164, 122, 136, 168, 196, 132, 190, 288, 216, 204, 246, 92, 165, 240, 118, 256, 186, 356, 122, 176, 127, 104, 172, 98, 106, 150, 172, 116, 158, 400, 52, 100, 146, 86, 90, 126, 240, 128, 180, 60, 231, 134, 100, 242, 308, 258, 130, 96, 190, 172, 231, 439, 76, 282, 134, 148, 146, 246, 24, 432, 70, 122, 72, 217, 122, 130, 112, 160, 204, 272, 24, 250, 90, 218, 170, 308, 138, 110, 184, 130, 326, 120, 100, 210, 78, 354, 168, 114, 180, 147, 218, 108, 252, 184, 266, 166, 64, 228, 186, 82, 244, 140, 120, 126, 172, 166, 110, 88, 174, 122, 54, 134, 326, 262, 152, 176, 170, 380, 134, 134, 254, 72, 288, 186, 132, 128, 226, 82, 182, 230, 78, 230, 38, 140, 272, 98, 262, 158, 228, 134, 180, 186, 158, 150, 212, 416, 148, 136, 196, 162, 110, 60, 88, 230, 166, 66, 118, 160, 120, 106, 104, 148, 166, 164, 134, 82, 202, 148, 270, 92, 300, 154, 62, 134, 262, 114, 70, 94, 144, 162, 228, 138, 138, 52, 268, 76, 150, 158, 316, 196, 278, 105, 148, 142, 156, 62, 120, 218, 106, 184, 128, 194, 94, 184, 106, 258, 198, 134, 194, 100, 102, 246, 124, 262, 82, 226, 174, 62, 198, 72, 290, 82, 234, 68, 242, 64, 154, 190, 276, 172, 288, 164, 228, 104, 100, 240, 258, 48, 134, 96, 202, 86, 114, 124, 200, 106, 80, 152, 72, 150, 102, 326, 168, 172, 298, 108, 174, 166, 406, 244, 188, 60, 192, 248, 136, 88, 130, 154, 138, 88, 80, 178, 196, 322, 120, 228, 42, 142, 186, 206, 310, 110, 116, 78, 146, 358, 80, 174, 222, 210, 130, 90, 184, 144, 186, 134, 210, 128, 118, 86, 160, 160, 302, 244, 130, 126, 56, 350, 128, 70, 164]\n",
            "[1333, 393, 929, 470, 830, 1148, 1820, 951, 318, 590, 1493, 1586, 934, 747, 860, 674, 501, 883, 1203, 1221, 945, 761, 1037, 333, 571, 840, 303, 1133, 588, 760, 977, 809, 486, 606, 579, 362, 1253, 739, 430, 817, 469, 1061, 1158, 1767, 596, 775, 486, 597, 1203, 673, 1289, 728, 1014, 497, 1095, 1150, 772, 544, 1025, 1222, 563, 826, 680, 575, 608, 843, 1841, 749, 1090, 223, 573, 745, 1465, 714, 911, 1436, 1203, 488, 470, 358, 460, 700, 1226, 408, 514, 1304, 697, 1011, 911, 633, 1008, 795, 933, 1589, 828, 975, 705, 1612, 471, 1001, 1948, 1070, 897, 1003, 650, 538, 707, 926, 631, 395, 316, 1170, 1403, 571, 755, 328, 1791, 806, 829, 1737, 760, 510, 801, 686, 310, 623, 330, 1682, 1231, 1009, 972, 903, 481, 1391, 687, 903, 1108, 425, 432, 1331, 716, 441, 802, 1673, 826, 457, 495, 925, 969, 375, 1383, 542, 686, 621, 696, 357, 785, 966, 1688, 1094, 711, 864, 1124, 1286, 525, 1368, 302, 1073, 742, 1494, 383, 336, 742, 702, 331, 1005, 1202, 995, 418, 448, 956, 1993, 599, 605, 475, 895, 304, 1969, 544, 869, 554, 806, 1138, 795, 403, 1288, 1194, 618, 1681, 602, 1071, 919, 742, 324, 588, 674, 1729, 926, 863, 840, 864, 1414, 656, 1321, 778, 561, 768, 819, 494, 847, 511, 505, 422, 2224, 1149, 549, 352, 639, 518, 751, 1184, 858, 1263, 956, 268, 469, 1398, 579, 898, 1258, 442, 1351, 952, 1340, 629, 850, 642, 1256, 767, 768, 1391, 1335, 1433, 629, 1027, 463, 1109, 1322, 350, 1277, 568, 793, 638, 575, 825, 372, 1052, 1136, 1249, 610, 604, 1116, 331, 492, 996, 851, 1989, 1557, 425, 2051, 624, 1142, 703, 690, 192, 1195, 1468, 364, 1019, 1131, 680, 945, 1536, 721, 645, 777, 1430, 1011, 425, 353, 776, 552, 561, 1421, 1051, 1058, 1331, 1514, 884, 948, 2060, 998, 1981, 890, 1232, 776, 1413, 969, 1758, 678, 1161, 1056, 634, 848, 881, 918, 577, 711, 844, 515, 1620, 1511, 1067, 855, 855, 928, 425, 1080, 1253, 1821, 1032, 966, 490, 547, 547, 904, 822, 745, 911, 885, 368, 1122, 1992, 2047, 1503, 602, 905, 929, 986, 1409, 673, 781, 1260, 874, 464, 549, 350, 1396, 291, 1029, 804, 815, 626, 613, 1364, 1221, 805, 963, 711, 813, 582, 1851, 1031, 1163, 1679, 794, 897, 202, 417, 1404, 1064, 318, 559, 1196, 641, 1155, 883, 737, 1215, 1049, 908, 1348, 1639, 671, 1825, 1140, 1008, 1026, 546, 526, 954, 381, 834, 777, 1166, 916, 878, 690, 673, 1324, 729, 373, 648, 613, 1415, 664, 770, 1757, 1402, 952, 826, 617, 1228, 1919, 359, 1096, 423, 1650, 560, 1587, 1257, 789, 252, 342, 732, 479, 1488, 1047, 478, 707, 578, 785, 2213, 705, 930, 459, 439, 1698, 820, 1609, 1040, 1399, 1082, 940, 1118, 534, 1018, 1012, 625, 430, 781, 816, 1309, 520, 355, 602, 370, 917, 1164, 1259, 1957, 1694, 376, 715, 1295, 962, 1133, 1108, 839, 1116, 529, 834, 897, 783, 1453, 1213, 929, 868, 1643, 816, 706, 938, 687, 358, 709, 1328, 1141, 643, 335, 1140, 498, 438, 762, 1680, 1205, 978, 1036, 744, 691, 1017, 560, 963, 798, 935, 1885, 925, 460, 513, 2291, 598, 846, 694, 957, 1389, 879, 880, 561, 956, 768, 734, 1006, 1503, 910, 1141, 1294, 285, 304, 1196, 733, 1140, 847, 735, 1058, 812, 575, 913, 820, 485, 1176, 1306, 495, 853, 1401, 1441, 624, 1414, 411, 960, 1601, 446, 1834, 940, 355, 398, 256, 329, 1383, 400, 516, 815, 1611, 1816, 575, 1519, 915, 907, 449, 993, 1016, 676, 1468, 1055, 1265, 469, 1556, 1226, 335, 719, 828, 274, 623, 818, 332, 1044, 545, 794, 791, 857, 1104, 1279, 783, 1036, 1125, 681, 941, 249, 688, 775, 744, 2412, 1755, 856, 1492, 1385, 644, 981, 1269, 673, 472, 750, 1273, 1278, 272, 1358, 1175, 2636, 1212, 712, 758, 663, 2169, 709, 812, 1159, 1562, 1585, 677, 819, 1009, 874, 1306, 439, 736, 1040, 1076, 634, 1229, 424, 469, 1433, 779, 1089, 1122, 1148, 1210, 1109, 650, 743, 1005, 774, 1075, 1047, 962, 2512, 614, 608, 493, 686, 1171, 991, 1189, 1189, 1085, 765, 948, 2518, 391, 679, 684, 409, 769, 753, 567, 526, 685, 940, 1089, 257, 966, 542, 404, 515, 988, 349, 514, 1509, 1722, 1489, 819, 718, 474, 1228, 1064, 734, 423, 670, 561, 623, 1294, 673, 1173, 1133, 719, 925, 1175, 693, 1101, 309, 690, 1471, 776, 1075, 1043, 1099, 1262, 1278, 1899, 809, 1032, 1478, 700, 586, 285, 873, 320, 942, 1103, 589, 750, 564, 818, 1399, 633, 531, 1336, 896, 1266, 1199, 996, 523, 611, 717, 625, 934, 787, 285, 899, 885, 768, 686, 1044, 2153, 957, 933, 902, 632, 378, 978, 670, 822, 1381, 588, 832, 1872, 665, 1425, 398, 1675, 486, 1232, 750, 929, 1234, 1540, 979, 1164, 461, 852, 426, 636, 735, 465, 882, 627, 657, 818, 789, 895, 310, 1800, 758, 1291, 813, 599, 515, 812, 1176, 1017, 1699, 501, 986, 1411, 1267, 1065, 303, 470, 692, 502, 593, 510, 689, 1610, 1318, 1385, 635, 2128, 974, 1079, 656, 984, 439, 322, 640, 557, 809, 577, 879, 1397, 809, 552, 1075, 827, 1020, 1678, 734, 727, 295, 788, 785, 739, 1546, 1263, 1172, 1345, 1478, 794, 1270, 476, 859, 574, 879, 493, 699, 386, 362, 1546, 945, 648, 1601, 1878, 359, 1211, 1040, 837, 631, 491, 1292, 1092, 321, 1482, 2012, 987, 523, 1223, 1409, 1081, 746, 585, 495, 824, 2174, 1367, 635, 1952, 458, 1176, 1333, 928, 512, 631, 1328, 1930, 505, 1135, 1040, 447, 607, 1579, 1895, 1638, 1119, 858, 1188, 379, 1494, 722, 1960, 1417, 799, 557, 984, 1013, 1363, 391, 692, 1361, 1545, 940, 1738, 1829, 917, 932, 748, 658, 1366, 1115, 1853, 309, 972, 418, 323, 645, 1430, 918, 837, 595, 1136, 1171, 1002, 1035, 343, 764, 678, 981, 896, 1493, 1468, 789, 1011, 913, 309, 1148, 349, 969, 561, 1516, 779, 1414, 574, 1292, 887, 685, 1171, 1173, 1321, 448, 952, 1115, 1084, 1044, 421, 1289, 1145, 361, 1271, 1908, 945, 713, 946, 927, 819, 1197, 933, 669, 1176, 608, 767, 2353, 362, 839, 840, 1428, 1574, 267, 398, 504, 2244, 316, 716, 1276, 1194, 546, 577, 653, 332, 1363, 454, 1236, 659, 851, 798, 1643, 1010, 872, 695, 600, 1398, 507, 519, 410, 920, 245, 460, 805, 904, 475, 673, 640, 1422, 763, 1228, 887, 601, 922, 398, 310, 658, 334, 855, 283, 1120, 531, 865, 1208, 894, 892, 1412, 1594, 525, 1019, 1346, 1197, 1150, 2351, 1049, 1296, 452, 1404, 1017, 608, 1479, 1116, 844, 983, 1839, 1361, 536, 1113, 795, 954, 489, 372, 1013, 556, 547, 525, 900, 412, 1997, 1284, 780, 676, 1332, 773, 403, 947, 567, 1150, 1315, 526, 1297, 330, 646, 675, 1184, 955, 96, 124, 460, 360, 168, 142, 84, 574, 148, 216, 292, 276, 116, 50, 116, 82, 288, 172, 280, 359, 292, 180, 146, 220, 368, 100, 216, 332, 244, 274, 254, 290, 480, 312, 336, 242, 76, 284, 44, 450, 136, 230, 62, 136, 120, 84, 164, 194, 204, 124, 110, 260, 138, 212, 194, 172, 80, 140, 206, 208, 52, 184, 120, 98, 30, 128, 212, 96, 120, 166, 226, 54, 64, 150, 102, 242, 44, 242, 146, 348, 94, 184, 306, 220, 138, 320, 742, 42, 302, 396, 112, 54, 124, 100, 42, 246, 114, 82, 228, 48, 380, 90, 244, 166, 244, 240, 214, 50, 164, 266, 114, 224, 108, 124, 204, 138, 130, 170, 48, 290, 120, 156, 234, 70, 234, 104, 264, 156, 312, 94, 180, 236, 80, 192, 454, 178, 45, 264, 428, 52, 202, 144, 170, 146, 106, 184, 234, 232, 314, 130, 226, 138, 78, 222, 129, 268, 178, 72, 266, 104, 318, 138, 108, 124, 92, 244, 362, 196, 86, 94, 366, 216, 364, 360, 62, 278, 70, 232, 64, 154, 200, 184, 92, 212, 220, 218, 120, 314, 56, 284, 420, 380, 72, 128, 234, 120, 224, 224, 344, 102, 136, 222, 184, 128, 310, 68, 116, 152, 60, 186, 186, 356, 254, 138, 102, 84, 110, 114, 90, 276, 122, 80, 154, 138, 140, 124, 136, 202, 96, 147, 96, 242, 190, 198, 126, 166, 80, 178, 84, 228, 68, 256, 80, 168, 248, 56, 410, 234, 212, 342, 254, 314, 102, 148, 228, 262, 200, 238, 146, 232, 252, 160, 240, 200, 90, 138, 154, 338, 312, 138, 192, 160, 318, 246, 370, 212, 70, 50, 344, 202, 298, 316, 378, 336, 126, 72, 56, 130, 178, 214, 158, 110, 224, 40, 58, 124, 174, 232, 194, 94, 54, 126, 120, 292, 276, 96, 133, 528, 648, 340, 56, 82, 92, 184, 122, 96, 94, 250, 132, 60, 136, 128, 204, 212, 200, 208, 424, 58, 132, 48, 227, 80, 198, 152, 344, 242, 220, 310, 182, 90, 208, 195, 382, 408, 242, 136, 136, 144, 162, 142, 138, 232, 210, 422, 276, 92, 350, 76, 140, 314, 128, 180, 74, 198, 116, 332, 208, 64, 182, 162, 261, 108, 254, 162, 276, 268, 148, 236, 162, 146, 264, 200, 198, 158, 268, 248, 144, 226, 216, 278, 196, 172, 114, 124, 174, 316, 116, 156, 158, 110, 206, 18, 278, 250, 318, 132, 433, 304, 130, 222, 180, 198, 218, 330, 622, 80, 172, 130, 336, 84, 310, 154, 166, 282, 96, 338, 114, 184, 286, 198, 188, 172, 424, 342, 194, 218, 138, 190, 82, 315, 210, 154, 174, 430, 462, 100, 104, 304, 140, 106, 220, 206, 298, 222, 142, 110, 236, 134, 190, 330, 136, 54, 86, 234, 72, 86, 342, 88, 124, 104, 308, 88, 102, 110, 210, 240, 254, 188, 110, 186, 210, 318, 238, 142, 214, 214, 152, 306, 152, 68, 292, 280, 68, 144, 80, 80, 80, 152, 302, 126, 222, 182, 112, 378, 128, 204, 204, 304, 88, 78, 180, 160, 32, 208, 120, 44, 96, 210, 56, 252, 264, 72, 284, 328, 318, 586, 132, 94, 304, 147, 246, 136, 444, 150, 176, 108, 280, 150, 288, 220, 160, 310, 374, 86, 154, 116, 236, 332, 118, 108, 152, 82, 328, 210, 90, 166, 92, 304, 280, 180, 138, 282, 74, 110, 196, 98, 146, 248, 608, 510, 238, 266, 144, 336, 70, 228, 316, 108, 146, 176, 280, 350, 218, 204, 148, 122, 474, 128, 228, 148, 104, 120, 116, 208, 192, 90, 116, 210, 234, 84, 366, 236, 242, 290, 292, 70, 128, 48, 214, 140, 74, 190, 90, 86, 240, 198, 52, 238, 206, 300, 72, 186, 124, 72, 162, 115, 110, 328, 390, 114, 146, 372, 92, 185, 144, 136, 438, 58, 300, 332, 198, 146, 164, 246, 200, 274, 128, 296, 130, 326, 264, 406, 180, 150, 100, 132, 60, 240, 72, 278, 134, 206, 272, 212, 214, 134, 94, 114, 128, 104, 366, 42, 44, 416, 232, 408, 230, 148, 358, 170, 112, 186, 154, 128, 50, 74, 132, 390, 250, 280, 230, 126, 114, 182, 136, 222, 374, 98, 438, 228, 156, 434, 297, 206, 70, 218, 202, 278, 100, 82, 148, 174, 284, 250, 164, 224, 236, 330, 60, 170, 302, 294, 112, 198, 116, 80, 114, 312, 98, 64, 52, 72, 430, 308, 50, 321, 72, 146, 362, 226, 88, 134, 220, 254, 130, 204, 136, 99, 122, 146, 120, 52, 544, 126, 494, 246, 64, 52, 100, 108, 126, 36, 290, 284, 208, 186, 146, 144, 290, 178, 108, 82, 42, 104, 362, 214, 154, 298, 172, 162, 148, 118, 162, 90, 178, 158, 338, 82, 180, 158, 98, 190, 156, 100, 374, 536, 228, 208, 146, 398, 116, 138, 76, 116, 171, 178, 94, 36, 154, 168, 250, 200, 72, 84, 102, 142, 140, 302, 188, 270, 400, 78, 236, 272, 266, 68, 186, 164, 148, 172, 184, 184, 222, 128, 288, 66, 216, 72, 328, 146, 166, 194, 134, 150, 280, 282, 318, 90, 78, 76, 34, 246, 144, 362, 404, 132, 204, 108, 160, 76, 214, 564, 146, 370, 148, 124, 68, 94, 214, 250, 66, 140, 180, 164, 326, 88, 98, 160, 236, 352, 184, 278, 282, 194, 98, 64, 96, 134, 394, 166, 248, 210, 54, 474, 410, 216, 102, 180, 84, 402, 146, 402, 72, 232, 274, 84, 76, 232, 272, 120, 182, 98, 246, 144, 248, 114, 158, 216, 106, 156, 128, 100, 268, 132]\n"
          ]
        }
      ]
    },
    {
      "cell_type": "code",
      "source": [
        "fig, ax = plt.subplots(figsize=(12, 8))\n",
        "sns.scatterplot(x=height_list, y=width_list);\n"
      ],
      "metadata": {
        "colab": {
          "base_uri": "https://localhost:8080/",
          "height": 483
        },
        "id": "4YoZPovGKfes",
        "outputId": "050ddc6e-d060-4a17-c4a9-d653e33b2c81"
      },
      "execution_count": 71,
      "outputs": [
        {
          "output_type": "display_data",
          "data": {
            "text/plain": [
              "<Figure size 864x576 with 1 Axes>"
            ],
            "image/png": "[encoded data removed]"
          },
          "metadata": {
            "needs_background": "light"
          }
        }
      ]
    },
    {
      "cell_type": "code",
      "source": [
        "print(min(height_list))\n",
        "min_image_index=np.argmin(height_list)\n",
        "print(\"index:\",min_image_index)\n",
        "im=PIL.Image.open(original_dataset_dir+\"/Wheat___Yellow_Rust/\"+rusty_wheat_list[min_image_index-len(healthy_wheat_list)])\n",
        "im.show()\n",
        "imread(original_dataset_dir+\"/Wheat___Yellow_Rust/\"+rusty_wheat_list[min_image_index-len(healthy_wheat_list)]).shape"
      ],
      "metadata": {
        "colab": {
          "base_uri": "https://localhost:8080/",
          "height": 86
        },
        "id": "8TQ-gFF3Kfma",
        "outputId": "76e51594-2113-48b0-b587-b33740d05454"
      },
      "execution_count": 73,
      "outputs": [
        {
          "output_type": "stream",
          "name": "stdout",
          "text": [
            "1\n",
            "index: 1180\n"
          ]
        },
        {
          "output_type": "display_data",
          "data": {
            "text/plain": [
              "<PIL.JpegImagePlugin.JpegImageFile image mode=RGB size=30x1 at 0x7F42E31FAC10>"
            ],
            "image/png": "[encoded data removed]"
          },
          "metadata": {}
        },
        {
          "output_type": "execute_result",
          "data": {
            "text/plain": [
              "(1, 30, 3)"
            ]
          },
          "metadata": {},
          "execution_count": 73
        }
      ]
    },
    {
      "cell_type": "code",
      "source": [
        "print(min(width_list))\n",
        "min_image_index=np.argmin(width_list)\n",
        "im=PIL.Image.open(original_dataset_dir+\"/Wheat___Yellow_Rust/\"+rusty_wheat_list[min_image_index-len(healthy_wheat_list)])\n",
        "im.show()\n",
        "imread(original_dataset_dir+\"/Wheat___Yellow_Rust/\"+rusty_wheat_list[min_image_index-len(healthy_wheat_list)]).shape"
      ],
      "metadata": {
        "colab": {
          "base_uri": "https://localhost:8080/",
          "height": 104
        },
        "id": "tiRsu3rAX0cQ",
        "outputId": "7cb8a9b7-15b8-4cb8-b568-a31210520b27"
      },
      "execution_count": 74,
      "outputs": [
        {
          "output_type": "stream",
          "name": "stdout",
          "text": [
            "18\n"
          ]
        },
        {
          "output_type": "display_data",
          "data": {
            "text/plain": [
              "<PIL.JpegImagePlugin.JpegImageFile image mode=RGB size=18x52 at 0x7F4260341B50>"
            ],
            "image/png": "[encoded data removed]"
          },
          "metadata": {}
        },
        {
          "output_type": "execute_result",
          "data": {
            "text/plain": [
              "(52, 18, 3)"
            ]
          },
          "metadata": {},
          "execution_count": 74
        }
      ]
    },
    {
      "cell_type": "code",
      "source": [
        "treshold_for_imsize=20\n",
        "print(\"count of images with height less than 20px:\",sum(np.array(height_list)<treshold_for_imsize))\n",
        "print(\"count of images with width less than 20px:\",sum(np.array(width_list)<treshold_for_imsize))"
      ],
      "metadata": {
        "colab": {
          "base_uri": "https://localhost:8080/"
        },
        "id": "ooo8OqKxKfpC",
        "outputId": "57b9d049-68d1-4ad6-947d-133f487f29a9"
      },
      "execution_count": 75,
      "outputs": [
        {
          "output_type": "stream",
          "name": "stdout",
          "text": [
            "count of images with height less than 20px: 4\n",
            "count of images with width less than 20px: 1\n"
          ]
        }
      ]
    },
    {
      "cell_type": "code",
      "source": [
        "min_height_image_indexes=[i for i in range(len(height_list)) if height_list[i] < treshold_for_imsize]\n",
        "for i in min_height_image_indexes:\n",
        "  im=PIL.Image.open(original_dataset_dir+\"/Wheat___Yellow_Rust/\"+rusty_wheat_list[i-len(healthy_wheat_list)])\n",
        "  im.show()\n",
        "  print(imread(original_dataset_dir+\"/Wheat___Yellow_Rust/\"+rusty_wheat_list[i-len(healthy_wheat_list)]).shape)"
      ],
      "metadata": {
        "colab": {
          "base_uri": "https://localhost:8080/",
          "height": 158
        },
        "id": "GxG_tBEPUonO",
        "outputId": "39c852cd-1ffe-4f0e-cc87-0d2be080e405"
      },
      "execution_count": 76,
      "outputs": [
        {
          "output_type": "display_data",
          "data": {
            "text/plain": [
              "<PIL.JpegImagePlugin.JpegImageFile image mode=RGB size=30x1 at 0x7F42604CBEB0>"
            ],
            "image/png": "[encoded data removed]"
          },
          "metadata": {}
        },
        {
          "output_type": "stream",
          "name": "stdout",
          "text": [
            "(1, 30, 3)\n"
          ]
        },
        {
          "output_type": "display_data",
          "data": {
            "text/plain": [
              "<PIL.JpegImagePlugin.JpegImageFile image mode=RGB size=138x18 at 0x7F42604CBE50>"
            ],
            "image/png": "[encoded data removed]"
          },
          "metadata": {}
        },
        {
          "output_type": "stream",
          "name": "stdout",
          "text": [
            "(18, 138, 3)\n"
          ]
        },
        {
          "output_type": "display_data",
          "data": {
            "text/plain": [
              "<PIL.JpegImagePlugin.JpegImageFile image mode=RGB size=94x18 at 0x7F424F26F1C0>"
            ],
            "image/png": "[encoded data removed]"
          },
          "metadata": {}
        },
        {
          "output_type": "stream",
          "name": "stdout",
          "text": [
            "(18, 94, 3)\n"
          ]
        },
        {
          "output_type": "display_data",
          "data": {
            "text/plain": [
              "<PIL.JpegImagePlugin.JpegImageFile image mode=RGB size=196x18 at 0x7F424F240250>"
            ],
            "image/png": "[encoded data removed]"
          },
          "metadata": {}
        },
        {
          "output_type": "stream",
          "name": "stdout",
          "text": [
            "(18, 196, 3)\n"
          ]
        }
      ]
    },
    {
      "cell_type": "code",
      "source": [
        "#decided to exclude the image with the height of 1px\n",
        "rusty_wheat_list.pop(min_image_index-len(healthy_wheat_list))\n",
        "print(len(rusty_wheat_list))"
      ],
      "metadata": {
        "colab": {
          "base_uri": "https://localhost:8080/"
        },
        "id": "VRaSIu39UoqO",
        "outputId": "1a1857d8-2cef-4b39-aacc-c97734f040a9"
      },
      "execution_count": 77,
      "outputs": [
        {
          "output_type": "stream",
          "name": "stdout",
          "text": [
            "923\n"
          ]
        }
      ]
    },
    {
      "cell_type": "code",
      "source": [
        "height_list.pop(min_image_index)\n",
        "width_list.pop(min_image_index)"
      ],
      "metadata": {
        "colab": {
          "base_uri": "https://localhost:8080/"
        },
        "id": "YJNjaFrroTD0",
        "outputId": "92415060-0e7f-49a4-e22d-8baa730a7630"
      },
      "execution_count": 78,
      "outputs": [
        {
          "output_type": "execute_result",
          "data": {
            "text/plain": [
              "18"
            ]
          },
          "metadata": {},
          "execution_count": 78
        }
      ]
    },
    {
      "cell_type": "code",
      "source": [
        "np.mean(height_list),np.median(height_list)"
      ],
      "metadata": {
        "colab": {
          "base_uri": "https://localhost:8080/"
        },
        "id": "a81dg5EMoTGo",
        "outputId": "48cdcb87-82f3-47d1-96ce-9136b0037033"
      },
      "execution_count": 79,
      "outputs": [
        {
          "output_type": "execute_result",
          "data": {
            "text/plain": [
              "(518.5890142226582, 372.0)"
            ]
          },
          "metadata": {},
          "execution_count": 79
        }
      ]
    },
    {
      "cell_type": "code",
      "source": [
        "np.mean(width_list),np.median(width_list)"
      ],
      "metadata": {
        "colab": {
          "base_uri": "https://localhost:8080/"
        },
        "id": "vHM5-LZeoTNc",
        "outputId": "21f356d9-b891-4b41-ad3d-1e4ead62e1b1"
      },
      "execution_count": 80,
      "outputs": [
        {
          "output_type": "execute_result",
          "data": {
            "text/plain": [
              "(590.3786169691025, 438.0)"
            ]
          },
          "metadata": {},
          "execution_count": 80
        }
      ]
    },
    {
      "cell_type": "code",
      "source": [
        "img_size=(372,372)"
      ],
      "metadata": {
        "id": "L0dvWGGkoTQh"
      },
      "execution_count": 81,
      "outputs": []
    },
    {
      "cell_type": "code",
      "source": [
        "seed=53\n",
        "np.random.seed(seed)"
      ],
      "metadata": {
        "id": "0GRBpZnaJ2ya"
      },
      "execution_count": 82,
      "outputs": []
    },
    {
      "cell_type": "code",
      "source": [
        "np.random.shuffle(healthy_wheat_list)\n",
        "\n",
        "print(len(healthy_wheat_list))\n",
        "healthy_test_list=healthy_wheat_list[:int(len(healthy_wheat_list)/5)]\n",
        "healthy_validation_list=healthy_wheat_list[int(len(healthy_wheat_list)/5):2*int(len(healthy_wheat_list)/5):]\n",
        "healthy_train_list=healthy_wheat_list[2*int(len(healthy_wheat_list)/5)::]\n",
        "\n",
        "print(len(healthy_test_list))\n",
        "print(len(healthy_validation_list))\n",
        "print(len(healthy_train_list))"
      ],
      "metadata": {
        "id": "rCjSMtT31li6",
        "colab": {
          "base_uri": "https://localhost:8080/"
        },
        "outputId": "f773d0ab-cdaa-4c0f-b094-de122754e7a5"
      },
      "execution_count": 83,
      "outputs": [
        {
          "output_type": "stream",
          "name": "stdout",
          "text": [
            "1116\n",
            "223\n",
            "223\n",
            "670\n"
          ]
        }
      ]
    },
    {
      "cell_type": "code",
      "source": [
        "np.random.shuffle(rusty_wheat_list)\n",
        "\n",
        "print(len(rusty_wheat_list))\n",
        "rusty_test_list=rusty_wheat_list[:int(len(rusty_wheat_list)/5)]\n",
        "rusty_validation_list=rusty_wheat_list[int(len(rusty_wheat_list)/5):2*int(len(rusty_wheat_list)/5):]\n",
        "rusty_train_list=rusty_wheat_list[2*int(len(rusty_wheat_list)/5)::]\n",
        "\n",
        "print(len(rusty_test_list))\n",
        "print(len(rusty_validation_list))\n",
        "print(len(rusty_train_list))"
      ],
      "metadata": {
        "colab": {
          "base_uri": "https://localhost:8080/"
        },
        "id": "y7oIfUU8FBHq",
        "outputId": "57d449a2-9280-4645-8bc4-f0b8153e5416"
      },
      "execution_count": 84,
      "outputs": [
        {
          "output_type": "stream",
          "name": "stdout",
          "text": [
            "923\n",
            "184\n",
            "184\n",
            "555\n"
          ]
        }
      ]
    },
    {
      "cell_type": "code",
      "source": [
        "train_dir = os.path.join(base_dir, 'train')\n",
        "os.mkdir(train_dir)\n",
        "validation_dir = os.path.join(base_dir, 'validation')\n",
        "os.mkdir(validation_dir)\n",
        "test_dir = os.path.join(base_dir, 'test')\n",
        "os.mkdir(test_dir)\n",
        "train_healthy_dir = os.path.join(train_dir, 'healthy')\n",
        "os.mkdir(train_healthy_dir)\n",
        "train_yellow_rust_dir = os.path.join(train_dir, 'yellow_rust')\n",
        "os.mkdir(train_yellow_rust_dir)\n",
        "validation_healthy_dir = os.path.join(validation_dir, 'healthy')\n",
        "os.mkdir(validation_healthy_dir)\n",
        "validation_yellow_rust_dir = os.path.join(validation_dir, 'yellow_rust')\n",
        "os.mkdir(validation_yellow_rust_dir)\n",
        "test_healthy_dir = os.path.join(test_dir, 'healthy')\n",
        "os.mkdir(test_healthy_dir)\n",
        "test_yellow_rust_dir = os.path.join(test_dir, 'yellow_rust')\n",
        "os.mkdir(test_yellow_rust_dir)"
      ],
      "metadata": {
        "id": "HBkhzQBmlyoh",
        "colab": {
          "base_uri": "https://localhost:8080/",
          "height": 235
        },
        "outputId": "0c9b1f6c-6336-4311-c7a5-c949bcf0cd22"
      },
      "execution_count": 85,
      "outputs": [
        {
          "output_type": "error",
          "ename": "FileExistsError",
          "evalue": "ignored",
          "traceback": [
            "\u001b[0;31m---------------------------------------------------------------------------\u001b[0m",
            "\u001b[0;31mFileExistsError\u001b[0m                           Traceback (most recent call last)",
            "\u001b[0;32m<ipython-input-85-df86328b73de>\u001b[0m in \u001b[0;36m<module>\u001b[0;34m\u001b[0m\n\u001b[1;32m      1\u001b[0m \u001b[0mtrain_dir\u001b[0m \u001b[0;34m=\u001b[0m \u001b[0mos\u001b[0m\u001b[0;34m.\u001b[0m\u001b[0mpath\u001b[0m\u001b[0;34m.\u001b[0m\u001b[0mjoin\u001b[0m\u001b[0;34m(\u001b[0m\u001b[0mbase_dir\u001b[0m\u001b[0;34m,\u001b[0m \u001b[0;34m'train'\u001b[0m\u001b[0;34m)\u001b[0m\u001b[0;34m\u001b[0m\u001b[0;34m\u001b[0m\u001b[0m\n\u001b[0;32m----> 2\u001b[0;31m \u001b[0mos\u001b[0m\u001b[0;34m.\u001b[0m\u001b[0mmkdir\u001b[0m\u001b[0;34m(\u001b[0m\u001b[0mtrain_dir\u001b[0m\u001b[0;34m)\u001b[0m\u001b[0;34m\u001b[0m\u001b[0;34m\u001b[0m\u001b[0m\n\u001b[0m\u001b[1;32m      3\u001b[0m \u001b[0mvalidation_dir\u001b[0m \u001b[0;34m=\u001b[0m \u001b[0mos\u001b[0m\u001b[0;34m.\u001b[0m\u001b[0mpath\u001b[0m\u001b[0;34m.\u001b[0m\u001b[0mjoin\u001b[0m\u001b[0;34m(\u001b[0m\u001b[0mbase_dir\u001b[0m\u001b[0;34m,\u001b[0m \u001b[0;34m'validation'\u001b[0m\u001b[0;34m)\u001b[0m\u001b[0;34m\u001b[0m\u001b[0;34m\u001b[0m\u001b[0m\n\u001b[1;32m      4\u001b[0m \u001b[0mos\u001b[0m\u001b[0;34m.\u001b[0m\u001b[0mmkdir\u001b[0m\u001b[0;34m(\u001b[0m\u001b[0mvalidation_dir\u001b[0m\u001b[0;34m)\u001b[0m\u001b[0;34m\u001b[0m\u001b[0;34m\u001b[0m\u001b[0m\n\u001b[1;32m      5\u001b[0m \u001b[0mtest_dir\u001b[0m \u001b[0;34m=\u001b[0m \u001b[0mos\u001b[0m\u001b[0;34m.\u001b[0m\u001b[0mpath\u001b[0m\u001b[0;34m.\u001b[0m\u001b[0mjoin\u001b[0m\u001b[0;34m(\u001b[0m\u001b[0mbase_dir\u001b[0m\u001b[0;34m,\u001b[0m \u001b[0;34m'test'\u001b[0m\u001b[0;34m)\u001b[0m\u001b[0;34m\u001b[0m\u001b[0;34m\u001b[0m\u001b[0m\n",
            "\u001b[0;31mFileExistsError\u001b[0m: [Errno 17] File exists: '/content/tempdir/train'"
          ]
        }
      ]
    },
    {
      "cell_type": "code",
      "source": [
        "for fname in healthy_train_list:\n",
        "  src = os.path.join(original_dataset_dir+\"/Wheat___Healthy/\", fname)\n",
        "  dst = os.path.join(train_healthy_dir, fname)\n",
        "  print(src)\n",
        "  print(dst)\n",
        "  shutil.copyfile(src, dst)\n",
        "for fname in healthy_validation_list:\n",
        "  src = os.path.join(original_dataset_dir+\"/Wheat___Healthy/\", fname)\n",
        "  dst = os.path.join(validation_healthy_dir, fname)\n",
        "  shutil.copyfile(src, dst)\n",
        "for fname in healthy_test_list:\n",
        "  src = os.path.join(original_dataset_dir+\"/Wheat___Healthy/\", fname)\n",
        "  dst = os.path.join(test_healthy_dir, fname)\n",
        "  shutil.copyfile(src, dst)\n",
        "for fname in rusty_train_list:\n",
        "  src = os.path.join(original_dataset_dir+\"/Wheat___Yellow_Rust/\", fname)\n",
        "  dst = os.path.join(train_yellow_rust_dir, fname)\n",
        "  shutil.copyfile(src, dst)\n",
        "for fname in rusty_validation_list:\n",
        "  src = os.path.join(original_dataset_dir+\"/Wheat___Yellow_Rust/\", fname)\n",
        "  dst = os.path.join(validation_yellow_rust_dir, fname)\n",
        "  shutil.copyfile(src, dst)\n",
        "for fname in rusty_test_list:\n",
        "  src = os.path.join(original_dataset_dir+\"/Wheat___Yellow_Rust/\", fname)\n",
        "  dst = os.path.join(test_yellow_rust_dir, fname)\n",
        "  shutil.copyfile(src, dst)"
      ],
      "metadata": {
        "id": "zIwrnvQWKVvV",
        "colab": {
          "base_uri": "https://localhost:8080/"
        },
        "outputId": "702efff1-cc01-48fb-9295-a895a75ad2a1"
      },
      "execution_count": 87,
      "outputs": [
        {
          "output_type": "stream",
          "name": "stdout",
          "text": [
            "/content/BangladeshiCrops/BangladeshiCrops/Crop___Disease/Wheat/Wheat___Healthy/Healthy664.jpg\n",
            "/content/tempdir/train/healthy/Healthy664.jpg\n",
            "/content/BangladeshiCrops/BangladeshiCrops/Crop___Disease/Wheat/Wheat___Healthy/Healthy021.jpg\n",
            "/content/tempdir/train/healthy/Healthy021.jpg\n",
            "/content/BangladeshiCrops/BangladeshiCrops/Crop___Disease/Wheat/Wheat___Healthy/Healthy028.jpg\n",
            "/content/tempdir/train/healthy/Healthy028.jpg\n",
            "/content/BangladeshiCrops/BangladeshiCrops/Crop___Disease/Wheat/Wheat___Healthy/Healthy1006.jpg\n",
            "/content/tempdir/train/healthy/Healthy1006.jpg\n",
            "/content/BangladeshiCrops/BangladeshiCrops/Crop___Disease/Wheat/Wheat___Healthy/Healthy567.jpg\n",
            "/content/tempdir/train/healthy/Healthy567.jpg\n",
            "/content/BangladeshiCrops/BangladeshiCrops/Crop___Disease/Wheat/Wheat___Healthy/Healthy422.jpg\n",
            "/content/tempdir/train/healthy/Healthy422.jpg\n",
            "/content/BangladeshiCrops/BangladeshiCrops/Crop___Disease/Wheat/Wheat___Healthy/Healthy272.jpg\n",
            "/content/tempdir/train/healthy/Healthy272.jpg\n",
            "/content/BangladeshiCrops/BangladeshiCrops/Crop___Disease/Wheat/Wheat___Healthy/Healthy1113.jpg\n",
            "/content/tempdir/train/healthy/Healthy1113.jpg\n",
            "/content/BangladeshiCrops/BangladeshiCrops/Crop___Disease/Wheat/Wheat___Healthy/Healthy1028.jpg\n",
            "/content/tempdir/train/healthy/Healthy1028.jpg\n",
            "/content/BangladeshiCrops/BangladeshiCrops/Crop___Disease/Wheat/Wheat___Healthy/Healthy569.jpg\n",
            "/content/tempdir/train/healthy/Healthy569.jpg\n",
            "/content/BangladeshiCrops/BangladeshiCrops/Crop___Disease/Wheat/Wheat___Healthy/Healthy427.jpg\n",
            "/content/tempdir/train/healthy/Healthy427.jpg\n",
            "/content/BangladeshiCrops/BangladeshiCrops/Crop___Disease/Wheat/Wheat___Healthy/Healthy512.jpg\n",
            "/content/tempdir/train/healthy/Healthy512.jpg\n",
            "/content/BangladeshiCrops/BangladeshiCrops/Crop___Disease/Wheat/Wheat___Healthy/Healthy829.jpg\n",
            "/content/tempdir/train/healthy/Healthy829.jpg\n",
            "/content/BangladeshiCrops/BangladeshiCrops/Crop___Disease/Wheat/Wheat___Healthy/Healthy1326.jpg\n",
            "/content/tempdir/train/healthy/Healthy1326.jpg\n",
            "/content/BangladeshiCrops/BangladeshiCrops/Crop___Disease/Wheat/Wheat___Healthy/Healthy1331.jpg\n",
            "/content/tempdir/train/healthy/Healthy1331.jpg\n",
            "/content/BangladeshiCrops/BangladeshiCrops/Crop___Disease/Wheat/Wheat___Healthy/Healthy435.jpg\n",
            "/content/tempdir/train/healthy/Healthy435.jpg\n",
            "/content/BangladeshiCrops/BangladeshiCrops/Crop___Disease/Wheat/Wheat___Healthy/Healthy974.jpg\n",
            "/content/tempdir/train/healthy/Healthy974.jpg\n",
            "/content/BangladeshiCrops/BangladeshiCrops/Crop___Disease/Wheat/Wheat___Healthy/Healthy794.jpg\n",
            "/content/tempdir/train/healthy/Healthy794.jpg\n",
            "/content/BangladeshiCrops/BangladeshiCrops/Crop___Disease/Wheat/Wheat___Healthy/Healthy694.jpg\n",
            "/content/tempdir/train/healthy/Healthy694.jpg\n",
            "/content/BangladeshiCrops/BangladeshiCrops/Crop___Disease/Wheat/Wheat___Healthy/Healthy861.jpg\n",
            "/content/tempdir/train/healthy/Healthy861.jpg\n",
            "/content/BangladeshiCrops/BangladeshiCrops/Crop___Disease/Wheat/Wheat___Healthy/Healthy883.jpg\n",
            "/content/tempdir/train/healthy/Healthy883.jpg\n",
            "/content/BangladeshiCrops/BangladeshiCrops/Crop___Disease/Wheat/Wheat___Healthy/Healthy030.jpg\n",
            "/content/tempdir/train/healthy/Healthy030.jpg\n",
            "/content/BangladeshiCrops/BangladeshiCrops/Crop___Disease/Wheat/Wheat___Healthy/Healthy388.jpg\n",
            "/content/tempdir/train/healthy/Healthy388.jpg\n",
            "/content/BangladeshiCrops/BangladeshiCrops/Crop___Disease/Wheat/Wheat___Healthy/Healthy773.jpg\n",
            "/content/tempdir/train/healthy/Healthy773.jpg\n",
            "/content/BangladeshiCrops/BangladeshiCrops/Crop___Disease/Wheat/Wheat___Healthy/Healthy311.jpg\n",
            "/content/tempdir/train/healthy/Healthy311.jpg\n",
            "/content/BangladeshiCrops/BangladeshiCrops/Crop___Disease/Wheat/Wheat___Healthy/Healthy177.jpg\n",
            "/content/tempdir/train/healthy/Healthy177.jpg\n",
            "/content/BangladeshiCrops/BangladeshiCrops/Crop___Disease/Wheat/Wheat___Healthy/Healthy121.jpg\n",
            "/content/tempdir/train/healthy/Healthy121.jpg\n",
            "/content/BangladeshiCrops/BangladeshiCrops/Crop___Disease/Wheat/Wheat___Healthy/Healthy330.jpg\n",
            "/content/tempdir/train/healthy/Healthy330.jpg\n",
            "/content/BangladeshiCrops/BangladeshiCrops/Crop___Disease/Wheat/Wheat___Healthy/Healthy799.jpg\n",
            "/content/tempdir/train/healthy/Healthy799.jpg\n",
            "/content/BangladeshiCrops/BangladeshiCrops/Crop___Disease/Wheat/Wheat___Healthy/Healthy761.jpg\n",
            "/content/tempdir/train/healthy/Healthy761.jpg\n",
            "/content/BangladeshiCrops/BangladeshiCrops/Crop___Disease/Wheat/Wheat___Healthy/Healthy426.jpg\n",
            "/content/tempdir/train/healthy/Healthy426.jpg\n",
            "/content/BangladeshiCrops/BangladeshiCrops/Crop___Disease/Wheat/Wheat___Healthy/Healthy958.jpg\n",
            "/content/tempdir/train/healthy/Healthy958.jpg\n",
            "/content/BangladeshiCrops/BangladeshiCrops/Crop___Disease/Wheat/Wheat___Healthy/Healthy491.jpg\n",
            "/content/tempdir/train/healthy/Healthy491.jpg\n",
            "/content/BangladeshiCrops/BangladeshiCrops/Crop___Disease/Wheat/Wheat___Healthy/Healthy1294.jpg\n",
            "/content/tempdir/train/healthy/Healthy1294.jpg\n",
            "/content/BangladeshiCrops/BangladeshiCrops/Crop___Disease/Wheat/Wheat___Healthy/Healthy1219.jpg\n",
            "/content/tempdir/train/healthy/Healthy1219.jpg\n",
            "/content/BangladeshiCrops/BangladeshiCrops/Crop___Disease/Wheat/Wheat___Healthy/Healthy445.jpg\n",
            "/content/tempdir/train/healthy/Healthy445.jpg\n",
            "/content/BangladeshiCrops/BangladeshiCrops/Crop___Disease/Wheat/Wheat___Healthy/Healthy119.jpg\n",
            "/content/tempdir/train/healthy/Healthy119.jpg\n",
            "/content/BangladeshiCrops/BangladeshiCrops/Crop___Disease/Wheat/Wheat___Healthy/Healthy764.jpg\n",
            "/content/tempdir/train/healthy/Healthy764.jpg\n",
            "/content/BangladeshiCrops/BangladeshiCrops/Crop___Disease/Wheat/Wheat___Healthy/Healthy1262.jpg\n",
            "/content/tempdir/train/healthy/Healthy1262.jpg\n",
            "/content/BangladeshiCrops/BangladeshiCrops/Crop___Disease/Wheat/Wheat___Healthy/Healthy965.jpg\n",
            "/content/tempdir/train/healthy/Healthy965.jpg\n",
            "/content/BangladeshiCrops/BangladeshiCrops/Crop___Disease/Wheat/Wheat___Healthy/Healthy1230.jpg\n",
            "/content/tempdir/train/healthy/Healthy1230.jpg\n",
            "/content/BangladeshiCrops/BangladeshiCrops/Crop___Disease/Wheat/Wheat___Healthy/Healthy450.jpg\n",
            "/content/tempdir/train/healthy/Healthy450.jpg\n",
            "/content/BangladeshiCrops/BangladeshiCrops/Crop___Disease/Wheat/Wheat___Healthy/Healthy205.jpg\n",
            "/content/tempdir/train/healthy/Healthy205.jpg\n",
            "/content/BangladeshiCrops/BangladeshiCrops/Crop___Disease/Wheat/Wheat___Healthy/Healthy938.jpg\n",
            "/content/tempdir/train/healthy/Healthy938.jpg\n",
            "/content/BangladeshiCrops/BangladeshiCrops/Crop___Disease/Wheat/Wheat___Healthy/Healthy1115.jpg\n",
            "/content/tempdir/train/healthy/Healthy1115.jpg\n",
            "/content/BangladeshiCrops/BangladeshiCrops/Crop___Disease/Wheat/Wheat___Healthy/Healthy035.jpg\n",
            "/content/tempdir/train/healthy/Healthy035.jpg\n",
            "/content/BangladeshiCrops/BangladeshiCrops/Crop___Disease/Wheat/Wheat___Healthy/Healthy528.jpg\n",
            "/content/tempdir/train/healthy/Healthy528.jpg\n",
            "/content/BangladeshiCrops/BangladeshiCrops/Crop___Disease/Wheat/Wheat___Healthy/Healthy066.jpg\n",
            "/content/tempdir/train/healthy/Healthy066.jpg\n",
            "/content/BangladeshiCrops/BangladeshiCrops/Crop___Disease/Wheat/Wheat___Healthy/Healthy1345.jpg\n",
            "/content/tempdir/train/healthy/Healthy1345.jpg\n",
            "/content/BangladeshiCrops/BangladeshiCrops/Crop___Disease/Wheat/Wheat___Healthy/Healthy671.jpg\n",
            "/content/tempdir/train/healthy/Healthy671.jpg\n",
            "/content/BangladeshiCrops/BangladeshiCrops/Crop___Disease/Wheat/Wheat___Healthy/Healthy130.jpg\n",
            "/content/tempdir/train/healthy/Healthy130.jpg\n",
            "/content/BangladeshiCrops/BangladeshiCrops/Crop___Disease/Wheat/Wheat___Healthy/Healthy1318.jpg\n",
            "/content/tempdir/train/healthy/Healthy1318.jpg\n",
            "/content/BangladeshiCrops/BangladeshiCrops/Crop___Disease/Wheat/Wheat___Healthy/Healthy1050.jpg\n",
            "/content/tempdir/train/healthy/Healthy1050.jpg\n",
            "/content/BangladeshiCrops/BangladeshiCrops/Crop___Disease/Wheat/Wheat___Healthy/Healthy1292.jpg\n",
            "/content/tempdir/train/healthy/Healthy1292.jpg\n",
            "/content/BangladeshiCrops/BangladeshiCrops/Crop___Disease/Wheat/Wheat___Healthy/Healthy1202.jpg\n",
            "/content/tempdir/train/healthy/Healthy1202.jpg\n",
            "/content/BangladeshiCrops/BangladeshiCrops/Crop___Disease/Wheat/Wheat___Healthy/Healthy1072.jpg\n",
            "/content/tempdir/train/healthy/Healthy1072.jpg\n",
            "/content/BangladeshiCrops/BangladeshiCrops/Crop___Disease/Wheat/Wheat___Healthy/Healthy755.jpg\n",
            "/content/tempdir/train/healthy/Healthy755.jpg\n",
            "/content/BangladeshiCrops/BangladeshiCrops/Crop___Disease/Wheat/Wheat___Healthy/Healthy798.jpg\n",
            "/content/tempdir/train/healthy/Healthy798.jpg\n",
            "/content/BangladeshiCrops/BangladeshiCrops/Crop___Disease/Wheat/Wheat___Healthy/Healthy1204.jpg\n",
            "/content/tempdir/train/healthy/Healthy1204.jpg\n",
            "/content/BangladeshiCrops/BangladeshiCrops/Crop___Disease/Wheat/Wheat___Healthy/Healthy915.jpg\n",
            "/content/tempdir/train/healthy/Healthy915.jpg\n",
            "/content/BangladeshiCrops/BangladeshiCrops/Crop___Disease/Wheat/Wheat___Healthy/Healthy864.jpg\n",
            "/content/tempdir/train/healthy/Healthy864.jpg\n",
            "/content/BangladeshiCrops/BangladeshiCrops/Crop___Disease/Wheat/Wheat___Healthy/Healthy626.jpg\n",
            "/content/tempdir/train/healthy/Healthy626.jpg\n",
            "/content/BangladeshiCrops/BangladeshiCrops/Crop___Disease/Wheat/Wheat___Healthy/Healthy1109.jpg\n",
            "/content/tempdir/train/healthy/Healthy1109.jpg\n",
            "/content/BangladeshiCrops/BangladeshiCrops/Crop___Disease/Wheat/Wheat___Healthy/Healthy977.jpg\n",
            "/content/tempdir/train/healthy/Healthy977.jpg\n",
            "/content/BangladeshiCrops/BangladeshiCrops/Crop___Disease/Wheat/Wheat___Healthy/Healthy140.jpg\n",
            "/content/tempdir/train/healthy/Healthy140.jpg\n",
            "/content/BangladeshiCrops/BangladeshiCrops/Crop___Disease/Wheat/Wheat___Healthy/Healthy733.jpg\n",
            "/content/tempdir/train/healthy/Healthy733.jpg\n",
            "/content/BangladeshiCrops/BangladeshiCrops/Crop___Disease/Wheat/Wheat___Healthy/Healthy862.jpg\n",
            "/content/tempdir/train/healthy/Healthy862.jpg\n",
            "/content/BangladeshiCrops/BangladeshiCrops/Crop___Disease/Wheat/Wheat___Healthy/Healthy806.jpg\n",
            "/content/tempdir/train/healthy/Healthy806.jpg\n",
            "/content/BangladeshiCrops/BangladeshiCrops/Crop___Disease/Wheat/Wheat___Healthy/Healthy931.jpg\n",
            "/content/tempdir/train/healthy/Healthy931.jpg\n",
            "/content/BangladeshiCrops/BangladeshiCrops/Crop___Disease/Wheat/Wheat___Healthy/Healthy996.jpg\n",
            "/content/tempdir/train/healthy/Healthy996.jpg\n",
            "/content/BangladeshiCrops/BangladeshiCrops/Crop___Disease/Wheat/Wheat___Healthy/Healthy153.jpg\n",
            "/content/tempdir/train/healthy/Healthy153.jpg\n",
            "/content/BangladeshiCrops/BangladeshiCrops/Crop___Disease/Wheat/Wheat___Healthy/Healthy999.jpg\n",
            "/content/tempdir/train/healthy/Healthy999.jpg\n",
            "/content/BangladeshiCrops/BangladeshiCrops/Crop___Disease/Wheat/Wheat___Healthy/Healthy725.jpg\n",
            "/content/tempdir/train/healthy/Healthy725.jpg\n",
            "/content/BangladeshiCrops/BangladeshiCrops/Crop___Disease/Wheat/Wheat___Healthy/Healthy831.jpg\n",
            "/content/tempdir/train/healthy/Healthy831.jpg\n",
            "/content/BangladeshiCrops/BangladeshiCrops/Crop___Disease/Wheat/Wheat___Healthy/Healthy100.jpg\n",
            "/content/tempdir/train/healthy/Healthy100.jpg\n",
            "/content/BangladeshiCrops/BangladeshiCrops/Crop___Disease/Wheat/Wheat___Healthy/Healthy1264.jpg\n",
            "/content/tempdir/train/healthy/Healthy1264.jpg\n",
            "/content/BangladeshiCrops/BangladeshiCrops/Crop___Disease/Wheat/Wheat___Healthy/Healthy007.jpg\n",
            "/content/tempdir/train/healthy/Healthy007.jpg\n",
            "/content/BangladeshiCrops/BangladeshiCrops/Crop___Disease/Wheat/Wheat___Healthy/Healthy625.jpg\n",
            "/content/tempdir/train/healthy/Healthy625.jpg\n",
            "/content/BangladeshiCrops/BangladeshiCrops/Crop___Disease/Wheat/Wheat___Healthy/Healthy863.jpg\n",
            "/content/tempdir/train/healthy/Healthy863.jpg\n",
            "/content/BangladeshiCrops/BangladeshiCrops/Crop___Disease/Wheat/Wheat___Healthy/Healthy1085.jpg\n",
            "/content/tempdir/train/healthy/Healthy1085.jpg\n",
            "/content/BangladeshiCrops/BangladeshiCrops/Crop___Disease/Wheat/Wheat___Healthy/Healthy986.jpg\n",
            "/content/tempdir/train/healthy/Healthy986.jpg\n",
            "/content/BangladeshiCrops/BangladeshiCrops/Crop___Disease/Wheat/Wheat___Healthy/Healthy473.jpg\n",
            "/content/tempdir/train/healthy/Healthy473.jpg\n",
            "/content/BangladeshiCrops/BangladeshiCrops/Crop___Disease/Wheat/Wheat___Healthy/Healthy214.jpg\n",
            "/content/tempdir/train/healthy/Healthy214.jpg\n",
            "/content/BangladeshiCrops/BangladeshiCrops/Crop___Disease/Wheat/Wheat___Healthy/Healthy1247.jpg\n",
            "/content/tempdir/train/healthy/Healthy1247.jpg\n",
            "/content/BangladeshiCrops/BangladeshiCrops/Crop___Disease/Wheat/Wheat___Healthy/Healthy502.jpg\n",
            "/content/tempdir/train/healthy/Healthy502.jpg\n",
            "/content/BangladeshiCrops/BangladeshiCrops/Crop___Disease/Wheat/Wheat___Healthy/Healthy568.jpg\n",
            "/content/tempdir/train/healthy/Healthy568.jpg\n",
            "/content/BangladeshiCrops/BangladeshiCrops/Crop___Disease/Wheat/Wheat___Healthy/Healthy988.jpg\n",
            "/content/tempdir/train/healthy/Healthy988.jpg\n",
            "/content/BangladeshiCrops/BangladeshiCrops/Crop___Disease/Wheat/Wheat___Healthy/Healthy705.jpg\n",
            "/content/tempdir/train/healthy/Healthy705.jpg\n",
            "/content/BangladeshiCrops/BangladeshiCrops/Crop___Disease/Wheat/Wheat___Healthy/Healthy1029.jpg\n",
            "/content/tempdir/train/healthy/Healthy1029.jpg\n",
            "/content/BangladeshiCrops/BangladeshiCrops/Crop___Disease/Wheat/Wheat___Healthy/Healthy503.jpg\n",
            "/content/tempdir/train/healthy/Healthy503.jpg\n",
            "/content/BangladeshiCrops/BangladeshiCrops/Crop___Disease/Wheat/Wheat___Healthy/Healthy998.jpg\n",
            "/content/tempdir/train/healthy/Healthy998.jpg\n",
            "/content/BangladeshiCrops/BangladeshiCrops/Crop___Disease/Wheat/Wheat___Healthy/Healthy613.jpg\n",
            "/content/tempdir/train/healthy/Healthy613.jpg\n",
            "/content/BangladeshiCrops/BangladeshiCrops/Crop___Disease/Wheat/Wheat___Healthy/Healthy1042.jpg\n",
            "/content/tempdir/train/healthy/Healthy1042.jpg\n",
            "/content/BangladeshiCrops/BangladeshiCrops/Crop___Disease/Wheat/Wheat___Healthy/Healthy978.jpg\n",
            "/content/tempdir/train/healthy/Healthy978.jpg\n",
            "/content/BangladeshiCrops/BangladeshiCrops/Crop___Disease/Wheat/Wheat___Healthy/Healthy1041.jpg\n",
            "/content/tempdir/train/healthy/Healthy1041.jpg\n",
            "/content/BangladeshiCrops/BangladeshiCrops/Crop___Disease/Wheat/Wheat___Healthy/Healthy329.jpg\n",
            "/content/tempdir/train/healthy/Healthy329.jpg\n",
            "/content/BangladeshiCrops/BangladeshiCrops/Crop___Disease/Wheat/Wheat___Healthy/Healthy876.jpg\n",
            "/content/tempdir/train/healthy/Healthy876.jpg\n",
            "/content/BangladeshiCrops/BangladeshiCrops/Crop___Disease/Wheat/Wheat___Healthy/Healthy805.jpg\n",
            "/content/tempdir/train/healthy/Healthy805.jpg\n",
            "/content/BangladeshiCrops/BangladeshiCrops/Crop___Disease/Wheat/Wheat___Healthy/Healthy1064.jpg\n",
            "/content/tempdir/train/healthy/Healthy1064.jpg\n",
            "/content/BangladeshiCrops/BangladeshiCrops/Crop___Disease/Wheat/Wheat___Healthy/Healthy304.jpg\n",
            "/content/tempdir/train/healthy/Healthy304.jpg\n",
            "/content/BangladeshiCrops/BangladeshiCrops/Crop___Disease/Wheat/Wheat___Healthy/Healthy1315.jpg\n",
            "/content/tempdir/train/healthy/Healthy1315.jpg\n",
            "/content/BangladeshiCrops/BangladeshiCrops/Crop___Disease/Wheat/Wheat___Healthy/Healthy908.jpg\n",
            "/content/tempdir/train/healthy/Healthy908.jpg\n",
            "/content/BangladeshiCrops/BangladeshiCrops/Crop___Disease/Wheat/Wheat___Healthy/Healthy1281.jpg\n",
            "/content/tempdir/train/healthy/Healthy1281.jpg\n",
            "/content/BangladeshiCrops/BangladeshiCrops/Crop___Disease/Wheat/Wheat___Healthy/Healthy510.jpg\n",
            "/content/tempdir/train/healthy/Healthy510.jpg\n",
            "/content/BangladeshiCrops/BangladeshiCrops/Crop___Disease/Wheat/Wheat___Healthy/Healthy1311.jpg\n",
            "/content/tempdir/train/healthy/Healthy1311.jpg\n",
            "/content/BangladeshiCrops/BangladeshiCrops/Crop___Disease/Wheat/Wheat___Healthy/Healthy046.jpg\n",
            "/content/tempdir/train/healthy/Healthy046.jpg\n",
            "/content/BangladeshiCrops/BangladeshiCrops/Crop___Disease/Wheat/Wheat___Healthy/Healthy099.jpg\n",
            "/content/tempdir/train/healthy/Healthy099.jpg\n",
            "/content/BangladeshiCrops/BangladeshiCrops/Crop___Disease/Wheat/Wheat___Healthy/Healthy387.jpg\n",
            "/content/tempdir/train/healthy/Healthy387.jpg\n",
            "/content/BangladeshiCrops/BangladeshiCrops/Crop___Disease/Wheat/Wheat___Healthy/Healthy1183.jpg\n",
            "/content/tempdir/train/healthy/Healthy1183.jpg\n",
            "/content/BangladeshiCrops/BangladeshiCrops/Crop___Disease/Wheat/Wheat___Healthy/Healthy517.jpg\n",
            "/content/tempdir/train/healthy/Healthy517.jpg\n",
            "/content/BangladeshiCrops/BangladeshiCrops/Crop___Disease/Wheat/Wheat___Healthy/Healthy712.jpg\n",
            "/content/tempdir/train/healthy/Healthy712.jpg\n",
            "/content/BangladeshiCrops/BangladeshiCrops/Crop___Disease/Wheat/Wheat___Healthy/Healthy1375.jpg\n",
            "/content/tempdir/train/healthy/Healthy1375.jpg\n",
            "/content/BangladeshiCrops/BangladeshiCrops/Crop___Disease/Wheat/Wheat___Healthy/Healthy526.jpg\n",
            "/content/tempdir/train/healthy/Healthy526.jpg\n",
            "/content/BangladeshiCrops/BangladeshiCrops/Crop___Disease/Wheat/Wheat___Healthy/Healthy334.jpg\n",
            "/content/tempdir/train/healthy/Healthy334.jpg\n",
            "/content/BangladeshiCrops/BangladeshiCrops/Crop___Disease/Wheat/Wheat___Healthy/Healthy884.jpg\n",
            "/content/tempdir/train/healthy/Healthy884.jpg\n",
            "/content/BangladeshiCrops/BangladeshiCrops/Crop___Disease/Wheat/Wheat___Healthy/Healthy1383.jpg\n",
            "/content/tempdir/train/healthy/Healthy1383.jpg\n",
            "/content/BangladeshiCrops/BangladeshiCrops/Crop___Disease/Wheat/Wheat___Healthy/Healthy1214.jpg\n",
            "/content/tempdir/train/healthy/Healthy1214.jpg\n",
            "/content/BangladeshiCrops/BangladeshiCrops/Crop___Disease/Wheat/Wheat___Healthy/Healthy206.jpg\n",
            "/content/tempdir/train/healthy/Healthy206.jpg\n",
            "/content/BangladeshiCrops/BangladeshiCrops/Crop___Disease/Wheat/Wheat___Healthy/Healthy158.jpg\n",
            "/content/tempdir/train/healthy/Healthy158.jpg\n",
            "/content/BangladeshiCrops/BangladeshiCrops/Crop___Disease/Wheat/Wheat___Healthy/Healthy1373.jpg\n",
            "/content/tempdir/train/healthy/Healthy1373.jpg\n",
            "/content/BangladeshiCrops/BangladeshiCrops/Crop___Disease/Wheat/Wheat___Healthy/Healthy1155.jpg\n",
            "/content/tempdir/train/healthy/Healthy1155.jpg\n",
            "/content/BangladeshiCrops/BangladeshiCrops/Crop___Disease/Wheat/Wheat___Healthy/Healthy601.jpg\n",
            "/content/tempdir/train/healthy/Healthy601.jpg\n",
            "/content/BangladeshiCrops/BangladeshiCrops/Crop___Disease/Wheat/Wheat___Healthy/Healthy558.jpg\n",
            "/content/tempdir/train/healthy/Healthy558.jpg\n",
            "/content/BangladeshiCrops/BangladeshiCrops/Crop___Disease/Wheat/Wheat___Healthy/Healthy1372.jpg\n",
            "/content/tempdir/train/healthy/Healthy1372.jpg\n",
            "/content/BangladeshiCrops/BangladeshiCrops/Crop___Disease/Wheat/Wheat___Healthy/Healthy916.jpg\n",
            "/content/tempdir/train/healthy/Healthy916.jpg\n",
            "/content/BangladeshiCrops/BangladeshiCrops/Crop___Disease/Wheat/Wheat___Healthy/Healthy1325.jpg\n",
            "/content/tempdir/train/healthy/Healthy1325.jpg\n",
            "/content/BangladeshiCrops/BangladeshiCrops/Crop___Disease/Wheat/Wheat___Healthy/Healthy1320.jpg\n",
            "/content/tempdir/train/healthy/Healthy1320.jpg\n",
            "/content/BangladeshiCrops/BangladeshiCrops/Crop___Disease/Wheat/Wheat___Healthy/Healthy631.jpg\n",
            "/content/tempdir/train/healthy/Healthy631.jpg\n",
            "/content/BangladeshiCrops/BangladeshiCrops/Crop___Disease/Wheat/Wheat___Healthy/Healthy1023.jpg\n",
            "/content/tempdir/train/healthy/Healthy1023.jpg\n",
            "/content/BangladeshiCrops/BangladeshiCrops/Crop___Disease/Wheat/Wheat___Healthy/Healthy045.jpg\n",
            "/content/tempdir/train/healthy/Healthy045.jpg\n",
            "/content/BangladeshiCrops/BangladeshiCrops/Crop___Disease/Wheat/Wheat___Healthy/Healthy1374.jpg\n",
            "/content/tempdir/train/healthy/Healthy1374.jpg\n",
            "/content/BangladeshiCrops/BangladeshiCrops/Crop___Disease/Wheat/Wheat___Healthy/Healthy410.jpg\n",
            "/content/tempdir/train/healthy/Healthy410.jpg\n",
            "/content/BangladeshiCrops/BangladeshiCrops/Crop___Disease/Wheat/Wheat___Healthy/Healthy359.jpg\n",
            "/content/tempdir/train/healthy/Healthy359.jpg\n",
            "/content/BangladeshiCrops/BangladeshiCrops/Crop___Disease/Wheat/Wheat___Healthy/Healthy459.jpg\n",
            "/content/tempdir/train/healthy/Healthy459.jpg\n",
            "/content/BangladeshiCrops/BangladeshiCrops/Crop___Disease/Wheat/Wheat___Healthy/Healthy511.jpg\n",
            "/content/tempdir/train/healthy/Healthy511.jpg\n",
            "/content/BangladeshiCrops/BangladeshiCrops/Crop___Disease/Wheat/Wheat___Healthy/Healthy933.jpg\n",
            "/content/tempdir/train/healthy/Healthy933.jpg\n",
            "/content/BangladeshiCrops/BangladeshiCrops/Crop___Disease/Wheat/Wheat___Healthy/Healthy717.jpg\n",
            "/content/tempdir/train/healthy/Healthy717.jpg\n",
            "/content/BangladeshiCrops/BangladeshiCrops/Crop___Disease/Wheat/Wheat___Healthy/Healthy314.jpg\n",
            "/content/tempdir/train/healthy/Healthy314.jpg\n",
            "/content/BangladeshiCrops/BangladeshiCrops/Crop___Disease/Wheat/Wheat___Healthy/Healthy693.jpg\n",
            "/content/tempdir/train/healthy/Healthy693.jpg\n",
            "/content/BangladeshiCrops/BangladeshiCrops/Crop___Disease/Wheat/Wheat___Healthy/Healthy1224.jpg\n",
            "/content/tempdir/train/healthy/Healthy1224.jpg\n",
            "/content/BangladeshiCrops/BangladeshiCrops/Crop___Disease/Wheat/Wheat___Healthy/Healthy746.jpg\n",
            "/content/tempdir/train/healthy/Healthy746.jpg\n",
            "/content/BangladeshiCrops/BangladeshiCrops/Crop___Disease/Wheat/Wheat___Healthy/Healthy830.jpg\n",
            "/content/tempdir/train/healthy/Healthy830.jpg\n",
            "/content/BangladeshiCrops/BangladeshiCrops/Crop___Disease/Wheat/Wheat___Healthy/Healthy362.jpg\n",
            "/content/tempdir/train/healthy/Healthy362.jpg\n",
            "/content/BangladeshiCrops/BangladeshiCrops/Crop___Disease/Wheat/Wheat___Healthy/Healthy590.jpg\n",
            "/content/tempdir/train/healthy/Healthy590.jpg\n",
            "/content/BangladeshiCrops/BangladeshiCrops/Crop___Disease/Wheat/Wheat___Healthy/Healthy1125.jpg\n",
            "/content/tempdir/train/healthy/Healthy1125.jpg\n",
            "/content/BangladeshiCrops/BangladeshiCrops/Crop___Disease/Wheat/Wheat___Healthy/Healthy495.jpg\n",
            "/content/tempdir/train/healthy/Healthy495.jpg\n",
            "/content/BangladeshiCrops/BangladeshiCrops/Crop___Disease/Wheat/Wheat___Healthy/Healthy368.jpg\n",
            "/content/tempdir/train/healthy/Healthy368.jpg\n",
            "/content/BangladeshiCrops/BangladeshiCrops/Crop___Disease/Wheat/Wheat___Healthy/Healthy392.jpg\n",
            "/content/tempdir/train/healthy/Healthy392.jpg\n",
            "/content/BangladeshiCrops/BangladeshiCrops/Crop___Disease/Wheat/Wheat___Healthy/Healthy1182.jpg\n",
            "/content/tempdir/train/healthy/Healthy1182.jpg\n",
            "/content/BangladeshiCrops/BangladeshiCrops/Crop___Disease/Wheat/Wheat___Healthy/Healthy775.jpg\n",
            "/content/tempdir/train/healthy/Healthy775.jpg\n",
            "/content/BangladeshiCrops/BangladeshiCrops/Crop___Disease/Wheat/Wheat___Healthy/Healthy149.jpg\n",
            "/content/tempdir/train/healthy/Healthy149.jpg\n",
            "/content/BangladeshiCrops/BangladeshiCrops/Crop___Disease/Wheat/Wheat___Healthy/Healthy641.jpg\n",
            "/content/tempdir/train/healthy/Healthy641.jpg\n",
            "/content/BangladeshiCrops/BangladeshiCrops/Crop___Disease/Wheat/Wheat___Healthy/Healthy1323.jpg\n",
            "/content/tempdir/train/healthy/Healthy1323.jpg\n",
            "/content/BangladeshiCrops/BangladeshiCrops/Crop___Disease/Wheat/Wheat___Healthy/Healthy760.jpg\n",
            "/content/tempdir/train/healthy/Healthy760.jpg\n",
            "/content/BangladeshiCrops/BangladeshiCrops/Crop___Disease/Wheat/Wheat___Healthy/Healthy923.jpg\n",
            "/content/tempdir/train/healthy/Healthy923.jpg\n",
            "/content/BangladeshiCrops/BangladeshiCrops/Crop___Disease/Wheat/Wheat___Healthy/Healthy424.jpg\n",
            "/content/tempdir/train/healthy/Healthy424.jpg\n",
            "/content/BangladeshiCrops/BangladeshiCrops/Crop___Disease/Wheat/Wheat___Healthy/Healthy1012.jpg\n",
            "/content/tempdir/train/healthy/Healthy1012.jpg\n",
            "/content/BangladeshiCrops/BangladeshiCrops/Crop___Disease/Wheat/Wheat___Healthy/Healthy246.jpg\n",
            "/content/tempdir/train/healthy/Healthy246.jpg\n",
            "/content/BangladeshiCrops/BangladeshiCrops/Crop___Disease/Wheat/Wheat___Healthy/Healthy891.jpg\n",
            "/content/tempdir/train/healthy/Healthy891.jpg\n",
            "/content/BangladeshiCrops/BangladeshiCrops/Crop___Disease/Wheat/Wheat___Healthy/Healthy669.jpg\n",
            "/content/tempdir/train/healthy/Healthy669.jpg\n",
            "/content/BangladeshiCrops/BangladeshiCrops/Crop___Disease/Wheat/Wheat___Healthy/Healthy1093.jpg\n",
            "/content/tempdir/train/healthy/Healthy1093.jpg\n",
            "/content/BangladeshiCrops/BangladeshiCrops/Crop___Disease/Wheat/Wheat___Healthy/Healthy1367.jpg\n",
            "/content/tempdir/train/healthy/Healthy1367.jpg\n",
            "/content/BangladeshiCrops/BangladeshiCrops/Crop___Disease/Wheat/Wheat___Healthy/Healthy402.jpg\n",
            "/content/tempdir/train/healthy/Healthy402.jpg\n",
            "/content/BangladeshiCrops/BangladeshiCrops/Crop___Disease/Wheat/Wheat___Healthy/Healthy1173.jpg\n",
            "/content/tempdir/train/healthy/Healthy1173.jpg\n",
            "/content/BangladeshiCrops/BangladeshiCrops/Crop___Disease/Wheat/Wheat___Healthy/Healthy1234.jpg\n",
            "/content/tempdir/train/healthy/Healthy1234.jpg\n",
            "/content/BangladeshiCrops/BangladeshiCrops/Crop___Disease/Wheat/Wheat___Healthy/Healthy836.jpg\n",
            "/content/tempdir/train/healthy/Healthy836.jpg\n",
            "/content/BangladeshiCrops/BangladeshiCrops/Crop___Disease/Wheat/Wheat___Healthy/Healthy345.jpg\n",
            "/content/tempdir/train/healthy/Healthy345.jpg\n",
            "/content/BangladeshiCrops/BangladeshiCrops/Crop___Disease/Wheat/Wheat___Healthy/Healthy599.jpg\n",
            "/content/tempdir/train/healthy/Healthy599.jpg\n",
            "/content/BangladeshiCrops/BangladeshiCrops/Crop___Disease/Wheat/Wheat___Healthy/Healthy274.jpg\n",
            "/content/tempdir/train/healthy/Healthy274.jpg\n",
            "/content/BangladeshiCrops/BangladeshiCrops/Crop___Disease/Wheat/Wheat___Healthy/Healthy190.jpg\n",
            "/content/tempdir/train/healthy/Healthy190.jpg\n",
            "/content/BangladeshiCrops/BangladeshiCrops/Crop___Disease/Wheat/Wheat___Healthy/Healthy1312.jpg\n",
            "/content/tempdir/train/healthy/Healthy1312.jpg\n",
            "/content/BangladeshiCrops/BangladeshiCrops/Crop___Disease/Wheat/Wheat___Healthy/Healthy1025.jpg\n",
            "/content/tempdir/train/healthy/Healthy1025.jpg\n",
            "/content/BangladeshiCrops/BangladeshiCrops/Crop___Disease/Wheat/Wheat___Healthy/Healthy1387.jpg\n",
            "/content/tempdir/train/healthy/Healthy1387.jpg\n",
            "/content/BangladeshiCrops/BangladeshiCrops/Crop___Disease/Wheat/Wheat___Healthy/Healthy868.jpg\n",
            "/content/tempdir/train/healthy/Healthy868.jpg\n",
            "/content/BangladeshiCrops/BangladeshiCrops/Crop___Disease/Wheat/Wheat___Healthy/Healthy728.jpg\n",
            "/content/tempdir/train/healthy/Healthy728.jpg\n",
            "/content/BangladeshiCrops/BangladeshiCrops/Crop___Disease/Wheat/Wheat___Healthy/Healthy322.jpg\n",
            "/content/tempdir/train/healthy/Healthy322.jpg\n",
            "/content/BangladeshiCrops/BangladeshiCrops/Crop___Disease/Wheat/Wheat___Healthy/Healthy040.jpg\n",
            "/content/tempdir/train/healthy/Healthy040.jpg\n",
            "/content/BangladeshiCrops/BangladeshiCrops/Crop___Disease/Wheat/Wheat___Healthy/Healthy766.jpg\n",
            "/content/tempdir/train/healthy/Healthy766.jpg\n",
            "/content/BangladeshiCrops/BangladeshiCrops/Crop___Disease/Wheat/Wheat___Healthy/Healthy1296.jpg\n",
            "/content/tempdir/train/healthy/Healthy1296.jpg\n",
            "/content/BangladeshiCrops/BangladeshiCrops/Crop___Disease/Wheat/Wheat___Healthy/Healthy058.jpg\n",
            "/content/tempdir/train/healthy/Healthy058.jpg\n",
            "/content/BangladeshiCrops/BangladeshiCrops/Crop___Disease/Wheat/Wheat___Healthy/Healthy358.jpg\n",
            "/content/tempdir/train/healthy/Healthy358.jpg\n",
            "/content/BangladeshiCrops/BangladeshiCrops/Crop___Disease/Wheat/Wheat___Healthy/Healthy936.jpg\n",
            "/content/tempdir/train/healthy/Healthy936.jpg\n",
            "/content/BangladeshiCrops/BangladeshiCrops/Crop___Disease/Wheat/Wheat___Healthy/Healthy719.jpg\n",
            "/content/tempdir/train/healthy/Healthy719.jpg\n",
            "/content/BangladeshiCrops/BangladeshiCrops/Crop___Disease/Wheat/Wheat___Healthy/Healthy457.jpg\n",
            "/content/tempdir/train/healthy/Healthy457.jpg\n",
            "/content/BangladeshiCrops/BangladeshiCrops/Crop___Disease/Wheat/Wheat___Healthy/Healthy981.jpg\n",
            "/content/tempdir/train/healthy/Healthy981.jpg\n",
            "/content/BangladeshiCrops/BangladeshiCrops/Crop___Disease/Wheat/Wheat___Healthy/Healthy1208.jpg\n",
            "/content/tempdir/train/healthy/Healthy1208.jpg\n",
            "/content/BangladeshiCrops/BangladeshiCrops/Crop___Disease/Wheat/Wheat___Healthy/Healthy667.jpg\n",
            "/content/tempdir/train/healthy/Healthy667.jpg\n",
            "/content/BangladeshiCrops/BangladeshiCrops/Crop___Disease/Wheat/Wheat___Healthy/Healthy398.jpg\n",
            "/content/tempdir/train/healthy/Healthy398.jpg\n",
            "/content/BangladeshiCrops/BangladeshiCrops/Crop___Disease/Wheat/Wheat___Healthy/Healthy076.jpg\n",
            "/content/tempdir/train/healthy/Healthy076.jpg\n",
            "/content/BangladeshiCrops/BangladeshiCrops/Crop___Disease/Wheat/Wheat___Healthy/Healthy877.jpg\n",
            "/content/tempdir/train/healthy/Healthy877.jpg\n",
            "/content/BangladeshiCrops/BangladeshiCrops/Crop___Disease/Wheat/Wheat___Healthy/Healthy934.jpg\n",
            "/content/tempdir/train/healthy/Healthy934.jpg\n",
            "/content/BangladeshiCrops/BangladeshiCrops/Crop___Disease/Wheat/Wheat___Healthy/Healthy063.jpg\n",
            "/content/tempdir/train/healthy/Healthy063.jpg\n",
            "/content/BangladeshiCrops/BangladeshiCrops/Crop___Disease/Wheat/Wheat___Healthy/Healthy823.jpg\n",
            "/content/tempdir/train/healthy/Healthy823.jpg\n",
            "/content/BangladeshiCrops/BangladeshiCrops/Crop___Disease/Wheat/Wheat___Healthy/Healthy584.jpg\n",
            "/content/tempdir/train/healthy/Healthy584.jpg\n",
            "/content/BangladeshiCrops/BangladeshiCrops/Crop___Disease/Wheat/Wheat___Healthy/Healthy386.jpg\n",
            "/content/tempdir/train/healthy/Healthy386.jpg\n",
            "/content/BangladeshiCrops/BangladeshiCrops/Crop___Disease/Wheat/Wheat___Healthy/Healthy1031.jpg\n",
            "/content/tempdir/train/healthy/Healthy1031.jpg\n",
            "/content/BangladeshiCrops/BangladeshiCrops/Crop___Disease/Wheat/Wheat___Healthy/Healthy922.jpg\n",
            "/content/tempdir/train/healthy/Healthy922.jpg\n",
            "/content/BangladeshiCrops/BangladeshiCrops/Crop___Disease/Wheat/Wheat___Healthy/Healthy1263.jpg\n",
            "/content/tempdir/train/healthy/Healthy1263.jpg\n",
            "/content/BangladeshiCrops/BangladeshiCrops/Crop___Disease/Wheat/Wheat___Healthy/Healthy1340.jpg\n",
            "/content/tempdir/train/healthy/Healthy1340.jpg\n",
            "/content/BangladeshiCrops/BangladeshiCrops/Crop___Disease/Wheat/Wheat___Healthy/Healthy983.jpg\n",
            "/content/tempdir/train/healthy/Healthy983.jpg\n",
            "/content/BangladeshiCrops/BangladeshiCrops/Crop___Disease/Wheat/Wheat___Healthy/Healthy578.jpg\n",
            "/content/tempdir/train/healthy/Healthy578.jpg\n",
            "/content/BangladeshiCrops/BangladeshiCrops/Crop___Disease/Wheat/Wheat___Healthy/Healthy887.jpg\n",
            "/content/tempdir/train/healthy/Healthy887.jpg\n",
            "/content/BangladeshiCrops/BangladeshiCrops/Crop___Disease/Wheat/Wheat___Healthy/Healthy1049.jpg\n",
            "/content/tempdir/train/healthy/Healthy1049.jpg\n",
            "/content/BangladeshiCrops/BangladeshiCrops/Crop___Disease/Wheat/Wheat___Healthy/Healthy834.jpg\n",
            "/content/tempdir/train/healthy/Healthy834.jpg\n",
            "/content/BangladeshiCrops/BangladeshiCrops/Crop___Disease/Wheat/Wheat___Healthy/Healthy1280.jpg\n",
            "/content/tempdir/train/healthy/Healthy1280.jpg\n",
            "/content/BangladeshiCrops/BangladeshiCrops/Crop___Disease/Wheat/Wheat___Healthy/Healthy054.jpg\n",
            "/content/tempdir/train/healthy/Healthy054.jpg\n",
            "/content/BangladeshiCrops/BangladeshiCrops/Crop___Disease/Wheat/Wheat___Healthy/Healthy1221.jpg\n",
            "/content/tempdir/train/healthy/Healthy1221.jpg\n",
            "/content/BangladeshiCrops/BangladeshiCrops/Crop___Disease/Wheat/Wheat___Healthy/Healthy581.jpg\n",
            "/content/tempdir/train/healthy/Healthy581.jpg\n",
            "/content/BangladeshiCrops/BangladeshiCrops/Crop___Disease/Wheat/Wheat___Healthy/Healthy741.jpg\n",
            "/content/tempdir/train/healthy/Healthy741.jpg\n",
            "/content/BangladeshiCrops/BangladeshiCrops/Crop___Disease/Wheat/Wheat___Healthy/Healthy264.jpg\n",
            "/content/tempdir/train/healthy/Healthy264.jpg\n",
            "/content/BangladeshiCrops/BangladeshiCrops/Crop___Disease/Wheat/Wheat___Healthy/Healthy254.jpg\n",
            "/content/tempdir/train/healthy/Healthy254.jpg\n",
            "/content/BangladeshiCrops/BangladeshiCrops/Crop___Disease/Wheat/Wheat___Healthy/Healthy278.jpg\n",
            "/content/tempdir/train/healthy/Healthy278.jpg\n",
            "/content/BangladeshiCrops/BangladeshiCrops/Crop___Disease/Wheat/Wheat___Healthy/Healthy1149.jpg\n",
            "/content/tempdir/train/healthy/Healthy1149.jpg\n",
            "/content/BangladeshiCrops/BangladeshiCrops/Crop___Disease/Wheat/Wheat___Healthy/Healthy1322.jpg\n",
            "/content/tempdir/train/healthy/Healthy1322.jpg\n",
            "/content/BangladeshiCrops/BangladeshiCrops/Crop___Disease/Wheat/Wheat___Healthy/Healthy592.jpg\n",
            "/content/tempdir/train/healthy/Healthy592.jpg\n",
            "/content/BangladeshiCrops/BangladeshiCrops/Crop___Disease/Wheat/Wheat___Healthy/Healthy343.jpg\n",
            "/content/tempdir/train/healthy/Healthy343.jpg\n",
            "/content/BangladeshiCrops/BangladeshiCrops/Crop___Disease/Wheat/Wheat___Healthy/Healthy152.jpg\n",
            "/content/tempdir/train/healthy/Healthy152.jpg\n",
            "/content/BangladeshiCrops/BangladeshiCrops/Crop___Disease/Wheat/Wheat___Healthy/Healthy675.jpg\n",
            "/content/tempdir/train/healthy/Healthy675.jpg\n",
            "/content/BangladeshiCrops/BangladeshiCrops/Crop___Disease/Wheat/Wheat___Healthy/Healthy350.jpg\n",
            "/content/tempdir/train/healthy/Healthy350.jpg\n",
            "/content/BangladeshiCrops/BangladeshiCrops/Crop___Disease/Wheat/Wheat___Healthy/Healthy959.jpg\n",
            "/content/tempdir/train/healthy/Healthy959.jpg\n",
            "/content/BangladeshiCrops/BangladeshiCrops/Crop___Disease/Wheat/Wheat___Healthy/Healthy1360.jpg\n",
            "/content/tempdir/train/healthy/Healthy1360.jpg\n",
            "/content/BangladeshiCrops/BangladeshiCrops/Crop___Disease/Wheat/Wheat___Healthy/Healthy132.jpg\n",
            "/content/tempdir/train/healthy/Healthy132.jpg\n",
            "/content/BangladeshiCrops/BangladeshiCrops/Crop___Disease/Wheat/Wheat___Healthy/Healthy1000.jpg\n",
            "/content/tempdir/train/healthy/Healthy1000.jpg\n",
            "/content/BangladeshiCrops/BangladeshiCrops/Crop___Disease/Wheat/Wheat___Healthy/Healthy1355.jpg\n",
            "/content/tempdir/train/healthy/Healthy1355.jpg\n",
            "/content/BangladeshiCrops/BangladeshiCrops/Crop___Disease/Wheat/Wheat___Healthy/Healthy1395.jpg\n",
            "/content/tempdir/train/healthy/Healthy1395.jpg\n",
            "/content/BangladeshiCrops/BangladeshiCrops/Crop___Disease/Wheat/Wheat___Healthy/Healthy632.jpg\n",
            "/content/tempdir/train/healthy/Healthy632.jpg\n",
            "/content/BangladeshiCrops/BangladeshiCrops/Crop___Disease/Wheat/Wheat___Healthy/Healthy312.jpg\n",
            "/content/tempdir/train/healthy/Healthy312.jpg\n",
            "/content/BangladeshiCrops/BangladeshiCrops/Crop___Disease/Wheat/Wheat___Healthy/Healthy845.jpg\n",
            "/content/tempdir/train/healthy/Healthy845.jpg\n",
            "/content/BangladeshiCrops/BangladeshiCrops/Crop___Disease/Wheat/Wheat___Healthy/Healthy1184.jpg\n",
            "/content/tempdir/train/healthy/Healthy1184.jpg\n",
            "/content/BangladeshiCrops/BangladeshiCrops/Crop___Disease/Wheat/Wheat___Healthy/Healthy223.jpg\n",
            "/content/tempdir/train/healthy/Healthy223.jpg\n",
            "/content/BangladeshiCrops/BangladeshiCrops/Crop___Disease/Wheat/Wheat___Healthy/Healthy150.jpg\n",
            "/content/tempdir/train/healthy/Healthy150.jpg\n",
            "/content/BangladeshiCrops/BangladeshiCrops/Crop___Disease/Wheat/Wheat___Healthy/Healthy1337.jpg\n",
            "/content/tempdir/train/healthy/Healthy1337.jpg\n",
            "/content/BangladeshiCrops/BangladeshiCrops/Crop___Disease/Wheat/Wheat___Healthy/Healthy1161.jpg\n",
            "/content/tempdir/train/healthy/Healthy1161.jpg\n",
            "/content/BangladeshiCrops/BangladeshiCrops/Crop___Disease/Wheat/Wheat___Healthy/Healthy785.jpg\n",
            "/content/tempdir/train/healthy/Healthy785.jpg\n",
            "/content/BangladeshiCrops/BangladeshiCrops/Crop___Disease/Wheat/Wheat___Healthy/Healthy1301.jpg\n",
            "/content/tempdir/train/healthy/Healthy1301.jpg\n",
            "/content/BangladeshiCrops/BangladeshiCrops/Crop___Disease/Wheat/Wheat___Healthy/Healthy954.jpg\n",
            "/content/tempdir/train/healthy/Healthy954.jpg\n",
            "/content/BangladeshiCrops/BangladeshiCrops/Crop___Disease/Wheat/Wheat___Healthy/Healthy1354.jpg\n",
            "/content/tempdir/train/healthy/Healthy1354.jpg\n",
            "/content/BangladeshiCrops/BangladeshiCrops/Crop___Disease/Wheat/Wheat___Healthy/Healthy680.jpg\n",
            "/content/tempdir/train/healthy/Healthy680.jpg\n",
            "/content/BangladeshiCrops/BangladeshiCrops/Crop___Disease/Wheat/Wheat___Healthy/Healthy663.jpg\n",
            "/content/tempdir/train/healthy/Healthy663.jpg\n",
            "/content/BangladeshiCrops/BangladeshiCrops/Crop___Disease/Wheat/Wheat___Healthy/Healthy961.jpg\n",
            "/content/tempdir/train/healthy/Healthy961.jpg\n",
            "/content/BangladeshiCrops/BangladeshiCrops/Crop___Disease/Wheat/Wheat___Healthy/Healthy305.jpg\n",
            "/content/tempdir/train/healthy/Healthy305.jpg\n",
            "/content/BangladeshiCrops/BangladeshiCrops/Crop___Disease/Wheat/Wheat___Healthy/Healthy1170.jpg\n",
            "/content/tempdir/train/healthy/Healthy1170.jpg\n",
            "/content/BangladeshiCrops/BangladeshiCrops/Crop___Disease/Wheat/Wheat___Healthy/Healthy240.jpg\n",
            "/content/tempdir/train/healthy/Healthy240.jpg\n",
            "/content/BangladeshiCrops/BangladeshiCrops/Crop___Disease/Wheat/Wheat___Healthy/Healthy546.jpg\n",
            "/content/tempdir/train/healthy/Healthy546.jpg\n",
            "/content/BangladeshiCrops/BangladeshiCrops/Crop___Disease/Wheat/Wheat___Healthy/Healthy284.jpg\n",
            "/content/tempdir/train/healthy/Healthy284.jpg\n",
            "/content/BangladeshiCrops/BangladeshiCrops/Crop___Disease/Wheat/Wheat___Healthy/Healthy652.jpg\n",
            "/content/tempdir/train/healthy/Healthy652.jpg\n",
            "/content/BangladeshiCrops/BangladeshiCrops/Crop___Disease/Wheat/Wheat___Healthy/Healthy644.jpg\n",
            "/content/tempdir/train/healthy/Healthy644.jpg\n",
            "/content/BangladeshiCrops/BangladeshiCrops/Crop___Disease/Wheat/Wheat___Healthy/Healthy042.jpg\n",
            "/content/tempdir/train/healthy/Healthy042.jpg\n",
            "/content/BangladeshiCrops/BangladeshiCrops/Crop___Disease/Wheat/Wheat___Healthy/Healthy818.jpg\n",
            "/content/tempdir/train/healthy/Healthy818.jpg\n",
            "/content/BangladeshiCrops/BangladeshiCrops/Crop___Disease/Wheat/Wheat___Healthy/Healthy1288.jpg\n",
            "/content/tempdir/train/healthy/Healthy1288.jpg\n",
            "/content/BangladeshiCrops/BangladeshiCrops/Crop___Disease/Wheat/Wheat___Healthy/Healthy179.jpg\n",
            "/content/tempdir/train/healthy/Healthy179.jpg\n",
            "/content/BangladeshiCrops/BangladeshiCrops/Crop___Disease/Wheat/Wheat___Healthy/Healthy605.jpg\n",
            "/content/tempdir/train/healthy/Healthy605.jpg\n",
            "/content/BangladeshiCrops/BangladeshiCrops/Crop___Disease/Wheat/Wheat___Healthy/Healthy048.jpg\n",
            "/content/tempdir/train/healthy/Healthy048.jpg\n",
            "/content/BangladeshiCrops/BangladeshiCrops/Crop___Disease/Wheat/Wheat___Healthy/Healthy1231.jpg\n",
            "/content/tempdir/train/healthy/Healthy1231.jpg\n",
            "/content/BangladeshiCrops/BangladeshiCrops/Crop___Disease/Wheat/Wheat___Healthy/Healthy856.jpg\n",
            "/content/tempdir/train/healthy/Healthy856.jpg\n",
            "/content/BangladeshiCrops/BangladeshiCrops/Crop___Disease/Wheat/Wheat___Healthy/Healthy866.jpg\n",
            "/content/tempdir/train/healthy/Healthy866.jpg\n",
            "/content/BangladeshiCrops/BangladeshiCrops/Crop___Disease/Wheat/Wheat___Healthy/Healthy540.jpg\n",
            "/content/tempdir/train/healthy/Healthy540.jpg\n",
            "/content/BangladeshiCrops/BangladeshiCrops/Crop___Disease/Wheat/Wheat___Healthy/Healthy1054.jpg\n",
            "/content/tempdir/train/healthy/Healthy1054.jpg\n",
            "/content/BangladeshiCrops/BangladeshiCrops/Crop___Disease/Wheat/Wheat___Healthy/Healthy1118.jpg\n",
            "/content/tempdir/train/healthy/Healthy1118.jpg\n",
            "/content/BangladeshiCrops/BangladeshiCrops/Crop___Disease/Wheat/Wheat___Healthy/Healthy617.jpg\n",
            "/content/tempdir/train/healthy/Healthy617.jpg\n",
            "/content/BangladeshiCrops/BangladeshiCrops/Crop___Disease/Wheat/Wheat___Healthy/Healthy628.jpg\n",
            "/content/tempdir/train/healthy/Healthy628.jpg\n",
            "/content/BangladeshiCrops/BangladeshiCrops/Crop___Disease/Wheat/Wheat___Healthy/Healthy1164.jpg\n",
            "/content/tempdir/train/healthy/Healthy1164.jpg\n",
            "/content/BangladeshiCrops/BangladeshiCrops/Crop___Disease/Wheat/Wheat___Healthy/Healthy373.jpg\n",
            "/content/tempdir/train/healthy/Healthy373.jpg\n",
            "/content/BangladeshiCrops/BangladeshiCrops/Crop___Disease/Wheat/Wheat___Healthy/Healthy530.jpg\n",
            "/content/tempdir/train/healthy/Healthy530.jpg\n",
            "/content/BangladeshiCrops/BangladeshiCrops/Crop___Disease/Wheat/Wheat___Healthy/Healthy403.jpg\n",
            "/content/tempdir/train/healthy/Healthy403.jpg\n",
            "/content/BangladeshiCrops/BangladeshiCrops/Crop___Disease/Wheat/Wheat___Healthy/Healthy1095.jpg\n",
            "/content/tempdir/train/healthy/Healthy1095.jpg\n",
            "/content/BangladeshiCrops/BangladeshiCrops/Crop___Disease/Wheat/Wheat___Healthy/Healthy576.jpg\n",
            "/content/tempdir/train/healthy/Healthy576.jpg\n",
            "/content/BangladeshiCrops/BangladeshiCrops/Crop___Disease/Wheat/Wheat___Healthy/Healthy1386.jpg\n",
            "/content/tempdir/train/healthy/Healthy1386.jpg\n",
            "/content/BangladeshiCrops/BangladeshiCrops/Crop___Disease/Wheat/Wheat___Healthy/Healthy871.jpg\n",
            "/content/tempdir/train/healthy/Healthy871.jpg\n",
            "/content/BangladeshiCrops/BangladeshiCrops/Crop___Disease/Wheat/Wheat___Healthy/Healthy291.jpg\n",
            "/content/tempdir/train/healthy/Healthy291.jpg\n",
            "/content/BangladeshiCrops/BangladeshiCrops/Crop___Disease/Wheat/Wheat___Healthy/Healthy932.jpg\n",
            "/content/tempdir/train/healthy/Healthy932.jpg\n",
            "/content/BangladeshiCrops/BangladeshiCrops/Crop___Disease/Wheat/Wheat___Healthy/Healthy1295.jpg\n",
            "/content/tempdir/train/healthy/Healthy1295.jpg\n",
            "/content/BangladeshiCrops/BangladeshiCrops/Crop___Disease/Wheat/Wheat___Healthy/Healthy357.jpg\n",
            "/content/tempdir/train/healthy/Healthy357.jpg\n",
            "/content/BangladeshiCrops/BangladeshiCrops/Crop___Disease/Wheat/Wheat___Healthy/Healthy295.jpg\n",
            "/content/tempdir/train/healthy/Healthy295.jpg\n",
            "/content/BangladeshiCrops/BangladeshiCrops/Crop___Disease/Wheat/Wheat___Healthy/Healthy1102.jpg\n",
            "/content/tempdir/train/healthy/Healthy1102.jpg\n",
            "/content/BangladeshiCrops/BangladeshiCrops/Crop___Disease/Wheat/Wheat___Healthy/Healthy1229.jpg\n",
            "/content/tempdir/train/healthy/Healthy1229.jpg\n",
            "/content/BangladeshiCrops/BangladeshiCrops/Crop___Disease/Wheat/Wheat___Healthy/Healthy1314.jpg\n",
            "/content/tempdir/train/healthy/Healthy1314.jpg\n",
            "/content/BangladeshiCrops/BangladeshiCrops/Crop___Disease/Wheat/Wheat___Healthy/Healthy972.jpg\n",
            "/content/tempdir/train/healthy/Healthy972.jpg\n",
            "/content/BangladeshiCrops/BangladeshiCrops/Crop___Disease/Wheat/Wheat___Healthy/Healthy005.jpg\n",
            "/content/tempdir/train/healthy/Healthy005.jpg\n",
            "/content/BangladeshiCrops/BangladeshiCrops/Crop___Disease/Wheat/Wheat___Healthy/Healthy894.jpg\n",
            "/content/tempdir/train/healthy/Healthy894.jpg\n",
            "/content/BangladeshiCrops/BangladeshiCrops/Crop___Disease/Wheat/Wheat___Healthy/Healthy331.jpg\n",
            "/content/tempdir/train/healthy/Healthy331.jpg\n",
            "/content/BangladeshiCrops/BangladeshiCrops/Crop___Disease/Wheat/Wheat___Healthy/Healthy1135.jpg\n",
            "/content/tempdir/train/healthy/Healthy1135.jpg\n",
            "/content/BangladeshiCrops/BangladeshiCrops/Crop___Disease/Wheat/Wheat___Healthy/Healthy186.jpg\n",
            "/content/tempdir/train/healthy/Healthy186.jpg\n",
            "/content/BangladeshiCrops/BangladeshiCrops/Crop___Disease/Wheat/Wheat___Healthy/Healthy1244.jpg\n",
            "/content/tempdir/train/healthy/Healthy1244.jpg\n",
            "/content/BangladeshiCrops/BangladeshiCrops/Crop___Disease/Wheat/Wheat___Healthy/Healthy1065.jpg\n",
            "/content/tempdir/train/healthy/Healthy1065.jpg\n",
            "/content/BangladeshiCrops/BangladeshiCrops/Crop___Disease/Wheat/Wheat___Healthy/Healthy194.jpg\n",
            "/content/tempdir/train/healthy/Healthy194.jpg\n",
            "/content/BangladeshiCrops/BangladeshiCrops/Crop___Disease/Wheat/Wheat___Healthy/Healthy685.jpg\n",
            "/content/tempdir/train/healthy/Healthy685.jpg\n",
            "/content/BangladeshiCrops/BangladeshiCrops/Crop___Disease/Wheat/Wheat___Healthy/Healthy997.jpg\n",
            "/content/tempdir/train/healthy/Healthy997.jpg\n",
            "/content/BangladeshiCrops/BangladeshiCrops/Crop___Disease/Wheat/Wheat___Healthy/Healthy195.jpg\n",
            "/content/tempdir/train/healthy/Healthy195.jpg\n",
            "/content/BangladeshiCrops/BangladeshiCrops/Crop___Disease/Wheat/Wheat___Healthy/Healthy155.jpg\n",
            "/content/tempdir/train/healthy/Healthy155.jpg\n",
            "/content/BangladeshiCrops/BangladeshiCrops/Crop___Disease/Wheat/Wheat___Healthy/Healthy196.jpg\n",
            "/content/tempdir/train/healthy/Healthy196.jpg\n",
            "/content/BangladeshiCrops/BangladeshiCrops/Crop___Disease/Wheat/Wheat___Healthy/Healthy1096.jpg\n",
            "/content/tempdir/train/healthy/Healthy1096.jpg\n",
            "/content/BangladeshiCrops/BangladeshiCrops/Crop___Disease/Wheat/Wheat___Healthy/Healthy290.jpg\n",
            "/content/tempdir/train/healthy/Healthy290.jpg\n",
            "/content/BangladeshiCrops/BangladeshiCrops/Crop___Disease/Wheat/Wheat___Healthy/Healthy249.jpg\n",
            "/content/tempdir/train/healthy/Healthy249.jpg\n",
            "/content/BangladeshiCrops/BangladeshiCrops/Crop___Disease/Wheat/Wheat___Healthy/Healthy561.jpg\n",
            "/content/tempdir/train/healthy/Healthy561.jpg\n",
            "/content/BangladeshiCrops/BangladeshiCrops/Crop___Disease/Wheat/Wheat___Healthy/Healthy092.jpg\n",
            "/content/tempdir/train/healthy/Healthy092.jpg\n",
            "/content/BangladeshiCrops/BangladeshiCrops/Crop___Disease/Wheat/Wheat___Healthy/Healthy848.jpg\n",
            "/content/tempdir/train/healthy/Healthy848.jpg\n",
            "/content/BangladeshiCrops/BangladeshiCrops/Crop___Disease/Wheat/Wheat___Healthy/Healthy176.jpg\n",
            "/content/tempdir/train/healthy/Healthy176.jpg\n",
            "/content/BangladeshiCrops/BangladeshiCrops/Crop___Disease/Wheat/Wheat___Healthy/Healthy639.jpg\n",
            "/content/tempdir/train/healthy/Healthy639.jpg\n",
            "/content/BangladeshiCrops/BangladeshiCrops/Crop___Disease/Wheat/Wheat___Healthy/Healthy128.jpg\n",
            "/content/tempdir/train/healthy/Healthy128.jpg\n",
            "/content/BangladeshiCrops/BangladeshiCrops/Crop___Disease/Wheat/Wheat___Healthy/Healthy423.jpg\n",
            "/content/tempdir/train/healthy/Healthy423.jpg\n",
            "/content/BangladeshiCrops/BangladeshiCrops/Crop___Disease/Wheat/Wheat___Healthy/Healthy298.jpg\n",
            "/content/tempdir/train/healthy/Healthy298.jpg\n",
            "/content/BangladeshiCrops/BangladeshiCrops/Crop___Disease/Wheat/Wheat___Healthy/Healthy123.jpg\n",
            "/content/tempdir/train/healthy/Healthy123.jpg\n",
            "/content/BangladeshiCrops/BangladeshiCrops/Crop___Disease/Wheat/Wheat___Healthy/Healthy449.jpg\n",
            "/content/tempdir/train/healthy/Healthy449.jpg\n",
            "/content/BangladeshiCrops/BangladeshiCrops/Crop___Disease/Wheat/Wheat___Healthy/Healthy1021.jpg\n",
            "/content/tempdir/train/healthy/Healthy1021.jpg\n",
            "/content/BangladeshiCrops/BangladeshiCrops/Crop___Disease/Wheat/Wheat___Healthy/Healthy1279.jpg\n",
            "/content/tempdir/train/healthy/Healthy1279.jpg\n",
            "/content/BangladeshiCrops/BangladeshiCrops/Crop___Disease/Wheat/Wheat___Healthy/Healthy369.jpg\n",
            "/content/tempdir/train/healthy/Healthy369.jpg\n",
            "/content/BangladeshiCrops/BangladeshiCrops/Crop___Disease/Wheat/Wheat___Healthy/Healthy957.jpg\n",
            "/content/tempdir/train/healthy/Healthy957.jpg\n",
            "/content/BangladeshiCrops/BangladeshiCrops/Crop___Disease/Wheat/Wheat___Healthy/Healthy296.jpg\n",
            "/content/tempdir/train/healthy/Healthy296.jpg\n",
            "/content/BangladeshiCrops/BangladeshiCrops/Crop___Disease/Wheat/Wheat___Healthy/Healthy808.jpg\n",
            "/content/tempdir/train/healthy/Healthy808.jpg\n",
            "/content/BangladeshiCrops/BangladeshiCrops/Crop___Disease/Wheat/Wheat___Healthy/Healthy1365.jpg\n",
            "/content/tempdir/train/healthy/Healthy1365.jpg\n",
            "/content/BangladeshiCrops/BangladeshiCrops/Crop___Disease/Wheat/Wheat___Healthy/Healthy071.jpg\n",
            "/content/tempdir/train/healthy/Healthy071.jpg\n",
            "/content/BangladeshiCrops/BangladeshiCrops/Crop___Disease/Wheat/Wheat___Healthy/Healthy471.jpg\n",
            "/content/tempdir/train/healthy/Healthy471.jpg\n",
            "/content/BangladeshiCrops/BangladeshiCrops/Crop___Disease/Wheat/Wheat___Healthy/Healthy886.jpg\n",
            "/content/tempdir/train/healthy/Healthy886.jpg\n",
            "/content/BangladeshiCrops/BangladeshiCrops/Crop___Disease/Wheat/Wheat___Healthy/Healthy289.jpg\n",
            "/content/tempdir/train/healthy/Healthy289.jpg\n",
            "/content/BangladeshiCrops/BangladeshiCrops/Crop___Disease/Wheat/Wheat___Healthy/Healthy448.jpg\n",
            "/content/tempdir/train/healthy/Healthy448.jpg\n",
            "/content/BangladeshiCrops/BangladeshiCrops/Crop___Disease/Wheat/Wheat___Healthy/Healthy189.jpg\n",
            "/content/tempdir/train/healthy/Healthy189.jpg\n",
            "/content/BangladeshiCrops/BangladeshiCrops/Crop___Disease/Wheat/Wheat___Healthy/Healthy276.jpg\n",
            "/content/tempdir/train/healthy/Healthy276.jpg\n",
            "/content/BangladeshiCrops/BangladeshiCrops/Crop___Disease/Wheat/Wheat___Healthy/Healthy1293.jpg\n",
            "/content/tempdir/train/healthy/Healthy1293.jpg\n",
            "/content/BangladeshiCrops/BangladeshiCrops/Crop___Disease/Wheat/Wheat___Healthy/Healthy1277.jpg\n",
            "/content/tempdir/train/healthy/Healthy1277.jpg\n",
            "/content/BangladeshiCrops/BangladeshiCrops/Crop___Disease/Wheat/Wheat___Healthy/Healthy041.jpg\n",
            "/content/tempdir/train/healthy/Healthy041.jpg\n",
            "/content/BangladeshiCrops/BangladeshiCrops/Crop___Disease/Wheat/Wheat___Healthy/Healthy1127.jpg\n",
            "/content/tempdir/train/healthy/Healthy1127.jpg\n",
            "/content/BangladeshiCrops/BangladeshiCrops/Crop___Disease/Wheat/Wheat___Healthy/Healthy166.jpg\n",
            "/content/tempdir/train/healthy/Healthy166.jpg\n",
            "/content/BangladeshiCrops/BangladeshiCrops/Crop___Disease/Wheat/Wheat___Healthy/Healthy1349.jpg\n",
            "/content/tempdir/train/healthy/Healthy1349.jpg\n",
            "/content/BangladeshiCrops/BangladeshiCrops/Crop___Disease/Wheat/Wheat___Healthy/Healthy056.jpg\n",
            "/content/tempdir/train/healthy/Healthy056.jpg\n",
            "/content/BangladeshiCrops/BangladeshiCrops/Crop___Disease/Wheat/Wheat___Healthy/Healthy356.jpg\n",
            "/content/tempdir/train/healthy/Healthy356.jpg\n",
            "/content/BangladeshiCrops/BangladeshiCrops/Crop___Disease/Wheat/Wheat___Healthy/Healthy474.jpg\n",
            "/content/tempdir/train/healthy/Healthy474.jpg\n",
            "/content/BangladeshiCrops/BangladeshiCrops/Crop___Disease/Wheat/Wheat___Healthy/Healthy563.jpg\n",
            "/content/tempdir/train/healthy/Healthy563.jpg\n",
            "/content/BangladeshiCrops/BangladeshiCrops/Crop___Disease/Wheat/Wheat___Healthy/Healthy496.jpg\n",
            "/content/tempdir/train/healthy/Healthy496.jpg\n",
            "/content/BangladeshiCrops/BangladeshiCrops/Crop___Disease/Wheat/Wheat___Healthy/Healthy1002.jpg\n",
            "/content/tempdir/train/healthy/Healthy1002.jpg\n",
            "/content/BangladeshiCrops/BangladeshiCrops/Crop___Disease/Wheat/Wheat___Healthy/Healthy1147.jpg\n",
            "/content/tempdir/train/healthy/Healthy1147.jpg\n",
            "/content/BangladeshiCrops/BangladeshiCrops/Crop___Disease/Wheat/Wheat___Healthy/Healthy1172.jpg\n",
            "/content/tempdir/train/healthy/Healthy1172.jpg\n",
            "/content/BangladeshiCrops/BangladeshiCrops/Crop___Disease/Wheat/Wheat___Healthy/Healthy1191.jpg\n",
            "/content/tempdir/train/healthy/Healthy1191.jpg\n",
            "/content/BangladeshiCrops/BangladeshiCrops/Crop___Disease/Wheat/Wheat___Healthy/Healthy1390.jpg\n",
            "/content/tempdir/train/healthy/Healthy1390.jpg\n",
            "/content/BangladeshiCrops/BangladeshiCrops/Crop___Disease/Wheat/Wheat___Healthy/Healthy515.jpg\n",
            "/content/tempdir/train/healthy/Healthy515.jpg\n",
            "/content/BangladeshiCrops/BangladeshiCrops/Crop___Disease/Wheat/Wheat___Healthy/Healthy854.jpg\n",
            "/content/tempdir/train/healthy/Healthy854.jpg\n",
            "/content/BangladeshiCrops/BangladeshiCrops/Crop___Disease/Wheat/Wheat___Healthy/Healthy1210.jpg\n",
            "/content/tempdir/train/healthy/Healthy1210.jpg\n",
            "/content/BangladeshiCrops/BangladeshiCrops/Crop___Disease/Wheat/Wheat___Healthy/Healthy543.jpg\n",
            "/content/tempdir/train/healthy/Healthy543.jpg\n",
            "/content/BangladeshiCrops/BangladeshiCrops/Crop___Disease/Wheat/Wheat___Healthy/Healthy920.jpg\n",
            "/content/tempdir/train/healthy/Healthy920.jpg\n",
            "/content/BangladeshiCrops/BangladeshiCrops/Crop___Disease/Wheat/Wheat___Healthy/Healthy293.jpg\n",
            "/content/tempdir/train/healthy/Healthy293.jpg\n",
            "/content/BangladeshiCrops/BangladeshiCrops/Crop___Disease/Wheat/Wheat___Healthy/Healthy1087.jpg\n",
            "/content/tempdir/train/healthy/Healthy1087.jpg\n",
            "/content/BangladeshiCrops/BangladeshiCrops/Crop___Disease/Wheat/Wheat___Healthy/Healthy917.jpg\n",
            "/content/tempdir/train/healthy/Healthy917.jpg\n",
            "/content/BangladeshiCrops/BangladeshiCrops/Crop___Disease/Wheat/Wheat___Healthy/Healthy279.jpg\n",
            "/content/tempdir/train/healthy/Healthy279.jpg\n",
            "/content/BangladeshiCrops/BangladeshiCrops/Crop___Disease/Wheat/Wheat___Healthy/Healthy897.jpg\n",
            "/content/tempdir/train/healthy/Healthy897.jpg\n",
            "/content/BangladeshiCrops/BangladeshiCrops/Crop___Disease/Wheat/Wheat___Healthy/Healthy552.jpg\n",
            "/content/tempdir/train/healthy/Healthy552.jpg\n",
            "/content/BangladeshiCrops/BangladeshiCrops/Crop___Disease/Wheat/Wheat___Healthy/Healthy143.jpg\n",
            "/content/tempdir/train/healthy/Healthy143.jpg\n",
            "/content/BangladeshiCrops/BangladeshiCrops/Crop___Disease/Wheat/Wheat___Healthy/Healthy1289.jpg\n",
            "/content/tempdir/train/healthy/Healthy1289.jpg\n",
            "/content/BangladeshiCrops/BangladeshiCrops/Crop___Disease/Wheat/Wheat___Healthy/Healthy828.jpg\n",
            "/content/tempdir/train/healthy/Healthy828.jpg\n",
            "/content/BangladeshiCrops/BangladeshiCrops/Crop___Disease/Wheat/Wheat___Healthy/Healthy1139.jpg\n",
            "/content/tempdir/train/healthy/Healthy1139.jpg\n",
            "/content/BangladeshiCrops/BangladeshiCrops/Crop___Disease/Wheat/Wheat___Healthy/Healthy970.jpg\n",
            "/content/tempdir/train/healthy/Healthy970.jpg\n",
            "/content/BangladeshiCrops/BangladeshiCrops/Crop___Disease/Wheat/Wheat___Healthy/Healthy1157.jpg\n",
            "/content/tempdir/train/healthy/Healthy1157.jpg\n",
            "/content/BangladeshiCrops/BangladeshiCrops/Crop___Disease/Wheat/Wheat___Healthy/Healthy521.jpg\n",
            "/content/tempdir/train/healthy/Healthy521.jpg\n",
            "/content/BangladeshiCrops/BangladeshiCrops/Crop___Disease/Wheat/Wheat___Healthy/Healthy256.jpg\n",
            "/content/tempdir/train/healthy/Healthy256.jpg\n",
            "/content/BangladeshiCrops/BangladeshiCrops/Crop___Disease/Wheat/Wheat___Healthy/Healthy493.jpg\n",
            "/content/tempdir/train/healthy/Healthy493.jpg\n",
            "/content/BangladeshiCrops/BangladeshiCrops/Crop___Disease/Wheat/Wheat___Healthy/Healthy363.jpg\n",
            "/content/tempdir/train/healthy/Healthy363.jpg\n",
            "/content/BangladeshiCrops/BangladeshiCrops/Crop___Disease/Wheat/Wheat___Healthy/Healthy738.jpg\n",
            "/content/tempdir/train/healthy/Healthy738.jpg\n",
            "/content/BangladeshiCrops/BangladeshiCrops/Crop___Disease/Wheat/Wheat___Healthy/Healthy751.jpg\n",
            "/content/tempdir/train/healthy/Healthy751.jpg\n",
            "/content/BangladeshiCrops/BangladeshiCrops/Crop___Disease/Wheat/Wheat___Healthy/Healthy962.jpg\n",
            "/content/tempdir/train/healthy/Healthy962.jpg\n",
            "/content/BangladeshiCrops/BangladeshiCrops/Crop___Disease/Wheat/Wheat___Healthy/Healthy1378.jpg\n",
            "/content/tempdir/train/healthy/Healthy1378.jpg\n",
            "/content/BangladeshiCrops/BangladeshiCrops/Crop___Disease/Wheat/Wheat___Healthy/Healthy285.jpg\n",
            "/content/tempdir/train/healthy/Healthy285.jpg\n",
            "/content/BangladeshiCrops/BangladeshiCrops/Crop___Disease/Wheat/Wheat___Healthy/Healthy757.jpg\n",
            "/content/tempdir/train/healthy/Healthy757.jpg\n",
            "/content/BangladeshiCrops/BangladeshiCrops/Crop___Disease/Wheat/Wheat___Healthy/Healthy609.jpg\n",
            "/content/tempdir/train/healthy/Healthy609.jpg\n",
            "/content/BangladeshiCrops/BangladeshiCrops/Crop___Disease/Wheat/Wheat___Healthy/Healthy073.jpg\n",
            "/content/tempdir/train/healthy/Healthy073.jpg\n",
            "/content/BangladeshiCrops/BangladeshiCrops/Crop___Disease/Wheat/Wheat___Healthy/Healthy466.jpg\n",
            "/content/tempdir/train/healthy/Healthy466.jpg\n",
            "/content/BangladeshiCrops/BangladeshiCrops/Crop___Disease/Wheat/Wheat___Healthy/Healthy1227.jpg\n",
            "/content/tempdir/train/healthy/Healthy1227.jpg\n",
            "/content/BangladeshiCrops/BangladeshiCrops/Crop___Disease/Wheat/Wheat___Healthy/Healthy1083.jpg\n",
            "/content/tempdir/train/healthy/Healthy1083.jpg\n",
            "/content/BangladeshiCrops/BangladeshiCrops/Crop___Disease/Wheat/Wheat___Healthy/Healthy529.jpg\n",
            "/content/tempdir/train/healthy/Healthy529.jpg\n",
            "/content/BangladeshiCrops/BangladeshiCrops/Crop___Disease/Wheat/Wheat___Healthy/Healthy1154.jpg\n",
            "/content/tempdir/train/healthy/Healthy1154.jpg\n",
            "/content/BangladeshiCrops/BangladeshiCrops/Crop___Disease/Wheat/Wheat___Healthy/Healthy302.jpg\n",
            "/content/tempdir/train/healthy/Healthy302.jpg\n",
            "/content/BangladeshiCrops/BangladeshiCrops/Crop___Disease/Wheat/Wheat___Healthy/Healthy414.jpg\n",
            "/content/tempdir/train/healthy/Healthy414.jpg\n",
            "/content/BangladeshiCrops/BangladeshiCrops/Crop___Disease/Wheat/Wheat___Healthy/Healthy650.jpg\n",
            "/content/tempdir/train/healthy/Healthy650.jpg\n",
            "/content/BangladeshiCrops/BangladeshiCrops/Crop___Disease/Wheat/Wheat___Healthy/Healthy696.jpg\n",
            "/content/tempdir/train/healthy/Healthy696.jpg\n",
            "/content/BangladeshiCrops/BangladeshiCrops/Crop___Disease/Wheat/Wheat___Healthy/Healthy1053.jpg\n",
            "/content/tempdir/train/healthy/Healthy1053.jpg\n",
            "/content/BangladeshiCrops/BangladeshiCrops/Crop___Disease/Wheat/Wheat___Healthy/Healthy1389.jpg\n",
            "/content/tempdir/train/healthy/Healthy1389.jpg\n",
            "/content/BangladeshiCrops/BangladeshiCrops/Crop___Disease/Wheat/Wheat___Healthy/Healthy1357.jpg\n",
            "/content/tempdir/train/healthy/Healthy1357.jpg\n",
            "/content/BangladeshiCrops/BangladeshiCrops/Crop___Disease/Wheat/Wheat___Healthy/Healthy513.jpg\n",
            "/content/tempdir/train/healthy/Healthy513.jpg\n",
            "/content/BangladeshiCrops/BangladeshiCrops/Crop___Disease/Wheat/Wheat___Healthy/Healthy154.jpg\n",
            "/content/tempdir/train/healthy/Healthy154.jpg\n",
            "/content/BangladeshiCrops/BangladeshiCrops/Crop___Disease/Wheat/Wheat___Healthy/Healthy463.jpg\n",
            "/content/tempdir/train/healthy/Healthy463.jpg\n",
            "/content/BangladeshiCrops/BangladeshiCrops/Crop___Disease/Wheat/Wheat___Healthy/Healthy477.jpg\n",
            "/content/tempdir/train/healthy/Healthy477.jpg\n",
            "/content/BangladeshiCrops/BangladeshiCrops/Crop___Disease/Wheat/Wheat___Healthy/Healthy702.jpg\n",
            "/content/tempdir/train/healthy/Healthy702.jpg\n",
            "/content/BangladeshiCrops/BangladeshiCrops/Crop___Disease/Wheat/Wheat___Healthy/Healthy943.jpg\n",
            "/content/tempdir/train/healthy/Healthy943.jpg\n",
            "/content/BangladeshiCrops/BangladeshiCrops/Crop___Disease/Wheat/Wheat___Healthy/Healthy126.jpg\n",
            "/content/tempdir/train/healthy/Healthy126.jpg\n",
            "/content/BangladeshiCrops/BangladeshiCrops/Crop___Disease/Wheat/Wheat___Healthy/Healthy452.jpg\n",
            "/content/tempdir/train/healthy/Healthy452.jpg\n",
            "/content/BangladeshiCrops/BangladeshiCrops/Crop___Disease/Wheat/Wheat___Healthy/Healthy1382.jpg\n",
            "/content/tempdir/train/healthy/Healthy1382.jpg\n",
            "/content/BangladeshiCrops/BangladeshiCrops/Crop___Disease/Wheat/Wheat___Healthy/Healthy004.jpg\n",
            "/content/tempdir/train/healthy/Healthy004.jpg\n",
            "/content/BangladeshiCrops/BangladeshiCrops/Crop___Disease/Wheat/Wheat___Healthy/Healthy372.jpg\n",
            "/content/tempdir/train/healthy/Healthy372.jpg\n",
            "/content/BangladeshiCrops/BangladeshiCrops/Crop___Disease/Wheat/Wheat___Healthy/Healthy072.jpg\n",
            "/content/tempdir/train/healthy/Healthy072.jpg\n",
            "/content/BangladeshiCrops/BangladeshiCrops/Crop___Disease/Wheat/Wheat___Healthy/Healthy1151.jpg\n",
            "/content/tempdir/train/healthy/Healthy1151.jpg\n",
            "/content/BangladeshiCrops/BangladeshiCrops/Crop___Disease/Wheat/Wheat___Healthy/Healthy898.jpg\n",
            "/content/tempdir/train/healthy/Healthy898.jpg\n",
            "/content/BangladeshiCrops/BangladeshiCrops/Crop___Disease/Wheat/Wheat___Healthy/Healthy145.jpg\n",
            "/content/tempdir/train/healthy/Healthy145.jpg\n",
            "/content/BangladeshiCrops/BangladeshiCrops/Crop___Disease/Wheat/Wheat___Healthy/Healthy703.jpg\n",
            "/content/tempdir/train/healthy/Healthy703.jpg\n",
            "/content/BangladeshiCrops/BangladeshiCrops/Crop___Disease/Wheat/Wheat___Healthy/Healthy767.jpg\n",
            "/content/tempdir/train/healthy/Healthy767.jpg\n",
            "/content/BangladeshiCrops/BangladeshiCrops/Crop___Disease/Wheat/Wheat___Healthy/Healthy832.jpg\n",
            "/content/tempdir/train/healthy/Healthy832.jpg\n",
            "/content/BangladeshiCrops/BangladeshiCrops/Crop___Disease/Wheat/Wheat___Healthy/Healthy1086.jpg\n",
            "/content/tempdir/train/healthy/Healthy1086.jpg\n",
            "/content/BangladeshiCrops/BangladeshiCrops/Crop___Disease/Wheat/Wheat___Healthy/Healthy184.jpg\n",
            "/content/tempdir/train/healthy/Healthy184.jpg\n",
            "/content/BangladeshiCrops/BangladeshiCrops/Crop___Disease/Wheat/Wheat___Healthy/Healthy750.jpg\n",
            "/content/tempdir/train/healthy/Healthy750.jpg\n",
            "/content/BangladeshiCrops/BangladeshiCrops/Crop___Disease/Wheat/Wheat___Healthy/Healthy1358.jpg\n",
            "/content/tempdir/train/healthy/Healthy1358.jpg\n",
            "/content/BangladeshiCrops/BangladeshiCrops/Crop___Disease/Wheat/Wheat___Healthy/Healthy161.jpg\n",
            "/content/tempdir/train/healthy/Healthy161.jpg\n",
            "/content/BangladeshiCrops/BangladeshiCrops/Crop___Disease/Wheat/Wheat___Healthy/Healthy1240.jpg\n",
            "/content/tempdir/train/healthy/Healthy1240.jpg\n",
            "/content/BangladeshiCrops/BangladeshiCrops/Crop___Disease/Wheat/Wheat___Healthy/Healthy1063.jpg\n",
            "/content/tempdir/train/healthy/Healthy1063.jpg\n",
            "/content/BangladeshiCrops/BangladeshiCrops/Crop___Disease/Wheat/Wheat___Healthy/Healthy096.jpg\n",
            "/content/tempdir/train/healthy/Healthy096.jpg\n",
            "/content/BangladeshiCrops/BangladeshiCrops/Crop___Disease/Wheat/Wheat___Healthy/Healthy117.jpg\n",
            "/content/tempdir/train/healthy/Healthy117.jpg\n",
            "/content/BangladeshiCrops/BangladeshiCrops/Crop___Disease/Wheat/Wheat___Healthy/Healthy709.jpg\n",
            "/content/tempdir/train/healthy/Healthy709.jpg\n",
            "/content/BangladeshiCrops/BangladeshiCrops/Crop___Disease/Wheat/Wheat___Healthy/Healthy969.jpg\n",
            "/content/tempdir/train/healthy/Healthy969.jpg\n",
            "/content/BangladeshiCrops/BangladeshiCrops/Crop___Disease/Wheat/Wheat___Healthy/Healthy1124.jpg\n",
            "/content/tempdir/train/healthy/Healthy1124.jpg\n",
            "/content/BangladeshiCrops/BangladeshiCrops/Crop___Disease/Wheat/Wheat___Healthy/Healthy924.jpg\n",
            "/content/tempdir/train/healthy/Healthy924.jpg\n",
            "/content/BangladeshiCrops/BangladeshiCrops/Crop___Disease/Wheat/Wheat___Healthy/Healthy732.jpg\n",
            "/content/tempdir/train/healthy/Healthy732.jpg\n",
            "/content/BangladeshiCrops/BangladeshiCrops/Crop___Disease/Wheat/Wheat___Healthy/Healthy520.jpg\n",
            "/content/tempdir/train/healthy/Healthy520.jpg\n",
            "/content/BangladeshiCrops/BangladeshiCrops/Crop___Disease/Wheat/Wheat___Healthy/Healthy269.jpg\n",
            "/content/tempdir/train/healthy/Healthy269.jpg\n",
            "/content/BangladeshiCrops/BangladeshiCrops/Crop___Disease/Wheat/Wheat___Healthy/Healthy1142.jpg\n",
            "/content/tempdir/train/healthy/Healthy1142.jpg\n",
            "/content/BangladeshiCrops/BangladeshiCrops/Crop___Disease/Wheat/Wheat___Healthy/Healthy777.jpg\n",
            "/content/tempdir/train/healthy/Healthy777.jpg\n",
            "/content/BangladeshiCrops/BangladeshiCrops/Crop___Disease/Wheat/Wheat___Healthy/Healthy535.jpg\n",
            "/content/tempdir/train/healthy/Healthy535.jpg\n",
            "/content/BangladeshiCrops/BangladeshiCrops/Crop___Disease/Wheat/Wheat___Healthy/Healthy366.jpg\n",
            "/content/tempdir/train/healthy/Healthy366.jpg\n",
            "/content/BangladeshiCrops/BangladeshiCrops/Crop___Disease/Wheat/Wheat___Healthy/Healthy416.jpg\n",
            "/content/tempdir/train/healthy/Healthy416.jpg\n",
            "/content/BangladeshiCrops/BangladeshiCrops/Crop___Disease/Wheat/Wheat___Healthy/Healthy956.jpg\n",
            "/content/tempdir/train/healthy/Healthy956.jpg\n",
            "/content/BangladeshiCrops/BangladeshiCrops/Crop___Disease/Wheat/Wheat___Healthy/Healthy1044.jpg\n",
            "/content/tempdir/train/healthy/Healthy1044.jpg\n",
            "/content/BangladeshiCrops/BangladeshiCrops/Crop___Disease/Wheat/Wheat___Healthy/Healthy1138.jpg\n",
            "/content/tempdir/train/healthy/Healthy1138.jpg\n",
            "/content/BangladeshiCrops/BangladeshiCrops/Crop___Disease/Wheat/Wheat___Healthy/Healthy1181.jpg\n",
            "/content/tempdir/train/healthy/Healthy1181.jpg\n",
            "/content/BangladeshiCrops/BangladeshiCrops/Crop___Disease/Wheat/Wheat___Healthy/Healthy1073.jpg\n",
            "/content/tempdir/train/healthy/Healthy1073.jpg\n",
            "/content/BangladeshiCrops/BangladeshiCrops/Crop___Disease/Wheat/Wheat___Healthy/Healthy1008.jpg\n",
            "/content/tempdir/train/healthy/Healthy1008.jpg\n",
            "/content/BangladeshiCrops/BangladeshiCrops/Crop___Disease/Wheat/Wheat___Healthy/Healthy1233.jpg\n",
            "/content/tempdir/train/healthy/Healthy1233.jpg\n",
            "/content/BangladeshiCrops/BangladeshiCrops/Crop___Disease/Wheat/Wheat___Healthy/Healthy721.jpg\n",
            "/content/tempdir/train/healthy/Healthy721.jpg\n",
            "/content/BangladeshiCrops/BangladeshiCrops/Crop___Disease/Wheat/Wheat___Healthy/Healthy555.jpg\n",
            "/content/tempdir/train/healthy/Healthy555.jpg\n",
            "/content/BangladeshiCrops/BangladeshiCrops/Crop___Disease/Wheat/Wheat___Healthy/Healthy209.jpg\n",
            "/content/tempdir/train/healthy/Healthy209.jpg\n",
            "/content/BangladeshiCrops/BangladeshiCrops/Crop___Disease/Wheat/Wheat___Healthy/Healthy034.jpg\n",
            "/content/tempdir/train/healthy/Healthy034.jpg\n",
            "/content/BangladeshiCrops/BangladeshiCrops/Crop___Disease/Wheat/Wheat___Healthy/Healthy809.jpg\n",
            "/content/tempdir/train/healthy/Healthy809.jpg\n",
            "/content/BangladeshiCrops/BangladeshiCrops/Crop___Disease/Wheat/Wheat___Healthy/Healthy1391.jpg\n",
            "/content/tempdir/train/healthy/Healthy1391.jpg\n",
            "/content/BangladeshiCrops/BangladeshiCrops/Crop___Disease/Wheat/Wheat___Healthy/Healthy816.jpg\n",
            "/content/tempdir/train/healthy/Healthy816.jpg\n",
            "/content/BangladeshiCrops/BangladeshiCrops/Crop___Disease/Wheat/Wheat___Healthy/Healthy1160.jpg\n",
            "/content/tempdir/train/healthy/Healthy1160.jpg\n",
            "/content/BangladeshiCrops/BangladeshiCrops/Crop___Disease/Wheat/Wheat___Healthy/Healthy163.jpg\n",
            "/content/tempdir/train/healthy/Healthy163.jpg\n",
            "/content/BangladeshiCrops/BangladeshiCrops/Crop___Disease/Wheat/Wheat___Healthy/Healthy480.jpg\n",
            "/content/tempdir/train/healthy/Healthy480.jpg\n",
            "/content/BangladeshiCrops/BangladeshiCrops/Crop___Disease/Wheat/Wheat___Healthy/Healthy207.jpg\n",
            "/content/tempdir/train/healthy/Healthy207.jpg\n",
            "/content/BangladeshiCrops/BangladeshiCrops/Crop___Disease/Wheat/Wheat___Healthy/Healthy1140.jpg\n",
            "/content/tempdir/train/healthy/Healthy1140.jpg\n",
            "/content/BangladeshiCrops/BangladeshiCrops/Crop___Disease/Wheat/Wheat___Healthy/Healthy771.jpg\n",
            "/content/tempdir/train/healthy/Healthy771.jpg\n",
            "/content/BangladeshiCrops/BangladeshiCrops/Crop___Disease/Wheat/Wheat___Healthy/Healthy1385.jpg\n",
            "/content/tempdir/train/healthy/Healthy1385.jpg\n",
            "/content/BangladeshiCrops/BangladeshiCrops/Crop___Disease/Wheat/Wheat___Healthy/Healthy946.jpg\n",
            "/content/tempdir/train/healthy/Healthy946.jpg\n",
            "/content/BangladeshiCrops/BangladeshiCrops/Crop___Disease/Wheat/Wheat___Healthy/Healthy1188.jpg\n",
            "/content/tempdir/train/healthy/Healthy1188.jpg\n",
            "/content/BangladeshiCrops/BangladeshiCrops/Crop___Disease/Wheat/Wheat___Healthy/Healthy070.jpg\n",
            "/content/tempdir/train/healthy/Healthy070.jpg\n",
            "/content/BangladeshiCrops/BangladeshiCrops/Crop___Disease/Wheat/Wheat___Healthy/Healthy136.jpg\n",
            "/content/tempdir/train/healthy/Healthy136.jpg\n",
            "/content/BangladeshiCrops/BangladeshiCrops/Crop___Disease/Wheat/Wheat___Healthy/Healthy598.jpg\n",
            "/content/tempdir/train/healthy/Healthy598.jpg\n",
            "/content/BangladeshiCrops/BangladeshiCrops/Crop___Disease/Wheat/Wheat___Healthy/Healthy454.jpg\n",
            "/content/tempdir/train/healthy/Healthy454.jpg\n",
            "/content/BangladeshiCrops/BangladeshiCrops/Crop___Disease/Wheat/Wheat___Healthy/Healthy212.jpg\n",
            "/content/tempdir/train/healthy/Healthy212.jpg\n",
            "/content/BangladeshiCrops/BangladeshiCrops/Crop___Disease/Wheat/Wheat___Healthy/Healthy323.jpg\n",
            "/content/tempdir/train/healthy/Healthy323.jpg\n",
            "/content/BangladeshiCrops/BangladeshiCrops/Crop___Disease/Wheat/Wheat___Healthy/Healthy588.jpg\n",
            "/content/tempdir/train/healthy/Healthy588.jpg\n",
            "/content/BangladeshiCrops/BangladeshiCrops/Crop___Disease/Wheat/Wheat___Healthy/Healthy1237.jpg\n",
            "/content/tempdir/train/healthy/Healthy1237.jpg\n",
            "/content/BangladeshiCrops/BangladeshiCrops/Crop___Disease/Wheat/Wheat___Healthy/Healthy648.jpg\n",
            "/content/tempdir/train/healthy/Healthy648.jpg\n",
            "/content/BangladeshiCrops/BangladeshiCrops/Crop___Disease/Wheat/Wheat___Healthy/Healthy582.jpg\n",
            "/content/tempdir/train/healthy/Healthy582.jpg\n",
            "/content/BangladeshiCrops/BangladeshiCrops/Crop___Disease/Wheat/Wheat___Healthy/Healthy547.jpg\n",
            "/content/tempdir/train/healthy/Healthy547.jpg\n",
            "/content/BangladeshiCrops/BangladeshiCrops/Crop___Disease/Wheat/Wheat___Healthy/Healthy1376.jpg\n",
            "/content/tempdir/train/healthy/Healthy1376.jpg\n",
            "/content/BangladeshiCrops/BangladeshiCrops/Crop___Disease/Wheat/Wheat___Healthy/Healthy589.jpg\n",
            "/content/tempdir/train/healthy/Healthy589.jpg\n",
            "/content/BangladeshiCrops/BangladeshiCrops/Crop___Disease/Wheat/Wheat___Healthy/Healthy114.jpg\n",
            "/content/tempdir/train/healthy/Healthy114.jpg\n",
            "/content/BangladeshiCrops/BangladeshiCrops/Crop___Disease/Wheat/Wheat___Healthy/Healthy676.jpg\n",
            "/content/tempdir/train/healthy/Healthy676.jpg\n",
            "/content/BangladeshiCrops/BangladeshiCrops/Crop___Disease/Wheat/Wheat___Healthy/Healthy374.jpg\n",
            "/content/tempdir/train/healthy/Healthy374.jpg\n",
            "/content/BangladeshiCrops/BangladeshiCrops/Crop___Disease/Wheat/Wheat___Healthy/Healthy1040.jpg\n",
            "/content/tempdir/train/healthy/Healthy1040.jpg\n",
            "/content/BangladeshiCrops/BangladeshiCrops/Crop___Disease/Wheat/Wheat___Healthy/Healthy1130.jpg\n",
            "/content/tempdir/train/healthy/Healthy1130.jpg\n",
            "/content/BangladeshiCrops/BangladeshiCrops/Crop___Disease/Wheat/Wheat___Healthy/Healthy847.jpg\n",
            "/content/tempdir/train/healthy/Healthy847.jpg\n",
            "/content/BangladeshiCrops/BangladeshiCrops/Crop___Disease/Wheat/Wheat___Healthy/Healthy160.jpg\n",
            "/content/tempdir/train/healthy/Healthy160.jpg\n",
            "/content/BangladeshiCrops/BangladeshiCrops/Crop___Disease/Wheat/Wheat___Healthy/Healthy389.jpg\n",
            "/content/tempdir/train/healthy/Healthy389.jpg\n",
            "/content/BangladeshiCrops/BangladeshiCrops/Crop___Disease/Wheat/Wheat___Healthy/Healthy597.jpg\n",
            "/content/tempdir/train/healthy/Healthy597.jpg\n",
            "/content/BangladeshiCrops/BangladeshiCrops/Crop___Disease/Wheat/Wheat___Healthy/Healthy841.jpg\n",
            "/content/tempdir/train/healthy/Healthy841.jpg\n",
            "/content/BangladeshiCrops/BangladeshiCrops/Crop___Disease/Wheat/Wheat___Healthy/Healthy1346.jpg\n",
            "/content/tempdir/train/healthy/Healthy1346.jpg\n",
            "/content/BangladeshiCrops/BangladeshiCrops/Crop___Disease/Wheat/Wheat___Healthy/Healthy636.jpg\n",
            "/content/tempdir/train/healthy/Healthy636.jpg\n",
            "/content/BangladeshiCrops/BangladeshiCrops/Crop___Disease/Wheat/Wheat___Healthy/Healthy1255.jpg\n",
            "/content/tempdir/train/healthy/Healthy1255.jpg\n",
            "/content/BangladeshiCrops/BangladeshiCrops/Crop___Disease/Wheat/Wheat___Healthy/Healthy1241.jpg\n",
            "/content/tempdir/train/healthy/Healthy1241.jpg\n",
            "/content/BangladeshiCrops/BangladeshiCrops/Crop___Disease/Wheat/Wheat___Healthy/Healthy516.jpg\n",
            "/content/tempdir/train/healthy/Healthy516.jpg\n",
            "/content/BangladeshiCrops/BangladeshiCrops/Crop___Disease/Wheat/Wheat___Healthy/Healthy104.jpg\n",
            "/content/tempdir/train/healthy/Healthy104.jpg\n",
            "/content/BangladeshiCrops/BangladeshiCrops/Crop___Disease/Wheat/Wheat___Healthy/Healthy778.jpg\n",
            "/content/tempdir/train/healthy/Healthy778.jpg\n",
            "/content/BangladeshiCrops/BangladeshiCrops/Crop___Disease/Wheat/Wheat___Healthy/Healthy1348.jpg\n",
            "/content/tempdir/train/healthy/Healthy1348.jpg\n",
            "/content/BangladeshiCrops/BangladeshiCrops/Crop___Disease/Wheat/Wheat___Healthy/Healthy1291.jpg\n",
            "/content/tempdir/train/healthy/Healthy1291.jpg\n",
            "/content/BangladeshiCrops/BangladeshiCrops/Crop___Disease/Wheat/Wheat___Healthy/Healthy1114.jpg\n",
            "/content/tempdir/train/healthy/Healthy1114.jpg\n",
            "/content/BangladeshiCrops/BangladeshiCrops/Crop___Disease/Wheat/Wheat___Healthy/Healthy1045.jpg\n",
            "/content/tempdir/train/healthy/Healthy1045.jpg\n",
            "/content/BangladeshiCrops/BangladeshiCrops/Crop___Disease/Wheat/Wheat___Healthy/Healthy814.jpg\n",
            "/content/tempdir/train/healthy/Healthy814.jpg\n",
            "/content/BangladeshiCrops/BangladeshiCrops/Crop___Disease/Wheat/Wheat___Healthy/Healthy993.jpg\n",
            "/content/tempdir/train/healthy/Healthy993.jpg\n",
            "/content/BangladeshiCrops/BangladeshiCrops/Crop___Disease/Wheat/Wheat___Healthy/Healthy391.jpg\n",
            "/content/tempdir/train/healthy/Healthy391.jpg\n",
            "/content/BangladeshiCrops/BangladeshiCrops/Crop___Disease/Wheat/Wheat___Healthy/Healthy691.jpg\n",
            "/content/tempdir/train/healthy/Healthy691.jpg\n",
            "/content/BangladeshiCrops/BangladeshiCrops/Crop___Disease/Wheat/Wheat___Healthy/Healthy178.jpg\n",
            "/content/tempdir/train/healthy/Healthy178.jpg\n",
            "/content/BangladeshiCrops/BangladeshiCrops/Crop___Disease/Wheat/Wheat___Healthy/Healthy1179.jpg\n",
            "/content/tempdir/train/healthy/Healthy1179.jpg\n",
            "/content/BangladeshiCrops/BangladeshiCrops/Crop___Disease/Wheat/Wheat___Healthy/Healthy1215.jpg\n",
            "/content/tempdir/train/healthy/Healthy1215.jpg\n",
            "/content/BangladeshiCrops/BangladeshiCrops/Crop___Disease/Wheat/Wheat___Healthy/Healthy065.jpg\n",
            "/content/tempdir/train/healthy/Healthy065.jpg\n",
            "/content/BangladeshiCrops/BangladeshiCrops/Crop___Disease/Wheat/Wheat___Healthy/Healthy638.jpg\n",
            "/content/tempdir/train/healthy/Healthy638.jpg\n",
            "/content/BangladeshiCrops/BangladeshiCrops/Crop___Disease/Wheat/Wheat___Healthy/Healthy653.jpg\n",
            "/content/tempdir/train/healthy/Healthy653.jpg\n",
            "/content/BangladeshiCrops/BangladeshiCrops/Crop___Disease/Wheat/Wheat___Healthy/Healthy1198.jpg\n",
            "/content/tempdir/train/healthy/Healthy1198.jpg\n",
            "/content/BangladeshiCrops/BangladeshiCrops/Crop___Disease/Wheat/Wheat___Healthy/Healthy781.jpg\n",
            "/content/tempdir/train/healthy/Healthy781.jpg\n",
            "/content/BangladeshiCrops/BangladeshiCrops/Crop___Disease/Wheat/Wheat___Healthy/Healthy310.jpg\n",
            "/content/tempdir/train/healthy/Healthy310.jpg\n",
            "/content/BangladeshiCrops/BangladeshiCrops/Crop___Disease/Wheat/Wheat___Healthy/Healthy878.jpg\n",
            "/content/tempdir/train/healthy/Healthy878.jpg\n",
            "/content/BangladeshiCrops/BangladeshiCrops/Crop___Disease/Wheat/Wheat___Healthy/Healthy851.jpg\n",
            "/content/tempdir/train/healthy/Healthy851.jpg\n",
            "/content/BangladeshiCrops/BangladeshiCrops/Crop___Disease/Wheat/Wheat___Healthy/Healthy593.jpg\n",
            "/content/tempdir/train/healthy/Healthy593.jpg\n",
            "/content/BangladeshiCrops/BangladeshiCrops/Crop___Disease/Wheat/Wheat___Healthy/Healthy232.jpg\n",
            "/content/tempdir/train/healthy/Healthy232.jpg\n",
            "/content/BangladeshiCrops/BangladeshiCrops/Crop___Disease/Wheat/Wheat___Healthy/Healthy610.jpg\n",
            "/content/tempdir/train/healthy/Healthy610.jpg\n",
            "/content/BangladeshiCrops/BangladeshiCrops/Crop___Disease/Wheat/Wheat___Healthy/Healthy259.jpg\n",
            "/content/tempdir/train/healthy/Healthy259.jpg\n",
            "/content/BangladeshiCrops/BangladeshiCrops/Crop___Disease/Wheat/Wheat___Healthy/Healthy216.jpg\n",
            "/content/tempdir/train/healthy/Healthy216.jpg\n",
            "/content/BangladeshiCrops/BangladeshiCrops/Crop___Disease/Wheat/Wheat___Healthy/Healthy955.jpg\n",
            "/content/tempdir/train/healthy/Healthy955.jpg\n",
            "/content/BangladeshiCrops/BangladeshiCrops/Crop___Disease/Wheat/Wheat___Healthy/Healthy950.jpg\n",
            "/content/tempdir/train/healthy/Healthy950.jpg\n",
            "/content/BangladeshiCrops/BangladeshiCrops/Crop___Disease/Wheat/Wheat___Healthy/Healthy817.jpg\n",
            "/content/tempdir/train/healthy/Healthy817.jpg\n",
            "/content/BangladeshiCrops/BangladeshiCrops/Crop___Disease/Wheat/Wheat___Healthy/Healthy826.jpg\n",
            "/content/tempdir/train/healthy/Healthy826.jpg\n",
            "/content/BangladeshiCrops/BangladeshiCrops/Crop___Disease/Wheat/Wheat___Healthy/Healthy425.jpg\n",
            "/content/tempdir/train/healthy/Healthy425.jpg\n",
            "/content/BangladeshiCrops/BangladeshiCrops/Crop___Disease/Wheat/Wheat___Healthy/Healthy1092.jpg\n",
            "/content/tempdir/train/healthy/Healthy1092.jpg\n",
            "/content/BangladeshiCrops/BangladeshiCrops/Crop___Disease/Wheat/Wheat___Healthy/Healthy1352.jpg\n",
            "/content/tempdir/train/healthy/Healthy1352.jpg\n",
            "/content/BangladeshiCrops/BangladeshiCrops/Crop___Disease/Wheat/Wheat___Healthy/Healthy1122.jpg\n",
            "/content/tempdir/train/healthy/Healthy1122.jpg\n",
            "/content/BangladeshiCrops/BangladeshiCrops/Crop___Disease/Wheat/Wheat___Healthy/Healthy1347.jpg\n",
            "/content/tempdir/train/healthy/Healthy1347.jpg\n",
            "/content/BangladeshiCrops/BangladeshiCrops/Crop___Disease/Wheat/Wheat___Healthy/Healthy1256.jpg\n",
            "/content/tempdir/train/healthy/Healthy1256.jpg\n",
            "/content/BangladeshiCrops/BangladeshiCrops/Crop___Disease/Wheat/Wheat___Healthy/Healthy1128.jpg\n",
            "/content/tempdir/train/healthy/Healthy1128.jpg\n",
            "/content/BangladeshiCrops/BangladeshiCrops/Crop___Disease/Wheat/Wheat___Healthy/Healthy219.jpg\n",
            "/content/tempdir/train/healthy/Healthy219.jpg\n",
            "/content/BangladeshiCrops/BangladeshiCrops/Crop___Disease/Wheat/Wheat___Healthy/Healthy1394.jpg\n",
            "/content/tempdir/train/healthy/Healthy1394.jpg\n",
            "/content/BangladeshiCrops/BangladeshiCrops/Crop___Disease/Wheat/Wheat___Healthy/Healthy1048.jpg\n",
            "/content/tempdir/train/healthy/Healthy1048.jpg\n",
            "/content/BangladeshiCrops/BangladeshiCrops/Crop___Disease/Wheat/Wheat___Healthy/Healthy108.jpg\n",
            "/content/tempdir/train/healthy/Healthy108.jpg\n",
            "/content/BangladeshiCrops/BangladeshiCrops/Crop___Disease/Wheat/Wheat___Healthy/Healthy783.jpg\n",
            "/content/tempdir/train/healthy/Healthy783.jpg\n",
            "/content/BangladeshiCrops/BangladeshiCrops/Crop___Disease/Wheat/Wheat___Healthy/Healthy086.jpg\n",
            "/content/tempdir/train/healthy/Healthy086.jpg\n",
            "/content/BangladeshiCrops/BangladeshiCrops/Crop___Disease/Wheat/Wheat___Healthy/Healthy061.jpg\n",
            "/content/tempdir/train/healthy/Healthy061.jpg\n",
            "/content/BangladeshiCrops/BangladeshiCrops/Crop___Disease/Wheat/Wheat___Healthy/Healthy643.jpg\n",
            "/content/tempdir/train/healthy/Healthy643.jpg\n",
            "/content/BangladeshiCrops/BangladeshiCrops/Crop___Disease/Wheat/Wheat___Healthy/Healthy881.jpg\n",
            "/content/tempdir/train/healthy/Healthy881.jpg\n",
            "/content/BangladeshiCrops/BangladeshiCrops/Crop___Disease/Wheat/Wheat___Healthy/Healthy182.jpg\n",
            "/content/tempdir/train/healthy/Healthy182.jpg\n",
            "/content/BangladeshiCrops/BangladeshiCrops/Crop___Disease/Wheat/Wheat___Healthy/Healthy1216.jpg\n",
            "/content/tempdir/train/healthy/Healthy1216.jpg\n",
            "/content/BangladeshiCrops/BangladeshiCrops/Crop___Disease/Wheat/Wheat___Healthy/Healthy236.jpg\n",
            "/content/tempdir/train/healthy/Healthy236.jpg\n",
            "/content/BangladeshiCrops/BangladeshiCrops/Crop___Disease/Wheat/Wheat___Healthy/Healthy1338.jpg\n",
            "/content/tempdir/train/healthy/Healthy1338.jpg\n",
            "/content/BangladeshiCrops/BangladeshiCrops/Crop___Disease/Wheat/Wheat___Healthy/Healthy698.jpg\n",
            "/content/tempdir/train/healthy/Healthy698.jpg\n",
            "/content/BangladeshiCrops/BangladeshiCrops/Crop___Disease/Wheat/Wheat___Healthy/Healthy739.jpg\n",
            "/content/tempdir/train/healthy/Healthy739.jpg\n",
            "/content/BangladeshiCrops/BangladeshiCrops/Crop___Disease/Wheat/Wheat___Healthy/Healthy405.jpg\n",
            "/content/tempdir/train/healthy/Healthy405.jpg\n",
            "/content/BangladeshiCrops/BangladeshiCrops/Crop___Disease/Wheat/Wheat___Healthy/Healthy396.jpg\n",
            "/content/tempdir/train/healthy/Healthy396.jpg\n",
            "/content/BangladeshiCrops/BangladeshiCrops/Crop___Disease/Wheat/Wheat___Healthy/Healthy656.jpg\n",
            "/content/tempdir/train/healthy/Healthy656.jpg\n",
            "/content/BangladeshiCrops/BangladeshiCrops/Crop___Disease/Wheat/Wheat___Healthy/Healthy1058.jpg\n",
            "/content/tempdir/train/healthy/Healthy1058.jpg\n",
            "/content/BangladeshiCrops/BangladeshiCrops/Crop___Disease/Wheat/Wheat___Healthy/Healthy1303.jpg\n",
            "/content/tempdir/train/healthy/Healthy1303.jpg\n",
            "/content/BangladeshiCrops/BangladeshiCrops/Crop___Disease/Wheat/Wheat___Healthy/Healthy470.jpg\n",
            "/content/tempdir/train/healthy/Healthy470.jpg\n",
            "/content/BangladeshiCrops/BangladeshiCrops/Crop___Disease/Wheat/Wheat___Healthy/Healthy039.jpg\n",
            "/content/tempdir/train/healthy/Healthy039.jpg\n",
            "/content/BangladeshiCrops/BangladeshiCrops/Crop___Disease/Wheat/Wheat___Healthy/Healthy064.jpg\n",
            "/content/tempdir/train/healthy/Healthy064.jpg\n",
            "/content/BangladeshiCrops/BangladeshiCrops/Crop___Disease/Wheat/Wheat___Healthy/Healthy299.jpg\n",
            "/content/tempdir/train/healthy/Healthy299.jpg\n",
            "/content/BangladeshiCrops/BangladeshiCrops/Crop___Disease/Wheat/Wheat___Healthy/Healthy355.jpg\n",
            "/content/tempdir/train/healthy/Healthy355.jpg\n",
            "/content/BangladeshiCrops/BangladeshiCrops/Crop___Disease/Wheat/Wheat___Healthy/Healthy670.jpg\n",
            "/content/tempdir/train/healthy/Healthy670.jpg\n",
            "/content/BangladeshiCrops/BangladeshiCrops/Crop___Disease/Wheat/Wheat___Healthy/Healthy1251.jpg\n",
            "/content/tempdir/train/healthy/Healthy1251.jpg\n",
            "/content/BangladeshiCrops/BangladeshiCrops/Crop___Disease/Wheat/Wheat___Healthy/Healthy185.jpg\n",
            "/content/tempdir/train/healthy/Healthy185.jpg\n",
            "/content/BangladeshiCrops/BangladeshiCrops/Crop___Disease/Wheat/Wheat___Healthy/Healthy679.jpg\n",
            "/content/tempdir/train/healthy/Healthy679.jpg\n",
            "/content/BangladeshiCrops/BangladeshiCrops/Crop___Disease/Wheat/Wheat___Healthy/Healthy852.jpg\n",
            "/content/tempdir/train/healthy/Healthy852.jpg\n",
            "/content/BangladeshiCrops/BangladeshiCrops/Crop___Disease/Wheat/Wheat___Healthy/Healthy1356.jpg\n",
            "/content/tempdir/train/healthy/Healthy1356.jpg\n",
            "/content/BangladeshiCrops/BangladeshiCrops/Crop___Disease/Wheat/Wheat___Healthy/Healthy1036.jpg\n",
            "/content/tempdir/train/healthy/Healthy1036.jpg\n",
            "/content/BangladeshiCrops/BangladeshiCrops/Crop___Disease/Wheat/Wheat___Healthy/Healthy985.jpg\n",
            "/content/tempdir/train/healthy/Healthy985.jpg\n",
            "/content/BangladeshiCrops/BangladeshiCrops/Crop___Disease/Wheat/Wheat___Healthy/Healthy994.jpg\n",
            "/content/tempdir/train/healthy/Healthy994.jpg\n",
            "/content/BangladeshiCrops/BangladeshiCrops/Crop___Disease/Wheat/Wheat___Healthy/Healthy1106.jpg\n",
            "/content/tempdir/train/healthy/Healthy1106.jpg\n",
            "/content/BangladeshiCrops/BangladeshiCrops/Crop___Disease/Wheat/Wheat___Healthy/Healthy594.jpg\n",
            "/content/tempdir/train/healthy/Healthy594.jpg\n",
            "/content/BangladeshiCrops/BangladeshiCrops/Crop___Disease/Wheat/Wheat___Healthy/Healthy1017.jpg\n",
            "/content/tempdir/train/healthy/Healthy1017.jpg\n",
            "/content/BangladeshiCrops/BangladeshiCrops/Crop___Disease/Wheat/Wheat___Healthy/Healthy1192.jpg\n",
            "/content/tempdir/train/healthy/Healthy1192.jpg\n",
            "/content/BangladeshiCrops/BangladeshiCrops/Crop___Disease/Wheat/Wheat___Healthy/Healthy1171.jpg\n",
            "/content/tempdir/train/healthy/Healthy1171.jpg\n",
            "/content/BangladeshiCrops/BangladeshiCrops/Crop___Disease/Wheat/Wheat___Healthy/Healthy1285.jpg\n",
            "/content/tempdir/train/healthy/Healthy1285.jpg\n",
            "/content/BangladeshiCrops/BangladeshiCrops/Crop___Disease/Wheat/Wheat___Healthy/Healthy714.jpg\n",
            "/content/tempdir/train/healthy/Healthy714.jpg\n",
            "/content/BangladeshiCrops/BangladeshiCrops/Crop___Disease/Wheat/Wheat___Healthy/Healthy142.jpg\n",
            "/content/tempdir/train/healthy/Healthy142.jpg\n",
            "/content/BangladeshiCrops/BangladeshiCrops/Crop___Disease/Wheat/Wheat___Healthy/Healthy575.jpg\n",
            "/content/tempdir/train/healthy/Healthy575.jpg\n",
            "/content/BangladeshiCrops/BangladeshiCrops/Crop___Disease/Wheat/Wheat___Healthy/Healthy1082.jpg\n",
            "/content/tempdir/train/healthy/Healthy1082.jpg\n",
            "/content/BangladeshiCrops/BangladeshiCrops/Crop___Disease/Wheat/Wheat___Healthy/Healthy989.jpg\n",
            "/content/tempdir/train/healthy/Healthy989.jpg\n",
            "/content/BangladeshiCrops/BangladeshiCrops/Crop___Disease/Wheat/Wheat___Healthy/Healthy892.jpg\n",
            "/content/tempdir/train/healthy/Healthy892.jpg\n",
            "/content/BangladeshiCrops/BangladeshiCrops/Crop___Disease/Wheat/Wheat___Healthy/Healthy260.jpg\n",
            "/content/tempdir/train/healthy/Healthy260.jpg\n",
            "/content/BangladeshiCrops/BangladeshiCrops/Crop___Disease/Wheat/Wheat___Healthy/Healthy623.jpg\n",
            "/content/tempdir/train/healthy/Healthy623.jpg\n",
            "/content/BangladeshiCrops/BangladeshiCrops/Crop___Disease/Wheat/Wheat___Healthy/Healthy1099.jpg\n",
            "/content/tempdir/train/healthy/Healthy1099.jpg\n",
            "/content/BangladeshiCrops/BangladeshiCrops/Crop___Disease/Wheat/Wheat___Healthy/Healthy810.jpg\n",
            "/content/tempdir/train/healthy/Healthy810.jpg\n",
            "/content/BangladeshiCrops/BangladeshiCrops/Crop___Disease/Wheat/Wheat___Healthy/Healthy811.jpg\n",
            "/content/tempdir/train/healthy/Healthy811.jpg\n",
            "/content/BangladeshiCrops/BangladeshiCrops/Crop___Disease/Wheat/Wheat___Healthy/Healthy342.jpg\n",
            "/content/tempdir/train/healthy/Healthy342.jpg\n",
            "/content/BangladeshiCrops/BangladeshiCrops/Crop___Disease/Wheat/Wheat___Healthy/Healthy791.jpg\n",
            "/content/tempdir/train/healthy/Healthy791.jpg\n",
            "/content/BangladeshiCrops/BangladeshiCrops/Crop___Disease/Wheat/Wheat___Healthy/Healthy224.jpg\n",
            "/content/tempdir/train/healthy/Healthy224.jpg\n",
            "/content/BangladeshiCrops/BangladeshiCrops/Crop___Disease/Wheat/Wheat___Healthy/Healthy1158.jpg\n",
            "/content/tempdir/train/healthy/Healthy1158.jpg\n",
            "/content/BangladeshiCrops/BangladeshiCrops/Crop___Disease/Wheat/Wheat___Healthy/Healthy1194.jpg\n",
            "/content/tempdir/train/healthy/Healthy1194.jpg\n",
            "/content/BangladeshiCrops/BangladeshiCrops/Crop___Disease/Wheat/Wheat___Healthy/Healthy1392.jpg\n",
            "/content/tempdir/train/healthy/Healthy1392.jpg\n",
            "/content/BangladeshiCrops/BangladeshiCrops/Crop___Disease/Wheat/Wheat___Healthy/Healthy226.jpg\n",
            "/content/tempdir/train/healthy/Healthy226.jpg\n",
            "/content/BangladeshiCrops/BangladeshiCrops/Crop___Disease/Wheat/Wheat___Healthy/Healthy522.jpg\n",
            "/content/tempdir/train/healthy/Healthy522.jpg\n",
            "/content/BangladeshiCrops/BangladeshiCrops/Crop___Disease/Wheat/Wheat___Healthy/Healthy1393.jpg\n",
            "/content/tempdir/train/healthy/Healthy1393.jpg\n",
            "/content/BangladeshiCrops/BangladeshiCrops/Crop___Disease/Wheat/Wheat___Healthy/Healthy1304.jpg\n",
            "/content/tempdir/train/healthy/Healthy1304.jpg\n",
            "/content/BangladeshiCrops/BangladeshiCrops/Crop___Disease/Wheat/Wheat___Healthy/Healthy294.jpg\n",
            "/content/tempdir/train/healthy/Healthy294.jpg\n",
            "/content/BangladeshiCrops/BangladeshiCrops/Crop___Disease/Wheat/Wheat___Healthy/Healthy756.jpg\n",
            "/content/tempdir/train/healthy/Healthy756.jpg\n",
            "/content/BangladeshiCrops/BangladeshiCrops/Crop___Disease/Wheat/Wheat___Healthy/Healthy324.jpg\n",
            "/content/tempdir/train/healthy/Healthy324.jpg\n",
            "/content/BangladeshiCrops/BangladeshiCrops/Crop___Disease/Wheat/Wheat___Healthy/Healthy1121.jpg\n",
            "/content/tempdir/train/healthy/Healthy1121.jpg\n",
            "/content/BangladeshiCrops/BangladeshiCrops/Crop___Disease/Wheat/Wheat___Healthy/Healthy720.jpg\n",
            "/content/tempdir/train/healthy/Healthy720.jpg\n",
            "/content/BangladeshiCrops/BangladeshiCrops/Crop___Disease/Wheat/Wheat___Healthy/Healthy227.jpg\n",
            "/content/tempdir/train/healthy/Healthy227.jpg\n",
            "/content/BangladeshiCrops/BangladeshiCrops/Crop___Disease/Wheat/Wheat___Healthy/Healthy146.jpg\n",
            "/content/tempdir/train/healthy/Healthy146.jpg\n",
            "/content/BangladeshiCrops/BangladeshiCrops/Crop___Disease/Wheat/Wheat___Healthy/Healthy619.jpg\n",
            "/content/tempdir/train/healthy/Healthy619.jpg\n",
            "/content/BangladeshiCrops/BangladeshiCrops/Crop___Disease/Wheat/Wheat___Healthy/Healthy367.jpg\n",
            "/content/tempdir/train/healthy/Healthy367.jpg\n",
            "/content/BangladeshiCrops/BangladeshiCrops/Crop___Disease/Wheat/Wheat___Healthy/Healthy148.jpg\n",
            "/content/tempdir/train/healthy/Healthy148.jpg\n",
            "/content/BangladeshiCrops/BangladeshiCrops/Crop___Disease/Wheat/Wheat___Healthy/Healthy1248.jpg\n",
            "/content/tempdir/train/healthy/Healthy1248.jpg\n",
            "/content/BangladeshiCrops/BangladeshiCrops/Crop___Disease/Wheat/Wheat___Healthy/Healthy654.jpg\n",
            "/content/tempdir/train/healthy/Healthy654.jpg\n",
            "/content/BangladeshiCrops/BangladeshiCrops/Crop___Disease/Wheat/Wheat___Healthy/Healthy419.jpg\n",
            "/content/tempdir/train/healthy/Healthy419.jpg\n",
            "/content/BangladeshiCrops/BangladeshiCrops/Crop___Disease/Wheat/Wheat___Healthy/Healthy554.jpg\n",
            "/content/tempdir/train/healthy/Healthy554.jpg\n",
            "/content/BangladeshiCrops/BangladeshiCrops/Crop___Disease/Wheat/Wheat___Healthy/Healthy735.jpg\n",
            "/content/tempdir/train/healthy/Healthy735.jpg\n",
            "/content/BangladeshiCrops/BangladeshiCrops/Crop___Disease/Wheat/Wheat___Healthy/Healthy231.jpg\n",
            "/content/tempdir/train/healthy/Healthy231.jpg\n",
            "/content/BangladeshiCrops/BangladeshiCrops/Crop___Disease/Wheat/Wheat___Healthy/Healthy645.jpg\n",
            "/content/tempdir/train/healthy/Healthy645.jpg\n",
            "/content/BangladeshiCrops/BangladeshiCrops/Crop___Disease/Wheat/Wheat___Healthy/Healthy050.jpg\n",
            "/content/tempdir/train/healthy/Healthy050.jpg\n",
            "/content/BangladeshiCrops/BangladeshiCrops/Crop___Disease/Wheat/Wheat___Healthy/Healthy497.jpg\n",
            "/content/tempdir/train/healthy/Healthy497.jpg\n",
            "/content/BangladeshiCrops/BangladeshiCrops/Crop___Disease/Wheat/Wheat___Healthy/Healthy1024.jpg\n",
            "/content/tempdir/train/healthy/Healthy1024.jpg\n",
            "/content/BangladeshiCrops/BangladeshiCrops/Crop___Disease/Wheat/Wheat___Healthy/Healthy244.jpg\n",
            "/content/tempdir/train/healthy/Healthy244.jpg\n",
            "/content/BangladeshiCrops/BangladeshiCrops/Crop___Disease/Wheat/Wheat___Healthy/Healthy131.jpg\n",
            "/content/tempdir/train/healthy/Healthy131.jpg\n",
            "/content/BangladeshiCrops/BangladeshiCrops/Crop___Disease/Wheat/Wheat___Healthy/Healthy348.jpg\n",
            "/content/tempdir/train/healthy/Healthy348.jpg\n",
            "/content/BangladeshiCrops/BangladeshiCrops/Crop___Disease/Wheat/Wheat___Healthy/Healthy919.jpg\n",
            "/content/tempdir/train/healthy/Healthy919.jpg\n",
            "/content/BangladeshiCrops/BangladeshiCrops/Crop___Disease/Wheat/Wheat___Healthy/Healthy167.jpg\n",
            "/content/tempdir/train/healthy/Healthy167.jpg\n",
            "/content/BangladeshiCrops/BangladeshiCrops/Crop___Disease/Wheat/Wheat___Healthy/Healthy172.jpg\n",
            "/content/tempdir/train/healthy/Healthy172.jpg\n",
            "/content/BangladeshiCrops/BangladeshiCrops/Crop___Disease/Wheat/Wheat___Healthy/Healthy091.jpg\n",
            "/content/tempdir/train/healthy/Healthy091.jpg\n",
            "/content/BangladeshiCrops/BangladeshiCrops/Crop___Disease/Wheat/Wheat___Healthy/Healthy724.jpg\n",
            "/content/tempdir/train/healthy/Healthy724.jpg\n",
            "/content/BangladeshiCrops/BangladeshiCrops/Crop___Disease/Wheat/Wheat___Healthy/Healthy1286.jpg\n",
            "/content/tempdir/train/healthy/Healthy1286.jpg\n",
            "/content/BangladeshiCrops/BangladeshiCrops/Crop___Disease/Wheat/Wheat___Healthy/Healthy181.jpg\n",
            "/content/tempdir/train/healthy/Healthy181.jpg\n",
            "/content/BangladeshiCrops/BangladeshiCrops/Crop___Disease/Wheat/Wheat___Healthy/Healthy303.jpg\n",
            "/content/tempdir/train/healthy/Healthy303.jpg\n",
            "/content/BangladeshiCrops/BangladeshiCrops/Crop___Disease/Wheat/Wheat___Healthy/Healthy608.jpg\n",
            "/content/tempdir/train/healthy/Healthy608.jpg\n",
            "/content/BangladeshiCrops/BangladeshiCrops/Crop___Disease/Wheat/Wheat___Healthy/Healthy378.jpg\n",
            "/content/tempdir/train/healthy/Healthy378.jpg\n",
            "/content/BangladeshiCrops/BangladeshiCrops/Crop___Disease/Wheat/Wheat___Healthy/Healthy595.jpg\n",
            "/content/tempdir/train/healthy/Healthy595.jpg\n",
            "/content/BangladeshiCrops/BangladeshiCrops/Crop___Disease/Wheat/Wheat___Healthy/Healthy842.jpg\n",
            "/content/tempdir/train/healthy/Healthy842.jpg\n",
            "/content/BangladeshiCrops/BangladeshiCrops/Crop___Disease/Wheat/Wheat___Healthy/Healthy928.jpg\n",
            "/content/tempdir/train/healthy/Healthy928.jpg\n",
            "/content/BangladeshiCrops/BangladeshiCrops/Crop___Disease/Wheat/Wheat___Healthy/Healthy1317.jpg\n",
            "/content/tempdir/train/healthy/Healthy1317.jpg\n",
            "/content/BangladeshiCrops/BangladeshiCrops/Crop___Disease/Wheat/Wheat___Healthy/Healthy1242.jpg\n",
            "/content/tempdir/train/healthy/Healthy1242.jpg\n",
            "/content/BangladeshiCrops/BangladeshiCrops/Crop___Disease/Wheat/Wheat___Healthy/Healthy443.jpg\n",
            "/content/tempdir/train/healthy/Healthy443.jpg\n",
            "/content/BangladeshiCrops/BangladeshiCrops/Crop___Disease/Wheat/Wheat___Healthy/Healthy629.jpg\n",
            "/content/tempdir/train/healthy/Healthy629.jpg\n",
            "/content/BangladeshiCrops/BangladeshiCrops/Crop___Disease/Wheat/Wheat___Healthy/Healthy109.jpg\n",
            "/content/tempdir/train/healthy/Healthy109.jpg\n",
            "/content/BangladeshiCrops/BangladeshiCrops/Crop___Disease/Wheat/Wheat___Healthy/Healthy571.jpg\n",
            "/content/tempdir/train/healthy/Healthy571.jpg\n",
            "/content/BangladeshiCrops/BangladeshiCrops/Crop___Disease/Wheat/Wheat___Healthy/Healthy951.jpg\n",
            "/content/tempdir/train/healthy/Healthy951.jpg\n",
            "/content/BangladeshiCrops/BangladeshiCrops/Crop___Disease/Wheat/Wheat___Healthy/Healthy258.jpg\n",
            "/content/tempdir/train/healthy/Healthy258.jpg\n",
            "/content/BangladeshiCrops/BangladeshiCrops/Crop___Disease/Wheat/Wheat___Healthy/Healthy745.jpg\n",
            "/content/tempdir/train/healthy/Healthy745.jpg\n",
            "/content/BangladeshiCrops/BangladeshiCrops/Crop___Disease/Wheat/Wheat___Healthy/Healthy242.jpg\n",
            "/content/tempdir/train/healthy/Healthy242.jpg\n",
            "/content/BangladeshiCrops/BangladeshiCrops/Crop___Disease/Wheat/Wheat___Healthy/Healthy762.jpg\n",
            "/content/tempdir/train/healthy/Healthy762.jpg\n",
            "/content/BangladeshiCrops/BangladeshiCrops/Crop___Disease/Wheat/Wheat___Healthy/Healthy1101.jpg\n",
            "/content/tempdir/train/healthy/Healthy1101.jpg\n",
            "/content/BangladeshiCrops/BangladeshiCrops/Crop___Disease/Wheat/Wheat___Healthy/Healthy1197.jpg\n",
            "/content/tempdir/train/healthy/Healthy1197.jpg\n",
            "/content/BangladeshiCrops/BangladeshiCrops/Crop___Disease/Wheat/Wheat___Healthy/Healthy523.jpg\n",
            "/content/tempdir/train/healthy/Healthy523.jpg\n",
            "/content/BangladeshiCrops/BangladeshiCrops/Crop___Disease/Wheat/Wheat___Healthy/Healthy1200.jpg\n",
            "/content/tempdir/train/healthy/Healthy1200.jpg\n",
            "/content/BangladeshiCrops/BangladeshiCrops/Crop___Disease/Wheat/Wheat___Healthy/Healthy202.jpg\n",
            "/content/tempdir/train/healthy/Healthy202.jpg\n",
            "/content/BangladeshiCrops/BangladeshiCrops/Crop___Disease/Wheat/Wheat___Healthy/Healthy281.jpg\n",
            "/content/tempdir/train/healthy/Healthy281.jpg\n",
            "/content/BangladeshiCrops/BangladeshiCrops/Crop___Disease/Wheat/Wheat___Healthy/Healthy377.jpg\n",
            "/content/tempdir/train/healthy/Healthy377.jpg\n",
            "/content/BangladeshiCrops/BangladeshiCrops/Crop___Disease/Wheat/Wheat___Healthy/Healthy888.jpg\n",
            "/content/tempdir/train/healthy/Healthy888.jpg\n",
            "/content/BangladeshiCrops/BangladeshiCrops/Crop___Disease/Wheat/Wheat___Healthy/Healthy438.jpg\n",
            "/content/tempdir/train/healthy/Healthy438.jpg\n",
            "/content/BangladeshiCrops/BangladeshiCrops/Crop___Disease/Wheat/Wheat___Healthy/Healthy014.jpg\n",
            "/content/tempdir/train/healthy/Healthy014.jpg\n",
            "/content/BangladeshiCrops/BangladeshiCrops/Crop___Disease/Wheat/Wheat___Healthy/Healthy527.jpg\n",
            "/content/tempdir/train/healthy/Healthy527.jpg\n",
            "/content/BangladeshiCrops/BangladeshiCrops/Crop___Disease/Wheat/Wheat___Healthy/Healthy336.jpg\n",
            "/content/tempdir/train/healthy/Healthy336.jpg\n",
            "/content/BangladeshiCrops/BangladeshiCrops/Crop___Disease/Wheat/Wheat___Healthy/Healthy237.jpg\n",
            "/content/tempdir/train/healthy/Healthy237.jpg\n",
            "/content/BangladeshiCrops/BangladeshiCrops/Crop___Disease/Wheat/Wheat___Healthy/Healthy415.jpg\n",
            "/content/tempdir/train/healthy/Healthy415.jpg\n",
            "/content/BangladeshiCrops/BangladeshiCrops/Crop___Disease/Wheat/Wheat___Healthy/Healthy963.jpg\n",
            "/content/tempdir/train/healthy/Healthy963.jpg\n",
            "/content/BangladeshiCrops/BangladeshiCrops/Crop___Disease/Wheat/Wheat___Healthy/Healthy1081.jpg\n",
            "/content/tempdir/train/healthy/Healthy1081.jpg\n",
            "/content/BangladeshiCrops/BangladeshiCrops/Crop___Disease/Wheat/Wheat___Healthy/Healthy849.jpg\n",
            "/content/tempdir/train/healthy/Healthy849.jpg\n",
            "/content/BangladeshiCrops/BangladeshiCrops/Crop___Disease/Wheat/Wheat___Healthy/Healthy903.jpg\n",
            "/content/tempdir/train/healthy/Healthy903.jpg\n",
            "/content/BangladeshiCrops/BangladeshiCrops/Crop___Disease/Wheat/Wheat___Healthy/Healthy1370.jpg\n",
            "/content/tempdir/train/healthy/Healthy1370.jpg\n",
            "/content/BangladeshiCrops/BangladeshiCrops/Crop___Disease/Wheat/Wheat___Healthy/Healthy1129.jpg\n",
            "/content/tempdir/train/healthy/Healthy1129.jpg\n",
            "/content/BangladeshiCrops/BangladeshiCrops/Crop___Disease/Wheat/Wheat___Healthy/Healthy353.jpg\n",
            "/content/tempdir/train/healthy/Healthy353.jpg\n",
            "/content/BangladeshiCrops/BangladeshiCrops/Crop___Disease/Wheat/Wheat___Healthy/Healthy1084.jpg\n",
            "/content/tempdir/train/healthy/Healthy1084.jpg\n",
            "/content/BangladeshiCrops/BangladeshiCrops/Crop___Disease/Wheat/Wheat___Healthy/Healthy239.jpg\n",
            "/content/tempdir/train/healthy/Healthy239.jpg\n",
            "/content/BangladeshiCrops/BangladeshiCrops/Crop___Disease/Wheat/Wheat___Healthy/Healthy451.jpg\n",
            "/content/tempdir/train/healthy/Healthy451.jpg\n",
            "/content/BangladeshiCrops/BangladeshiCrops/Crop___Disease/Wheat/Wheat___Healthy/Healthy651.jpg\n",
            "/content/tempdir/train/healthy/Healthy651.jpg\n",
            "/content/BangladeshiCrops/BangladeshiCrops/Crop___Disease/Wheat/Wheat___Healthy/Healthy713.jpg\n",
            "/content/tempdir/train/healthy/Healthy713.jpg\n",
            "/content/BangladeshiCrops/BangladeshiCrops/Crop___Disease/Wheat/Wheat___Healthy/Healthy1260.jpg\n",
            "/content/tempdir/train/healthy/Healthy1260.jpg\n",
            "/content/BangladeshiCrops/BangladeshiCrops/Crop___Disease/Wheat/Wheat___Healthy/Healthy003.jpg\n",
            "/content/tempdir/train/healthy/Healthy003.jpg\n",
            "/content/BangladeshiCrops/BangladeshiCrops/Crop___Disease/Wheat/Wheat___Healthy/Healthy106.jpg\n",
            "/content/tempdir/train/healthy/Healthy106.jpg\n",
            "/content/BangladeshiCrops/BangladeshiCrops/Crop___Disease/Wheat/Wheat___Healthy/Healthy889.jpg\n",
            "/content/tempdir/train/healthy/Healthy889.jpg\n",
            "/content/BangladeshiCrops/BangladeshiCrops/Crop___Disease/Wheat/Wheat___Healthy/Healthy1046.jpg\n",
            "/content/tempdir/train/healthy/Healthy1046.jpg\n",
            "/content/BangladeshiCrops/BangladeshiCrops/Crop___Disease/Wheat/Wheat___Healthy/Healthy620.jpg\n",
            "/content/tempdir/train/healthy/Healthy620.jpg\n",
            "/content/BangladeshiCrops/BangladeshiCrops/Crop___Disease/Wheat/Wheat___Healthy/Healthy1134.jpg\n",
            "/content/tempdir/train/healthy/Healthy1134.jpg\n",
            "/content/BangladeshiCrops/BangladeshiCrops/Crop___Disease/Wheat/Wheat___Healthy/Healthy397.jpg\n",
            "/content/tempdir/train/healthy/Healthy397.jpg\n",
            "/content/BangladeshiCrops/BangladeshiCrops/Crop___Disease/Wheat/Wheat___Healthy/Healthy203.jpg\n",
            "/content/tempdir/train/healthy/Healthy203.jpg\n",
            "/content/BangladeshiCrops/BangladeshiCrops/Crop___Disease/Wheat/Wheat___Healthy/Healthy464.jpg\n",
            "/content/tempdir/train/healthy/Healthy464.jpg\n",
            "/content/BangladeshiCrops/BangladeshiCrops/Crop___Disease/Wheat/Wheat___Healthy/Healthy253.jpg\n",
            "/content/tempdir/train/healthy/Healthy253.jpg\n",
            "/content/BangladeshiCrops/BangladeshiCrops/Crop___Disease/Wheat/Wheat___Healthy/Healthy395.jpg\n",
            "/content/tempdir/train/healthy/Healthy395.jpg\n",
            "/content/BangladeshiCrops/BangladeshiCrops/Crop___Disease/Wheat/Wheat___Healthy/Healthy736.jpg\n",
            "/content/tempdir/train/healthy/Healthy736.jpg\n",
            "/content/BangladeshiCrops/BangladeshiCrops/Crop___Disease/Wheat/Wheat___Healthy/Healthy858.jpg\n",
            "/content/tempdir/train/healthy/Healthy858.jpg\n",
            "/content/BangladeshiCrops/BangladeshiCrops/Crop___Disease/Wheat/Wheat___Healthy/Healthy364.jpg\n",
            "/content/tempdir/train/healthy/Healthy364.jpg\n",
            "/content/BangladeshiCrops/BangladeshiCrops/Crop___Disease/Wheat/Wheat___Healthy/Healthy1089.jpg\n",
            "/content/tempdir/train/healthy/Healthy1089.jpg\n",
            "/content/BangladeshiCrops/BangladeshiCrops/Crop___Disease/Wheat/Wheat___Healthy/Healthy1299.jpg\n",
            "/content/tempdir/train/healthy/Healthy1299.jpg\n",
            "/content/BangladeshiCrops/BangladeshiCrops/Crop___Disease/Wheat/Wheat___Healthy/Healthy262.jpg\n",
            "/content/tempdir/train/healthy/Healthy262.jpg\n",
            "/content/BangladeshiCrops/BangladeshiCrops/Crop___Disease/Wheat/Wheat___Healthy/Healthy1316.jpg\n",
            "/content/tempdir/train/healthy/Healthy1316.jpg\n",
            "/content/BangladeshiCrops/BangladeshiCrops/Crop___Disease/Wheat/Wheat___Healthy/Healthy1090.jpg\n",
            "/content/tempdir/train/healthy/Healthy1090.jpg\n",
            "/content/BangladeshiCrops/BangladeshiCrops/Crop___Disease/Wheat/Wheat___Healthy/Healthy1298.jpg\n",
            "/content/tempdir/train/healthy/Healthy1298.jpg\n",
            "/content/BangladeshiCrops/BangladeshiCrops/Crop___Disease/Wheat/Wheat___Healthy/Healthy729.jpg\n",
            "/content/tempdir/train/healthy/Healthy729.jpg\n",
            "/content/BangladeshiCrops/BangladeshiCrops/Crop___Disease/Wheat/Wheat___Healthy/Healthy704.jpg\n",
            "/content/tempdir/train/healthy/Healthy704.jpg\n",
            "/content/BangladeshiCrops/BangladeshiCrops/Crop___Disease/Wheat/Wheat___Healthy/Healthy268.jpg\n",
            "/content/tempdir/train/healthy/Healthy268.jpg\n",
            "/content/BangladeshiCrops/BangladeshiCrops/Crop___Disease/Wheat/Wheat___Healthy/Healthy221.jpg\n",
            "/content/tempdir/train/healthy/Healthy221.jpg\n",
            "/content/BangladeshiCrops/BangladeshiCrops/Crop___Disease/Wheat/Wheat___Healthy/Healthy784.jpg\n",
            "/content/tempdir/train/healthy/Healthy784.jpg\n",
            "/content/BangladeshiCrops/BangladeshiCrops/Crop___Disease/Wheat/Wheat___Healthy/Healthy261.jpg\n",
            "/content/tempdir/train/healthy/Healthy261.jpg\n",
            "/content/BangladeshiCrops/BangladeshiCrops/Crop___Disease/Wheat/Wheat___Healthy/Healthy504.jpg\n",
            "/content/tempdir/train/healthy/Healthy504.jpg\n",
            "/content/BangladeshiCrops/BangladeshiCrops/Crop___Disease/Wheat/Wheat___Healthy/Healthy346.jpg\n",
            "/content/tempdir/train/healthy/Healthy346.jpg\n",
            "/content/BangladeshiCrops/BangladeshiCrops/Crop___Disease/Wheat/Wheat___Healthy/Healthy837.jpg\n",
            "/content/tempdir/train/healthy/Healthy837.jpg\n",
            "/content/BangladeshiCrops/BangladeshiCrops/Crop___Disease/Wheat/Wheat___Healthy/Healthy251.jpg\n",
            "/content/tempdir/train/healthy/Healthy251.jpg\n",
            "/content/BangladeshiCrops/BangladeshiCrops/Crop___Disease/Wheat/Wheat___Healthy/Healthy879.jpg\n",
            "/content/tempdir/train/healthy/Healthy879.jpg\n",
            "/content/BangladeshiCrops/BangladeshiCrops/Crop___Disease/Wheat/Wheat___Healthy/Healthy1001.jpg\n",
            "/content/tempdir/train/healthy/Healthy1001.jpg\n",
            "/content/BangladeshiCrops/BangladeshiCrops/Crop___Disease/Wheat/Wheat___Healthy/Healthy966.jpg\n",
            "/content/tempdir/train/healthy/Healthy966.jpg\n"
          ]
        }
      ]
    },
    {
      "cell_type": "code",
      "source": [
        "train_datagen = ImageDataGenerator(rescale=1./255)\n",
        "test_datagen = ImageDataGenerator(rescale=1./255)\n",
        "train_generator = train_datagen.flow_from_directory(\n",
        "    train_dir,\n",
        "    target_size=img_size,\n",
        "    batch_size=20,\n",
        "    class_mode='binary')\n",
        "validation_generator = test_datagen.flow_from_directory(\n",
        "    validation_dir,\n",
        "    target_size=img_size,\n",
        "    batch_size=20,\n",
        "    class_mode='binary')"
      ],
      "metadata": {
        "colab": {
          "base_uri": "https://localhost:8080/"
        },
        "id": "PMTFvtRFP72w",
        "outputId": "43c9001b-ff33-4da3-fbb8-e98d06c199a0"
      },
      "execution_count": 107,
      "outputs": [
        {
          "output_type": "stream",
          "name": "stdout",
          "text": [
            "Found 1225 images belonging to 2 classes.\n",
            "Found 407 images belonging to 2 classes.\n"
          ]
        }
      ]
    },
    {
      "cell_type": "code",
      "source": [
        "model = models.Sequential()\n",
        "model.add(layers.Conv2D(32, (3, 3), activation='relu',\n",
        "                        input_shape=img_size + (3,)))\n",
        "model.add(layers.MaxPooling2D((2, 2)))\n",
        "model.add(layers.Conv2D(64, (3, 3), activation='relu'))\n",
        "model.add(layers.MaxPooling2D((2, 2)))\n",
        "model.add(layers.Conv2D(128, (3, 3), activation='relu'))\n",
        "model.add(layers.MaxPooling2D((2, 2)))\n",
        "model.add(layers.Conv2D(128, (3, 3), activation='relu'))\n",
        "model.add(layers.MaxPooling2D((2, 2)))\n",
        "model.add(layers.Flatten())\n",
        "model.add(layers.Dense(512, activation='relu'))\n",
        "model.add(layers.Dense(1, activation='sigmoid'))"
      ],
      "metadata": {
        "id": "fRcGD20DQ-2P"
      },
      "execution_count": 108,
      "outputs": []
    },
    {
      "cell_type": "code",
      "source": [
        "model.summary()"
      ],
      "metadata": {
        "colab": {
          "base_uri": "https://localhost:8080/"
        },
        "id": "q5wAPqB1Rsup",
        "outputId": "9be1f6b5-27ef-461e-e07d-2f8d25dbf3e3"
      },
      "execution_count": 109,
      "outputs": [
        {
          "output_type": "stream",
          "name": "stdout",
          "text": [
            "Model: \"sequential_4\"\n",
            "_________________________________________________________________\n",
            " Layer (type)                Output Shape              Param #   \n",
            "=================================================================\n",
            " conv2d_5 (Conv2D)           (None, 370, 370, 32)      896       \n",
            "                                                                 \n",
            " max_pooling2d_4 (MaxPooling  (None, 185, 185, 32)     0         \n",
            " 2D)                                                             \n",
            "                                                                 \n",
            " conv2d_6 (Conv2D)           (None, 183, 183, 64)      18496     \n",
            "                                                                 \n",
            " max_pooling2d_5 (MaxPooling  (None, 91, 91, 64)       0         \n",
            " 2D)                                                             \n",
            "                                                                 \n",
            " conv2d_7 (Conv2D)           (None, 89, 89, 128)       73856     \n",
            "                                                                 \n",
            " max_pooling2d_6 (MaxPooling  (None, 44, 44, 128)      0         \n",
            " 2D)                                                             \n",
            "                                                                 \n",
            " conv2d_8 (Conv2D)           (None, 42, 42, 128)       147584    \n",
            "                                                                 \n",
            " max_pooling2d_7 (MaxPooling  (None, 21, 21, 128)      0         \n",
            " 2D)                                                             \n",
            "                                                                 \n",
            " flatten_1 (Flatten)         (None, 56448)             0         \n",
            "                                                                 \n",
            " dense_2 (Dense)             (None, 512)               28901888  \n",
            "                                                                 \n",
            " dense_3 (Dense)             (None, 1)                 513       \n",
            "                                                                 \n",
            "=================================================================\n",
            "Total params: 29,143,233\n",
            "Trainable params: 29,143,233\n",
            "Non-trainable params: 0\n",
            "_________________________________________________________________\n"
          ]
        }
      ]
    },
    {
      "cell_type": "code",
      "source": [
        "model.compile(loss='binary_crossentropy',\n",
        "              optimizer=optimizers.RMSprop(lr=1e-4),\n",
        "              metrics=['acc'])"
      ],
      "metadata": {
        "id": "39JTSms6dVca"
      },
      "execution_count": 110,
      "outputs": []
    },
    {
      "cell_type": "code",
      "source": [
        "history = model.fit(\n",
        "    train_generator,\n",
        "    steps_per_epoch=20,\n",
        "    epochs=20,\n",
        "    validation_data=validation_generator,\n",
        "    validation_steps=20)"
      ],
      "metadata": {
        "colab": {
          "base_uri": "https://localhost:8080/"
        },
        "id": "bD-pyreid1xn",
        "outputId": "022c5362-c6af-4c32-ce28-0887fac1799b"
      },
      "execution_count": 111,
      "outputs": [
        {
          "output_type": "stream",
          "name": "stdout",
          "text": [
            "Epoch 1/20\n",
            "20/20 [==============================] - 11s 438ms/step - loss: 0.6604 - acc: 0.6550 - val_loss: 0.3639 - val_acc: 0.7950\n",
            "Epoch 2/20\n",
            "20/20 [==============================] - 10s 523ms/step - loss: 0.3138 - acc: 0.8900 - val_loss: 0.3230 - val_acc: 0.8550\n",
            "Epoch 3/20\n",
            "20/20 [==============================] - 9s 477ms/step - loss: 0.1831 - acc: 0.9350 - val_loss: 0.8600 - val_acc: 0.7075\n",
            "Epoch 4/20\n",
            "20/20 [==============================] - 10s 502ms/step - loss: 0.1236 - acc: 0.9584 - val_loss: 0.1061 - val_acc: 0.9625\n",
            "Epoch 5/20\n",
            "20/20 [==============================] - 9s 456ms/step - loss: 0.1591 - acc: 0.9455 - val_loss: 0.0630 - val_acc: 0.9825\n",
            "Epoch 6/20\n",
            "20/20 [==============================] - 10s 510ms/step - loss: 0.1196 - acc: 0.9558 - val_loss: 0.0405 - val_acc: 0.9925\n",
            "Epoch 7/20\n",
            "20/20 [==============================] - 9s 440ms/step - loss: 0.1332 - acc: 0.9675 - val_loss: 0.0432 - val_acc: 0.9875\n",
            "Epoch 8/20\n",
            "20/20 [==============================] - 10s 489ms/step - loss: 0.0580 - acc: 0.9775 - val_loss: 0.0572 - val_acc: 0.9800\n",
            "Epoch 9/20\n",
            "20/20 [==============================] - 8s 417ms/step - loss: 0.0999 - acc: 0.9625 - val_loss: 0.0418 - val_acc: 0.9900\n",
            "Epoch 10/20\n",
            "20/20 [==============================] - 9s 471ms/step - loss: 0.0779 - acc: 0.9725 - val_loss: 0.0652 - val_acc: 0.9775\n",
            "Epoch 11/20\n",
            "20/20 [==============================] - 10s 502ms/step - loss: 0.0861 - acc: 0.9725 - val_loss: 0.0464 - val_acc: 0.9825\n",
            "Epoch 12/20\n",
            "20/20 [==============================] - 10s 521ms/step - loss: 0.0961 - acc: 0.9625 - val_loss: 0.1661 - val_acc: 0.9400\n",
            "Epoch 13/20\n",
            "20/20 [==============================] - 10s 484ms/step - loss: 0.0603 - acc: 0.9850 - val_loss: 0.0293 - val_acc: 0.9950\n",
            "Epoch 14/20\n",
            "20/20 [==============================] - 9s 470ms/step - loss: 0.0551 - acc: 0.9844 - val_loss: 0.0372 - val_acc: 0.9875\n",
            "Epoch 15/20\n",
            "20/20 [==============================] - 9s 473ms/step - loss: 0.0509 - acc: 0.9850 - val_loss: 0.0866 - val_acc: 0.9675\n",
            "Epoch 16/20\n",
            "20/20 [==============================] - 9s 464ms/step - loss: 0.0843 - acc: 0.9700 - val_loss: 0.0299 - val_acc: 0.9950\n",
            "Epoch 17/20\n",
            "20/20 [==============================] - 10s 502ms/step - loss: 0.0308 - acc: 0.9922 - val_loss: 0.0165 - val_acc: 0.9975\n",
            "Epoch 18/20\n",
            "20/20 [==============================] - 10s 532ms/step - loss: 0.0448 - acc: 0.9875 - val_loss: 0.0164 - val_acc: 1.0000\n",
            "Epoch 19/20\n",
            "20/20 [==============================] - 9s 473ms/step - loss: 0.0820 - acc: 0.9850 - val_loss: 0.0180 - val_acc: 0.9950\n",
            "Epoch 20/20\n",
            "20/20 [==============================] - 8s 414ms/step - loss: 0.0179 - acc: 0.9925 - val_loss: 0.0341 - val_acc: 0.9875\n"
          ]
        }
      ]
    },
    {
      "cell_type": "code",
      "source": [
        "acc = history.history['acc']\n",
        "val_acc = history.history['val_acc']\n",
        "loss = history.history['loss']\n",
        "val_loss = history.history['val_loss']\n",
        "epochs = range(1, len(acc) + 1)\n",
        "plt.plot(epochs, acc, 'bo', label='Training acc')\n",
        "plt.plot(epochs, val_acc, 'b', label='Validation acc')\n",
        "plt.title('Training and validation accuracy')\n",
        "plt.legend()\n",
        "plt.figure()\n",
        "plt.plot(epochs, loss, 'bo', label='Training loss')\n",
        "plt.plot(epochs, val_loss, 'b', label='Validation loss')\n",
        "plt.title('Training and validation loss')\n",
        "plt.legend()\n",
        "plt.show()"
      ],
      "metadata": {
        "colab": {
          "base_uri": "https://localhost:8080/",
          "height": 545
        },
        "id": "pUqXZIPgelw9",
        "outputId": "a79f2f4f-9c16-4aca-bbb5-4b77271f4bca"
      },
      "execution_count": 112,
      "outputs": [
        {
          "output_type": "display_data",
          "data": {
            "text/plain": [
              "<Figure size 432x288 with 1 Axes>"
            ],
            "image/png": "[encoded data removed]"
          },
          "metadata": {
            "needs_background": "light"
          }
        },
        {
          "output_type": "display_data",
          "data": {
            "text/plain": [
              "<Figure size 432x288 with 1 Axes>"
            ],
            "image/png": "[encoded data removed]"
          },
          "metadata": {
            "needs_background": "light"
          }
        }
      ]
    },
    {
      "cell_type": "code",
      "source": [],
      "metadata": {
        "id": "oZAbw011hdIo"
      },
      "execution_count": null,
      "outputs": []
    }
  ]
}